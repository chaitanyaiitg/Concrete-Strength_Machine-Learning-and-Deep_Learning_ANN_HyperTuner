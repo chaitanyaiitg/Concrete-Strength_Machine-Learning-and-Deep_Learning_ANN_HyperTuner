{
  "nbformat": 4,
  "nbformat_minor": 0,
  "metadata": {
    "accelerator": "GPU",
    "colab": {
      "name": "Concrete Strength_Machine Learning and Deep_Learning_ANN_HyperTuner.ipynb",
      "provenance": [],
      "collapsed_sections": []
    },
    "kernelspec": {
      "display_name": "Python 3",
      "language": "python",
      "name": "python3"
    },
    "language_info": {
      "codemirror_mode": {
        "name": "ipython",
        "version": 3
      },
      "file_extension": ".py",
      "mimetype": "text/x-python",
      "name": "python",
      "nbconvert_exporter": "python",
      "pygments_lexer": "ipython3",
      "version": "3.8.3"
    }
  },
  "cells": [
    {
      "cell_type": "code",
      "metadata": {
        "id": "2iig0a3Sbm2i",
        "outputId": "1e267fbb-ba65-46dc-e2c2-359f8d6d5b3f",
        "colab": {
          "base_uri": "https://localhost:8080/",
          "height": 649
        }
      },
      "source": [
        "! pip install tensorflow-gpu"
      ],
      "execution_count": 168,
      "outputs": [
        {
          "output_type": "stream",
          "text": [
            "Requirement already satisfied: tensorflow-gpu in /usr/local/lib/python3.6/dist-packages (2.3.1)\n",
            "Requirement already satisfied: astunparse==1.6.3 in /usr/local/lib/python3.6/dist-packages (from tensorflow-gpu) (1.6.3)\n",
            "Requirement already satisfied: h5py<2.11.0,>=2.10.0 in /usr/local/lib/python3.6/dist-packages (from tensorflow-gpu) (2.10.0)\n",
            "Requirement already satisfied: tensorflow-estimator<2.4.0,>=2.3.0 in /usr/local/lib/python3.6/dist-packages (from tensorflow-gpu) (2.3.0)\n",
            "Requirement already satisfied: gast==0.3.3 in /usr/local/lib/python3.6/dist-packages (from tensorflow-gpu) (0.3.3)\n",
            "Requirement already satisfied: six>=1.12.0 in /usr/local/lib/python3.6/dist-packages (from tensorflow-gpu) (1.15.0)\n",
            "Requirement already satisfied: absl-py>=0.7.0 in /usr/local/lib/python3.6/dist-packages (from tensorflow-gpu) (0.10.0)\n",
            "Requirement already satisfied: termcolor>=1.1.0 in /usr/local/lib/python3.6/dist-packages (from tensorflow-gpu) (1.1.0)\n",
            "Requirement already satisfied: wrapt>=1.11.1 in /usr/local/lib/python3.6/dist-packages (from tensorflow-gpu) (1.12.1)\n",
            "Requirement already satisfied: keras-preprocessing<1.2,>=1.1.1 in /usr/local/lib/python3.6/dist-packages (from tensorflow-gpu) (1.1.2)\n",
            "Requirement already satisfied: wheel>=0.26 in /usr/local/lib/python3.6/dist-packages (from tensorflow-gpu) (0.35.1)\n",
            "Requirement already satisfied: opt-einsum>=2.3.2 in /usr/local/lib/python3.6/dist-packages (from tensorflow-gpu) (3.3.0)\n",
            "Requirement already satisfied: tensorboard<3,>=2.3.0 in /usr/local/lib/python3.6/dist-packages (from tensorflow-gpu) (2.3.0)\n",
            "Requirement already satisfied: protobuf>=3.9.2 in /usr/local/lib/python3.6/dist-packages (from tensorflow-gpu) (3.12.4)\n",
            "Requirement already satisfied: grpcio>=1.8.6 in /usr/local/lib/python3.6/dist-packages (from tensorflow-gpu) (1.32.0)\n",
            "Requirement already satisfied: numpy<1.19.0,>=1.16.0 in /usr/local/lib/python3.6/dist-packages (from tensorflow-gpu) (1.18.5)\n",
            "Requirement already satisfied: google-pasta>=0.1.8 in /usr/local/lib/python3.6/dist-packages (from tensorflow-gpu) (0.2.0)\n",
            "Requirement already satisfied: google-auth<2,>=1.6.3 in /usr/local/lib/python3.6/dist-packages (from tensorboard<3,>=2.3.0->tensorflow-gpu) (1.17.2)\n",
            "Requirement already satisfied: werkzeug>=0.11.15 in /usr/local/lib/python3.6/dist-packages (from tensorboard<3,>=2.3.0->tensorflow-gpu) (1.0.1)\n",
            "Requirement already satisfied: tensorboard-plugin-wit>=1.6.0 in /usr/local/lib/python3.6/dist-packages (from tensorboard<3,>=2.3.0->tensorflow-gpu) (1.7.0)\n",
            "Requirement already satisfied: google-auth-oauthlib<0.5,>=0.4.1 in /usr/local/lib/python3.6/dist-packages (from tensorboard<3,>=2.3.0->tensorflow-gpu) (0.4.1)\n",
            "Requirement already satisfied: setuptools>=41.0.0 in /usr/local/lib/python3.6/dist-packages (from tensorboard<3,>=2.3.0->tensorflow-gpu) (50.3.0)\n",
            "Requirement already satisfied: markdown>=2.6.8 in /usr/local/lib/python3.6/dist-packages (from tensorboard<3,>=2.3.0->tensorflow-gpu) (3.2.2)\n",
            "Requirement already satisfied: requests<3,>=2.21.0 in /usr/local/lib/python3.6/dist-packages (from tensorboard<3,>=2.3.0->tensorflow-gpu) (2.23.0)\n",
            "Requirement already satisfied: cachetools<5.0,>=2.0.0 in /usr/local/lib/python3.6/dist-packages (from google-auth<2,>=1.6.3->tensorboard<3,>=2.3.0->tensorflow-gpu) (4.1.1)\n",
            "Requirement already satisfied: pyasn1-modules>=0.2.1 in /usr/local/lib/python3.6/dist-packages (from google-auth<2,>=1.6.3->tensorboard<3,>=2.3.0->tensorflow-gpu) (0.2.8)\n",
            "Requirement already satisfied: rsa<5,>=3.1.4; python_version >= \"3\" in /usr/local/lib/python3.6/dist-packages (from google-auth<2,>=1.6.3->tensorboard<3,>=2.3.0->tensorflow-gpu) (4.6)\n",
            "Requirement already satisfied: requests-oauthlib>=0.7.0 in /usr/local/lib/python3.6/dist-packages (from google-auth-oauthlib<0.5,>=0.4.1->tensorboard<3,>=2.3.0->tensorflow-gpu) (1.3.0)\n",
            "Requirement already satisfied: importlib-metadata; python_version < \"3.8\" in /usr/local/lib/python3.6/dist-packages (from markdown>=2.6.8->tensorboard<3,>=2.3.0->tensorflow-gpu) (2.0.0)\n",
            "Requirement already satisfied: idna<3,>=2.5 in /usr/local/lib/python3.6/dist-packages (from requests<3,>=2.21.0->tensorboard<3,>=2.3.0->tensorflow-gpu) (2.10)\n",
            "Requirement already satisfied: urllib3!=1.25.0,!=1.25.1,<1.26,>=1.21.1 in /usr/local/lib/python3.6/dist-packages (from requests<3,>=2.21.0->tensorboard<3,>=2.3.0->tensorflow-gpu) (1.24.3)\n",
            "Requirement already satisfied: chardet<4,>=3.0.2 in /usr/local/lib/python3.6/dist-packages (from requests<3,>=2.21.0->tensorboard<3,>=2.3.0->tensorflow-gpu) (3.0.4)\n",
            "Requirement already satisfied: certifi>=2017.4.17 in /usr/local/lib/python3.6/dist-packages (from requests<3,>=2.21.0->tensorboard<3,>=2.3.0->tensorflow-gpu) (2020.6.20)\n",
            "Requirement already satisfied: pyasn1<0.5.0,>=0.4.6 in /usr/local/lib/python3.6/dist-packages (from pyasn1-modules>=0.2.1->google-auth<2,>=1.6.3->tensorboard<3,>=2.3.0->tensorflow-gpu) (0.4.8)\n",
            "Requirement already satisfied: oauthlib>=3.0.0 in /usr/local/lib/python3.6/dist-packages (from requests-oauthlib>=0.7.0->google-auth-oauthlib<0.5,>=0.4.1->tensorboard<3,>=2.3.0->tensorflow-gpu) (3.1.0)\n",
            "Requirement already satisfied: zipp>=0.5 in /usr/local/lib/python3.6/dist-packages (from importlib-metadata; python_version < \"3.8\"->markdown>=2.6.8->tensorboard<3,>=2.3.0->tensorflow-gpu) (3.2.0)\n"
          ],
          "name": "stdout"
        }
      ]
    },
    {
      "cell_type": "code",
      "metadata": {
        "id": "RLuJ3IyBbzUk",
        "outputId": "98c5aadb-e35b-4df9-dd59-631fc82e7e25",
        "colab": {
          "base_uri": "https://localhost:8080/",
          "height": 119
        }
      },
      "source": [
        "! pip install keras"
      ],
      "execution_count": 169,
      "outputs": [
        {
          "output_type": "stream",
          "text": [
            "Requirement already satisfied: keras in /usr/local/lib/python3.6/dist-packages (2.4.3)\n",
            "Requirement already satisfied: numpy>=1.9.1 in /usr/local/lib/python3.6/dist-packages (from keras) (1.18.5)\n",
            "Requirement already satisfied: pyyaml in /usr/local/lib/python3.6/dist-packages (from keras) (3.13)\n",
            "Requirement already satisfied: h5py in /usr/local/lib/python3.6/dist-packages (from keras) (2.10.0)\n",
            "Requirement already satisfied: scipy>=0.14 in /usr/local/lib/python3.6/dist-packages (from keras) (1.4.1)\n",
            "Requirement already satisfied: six in /usr/local/lib/python3.6/dist-packages (from h5py->keras) (1.15.0)\n"
          ],
          "name": "stdout"
        }
      ]
    },
    {
      "cell_type": "code",
      "metadata": {
        "id": "CBH6WN3Db5qw",
        "outputId": "4e6142c5-e40d-4d58-bb07-0698690cb629",
        "colab": {
          "base_uri": "https://localhost:8080/",
          "height": 102
        }
      },
      "source": [
        "! pip install pandas"
      ],
      "execution_count": 170,
      "outputs": [
        {
          "output_type": "stream",
          "text": [
            "Requirement already satisfied: pandas in /usr/local/lib/python3.6/dist-packages (1.1.2)\n",
            "Requirement already satisfied: numpy>=1.15.4 in /usr/local/lib/python3.6/dist-packages (from pandas) (1.18.5)\n",
            "Requirement already satisfied: python-dateutil>=2.7.3 in /usr/local/lib/python3.6/dist-packages (from pandas) (2.8.1)\n",
            "Requirement already satisfied: pytz>=2017.2 in /usr/local/lib/python3.6/dist-packages (from pandas) (2018.9)\n",
            "Requirement already satisfied: six>=1.5 in /usr/local/lib/python3.6/dist-packages (from python-dateutil>=2.7.3->pandas) (1.15.0)\n"
          ],
          "name": "stdout"
        }
      ]
    },
    {
      "cell_type": "code",
      "metadata": {
        "id": "lPqXRMj_b5wC",
        "outputId": "66a67654-9a95-4463-ec29-6dd8d4b642d9",
        "colab": {
          "base_uri": "https://localhost:8080/",
          "height": 68
        }
      },
      "source": [
        "import matplotlib.pylab as plt\n",
        "import numpy as np\n",
        "import tensorflow_hub as hub\n",
        "import tensorflow as tf\n",
        "print(\"TF version:\", tf.__version__)\n",
        "print(\"Hub version:\", hub.__version__)\n",
        "print(\"GPU is\", \"available\" if tf.test.is_gpu_available() else \"NOT AVAILABLE\")"
      ],
      "execution_count": 171,
      "outputs": [
        {
          "output_type": "stream",
          "text": [
            "TF version: 2.3.1\n",
            "Hub version: 0.9.0\n",
            "GPU is available\n"
          ],
          "name": "stdout"
        }
      ]
    },
    {
      "cell_type": "code",
      "metadata": {
        "id": "izjchs6sb51O"
      },
      "source": [
        ""
      ],
      "execution_count": 5,
      "outputs": []
    },
    {
      "cell_type": "code",
      "metadata": {
        "id": "MgdvwuWPb56c"
      },
      "source": [
        ""
      ],
      "execution_count": 6,
      "outputs": []
    },
    {
      "cell_type": "code",
      "metadata": {
        "id": "qBNVQkSVb5_d",
        "outputId": "21f6e836-5bde-48ea-e8f0-d69d9fb8ef92",
        "colab": {
          "base_uri": "https://localhost:8080/",
          "height": 34
        }
      },
      "source": [
        "from google.colab import drive\n",
        "drive.mount('/content/drive')"
      ],
      "execution_count": 172,
      "outputs": [
        {
          "output_type": "stream",
          "text": [
            "Drive already mounted at /content/drive; to attempt to forcibly remount, call drive.mount(\"/content/drive\", force_remount=True).\n"
          ],
          "name": "stdout"
        }
      ]
    },
    {
      "cell_type": "code",
      "metadata": {
        "id": "XBYFY4Pbb6E2"
      },
      "source": [
        "file=\"/content/drive/My Drive/Colab Notebooks/Concrete_Strength -1.csv\"\n"
      ],
      "execution_count": 173,
      "outputs": []
    },
    {
      "cell_type": "code",
      "metadata": {
        "id": "cUPoix_vb6KO",
        "outputId": "3294dbb8-96e9-40ed-aae3-a5a09f734ab6",
        "colab": {
          "base_uri": "https://localhost:8080/",
          "height": 419
        }
      },
      "source": [
        "import pandas as pd\n",
        "df=pd.read_csv(file)\n",
        "df"
      ],
      "execution_count": 174,
      "outputs": [
        {
          "output_type": "execute_result",
          "data": {
            "text/html": [
              "<div>\n",
              "<style scoped>\n",
              "    .dataframe tbody tr th:only-of-type {\n",
              "        vertical-align: middle;\n",
              "    }\n",
              "\n",
              "    .dataframe tbody tr th {\n",
              "        vertical-align: top;\n",
              "    }\n",
              "\n",
              "    .dataframe thead th {\n",
              "        text-align: right;\n",
              "    }\n",
              "</style>\n",
              "<table border=\"1\" class=\"dataframe\">\n",
              "  <thead>\n",
              "    <tr style=\"text-align: right;\">\n",
              "      <th></th>\n",
              "      <th>Cement</th>\n",
              "      <th>Blast Furnace Slag</th>\n",
              "      <th>Fly Ash</th>\n",
              "      <th>Water</th>\n",
              "      <th>Superplasticizer</th>\n",
              "      <th>Coarse Aggregate</th>\n",
              "      <th>Fine Aggregate</th>\n",
              "      <th>Age</th>\n",
              "      <th>Compressive Strength</th>\n",
              "    </tr>\n",
              "  </thead>\n",
              "  <tbody>\n",
              "    <tr>\n",
              "      <th>0</th>\n",
              "      <td>540.0</td>\n",
              "      <td>0.0</td>\n",
              "      <td>0.0</td>\n",
              "      <td>162.0</td>\n",
              "      <td>2.5</td>\n",
              "      <td>1040.0</td>\n",
              "      <td>676.0</td>\n",
              "      <td>28</td>\n",
              "      <td>79.99</td>\n",
              "    </tr>\n",
              "    <tr>\n",
              "      <th>1</th>\n",
              "      <td>540.0</td>\n",
              "      <td>0.0</td>\n",
              "      <td>0.0</td>\n",
              "      <td>162.0</td>\n",
              "      <td>2.5</td>\n",
              "      <td>1055.0</td>\n",
              "      <td>676.0</td>\n",
              "      <td>28</td>\n",
              "      <td>61.89</td>\n",
              "    </tr>\n",
              "    <tr>\n",
              "      <th>2</th>\n",
              "      <td>332.5</td>\n",
              "      <td>142.5</td>\n",
              "      <td>0.0</td>\n",
              "      <td>228.0</td>\n",
              "      <td>0.0</td>\n",
              "      <td>932.0</td>\n",
              "      <td>594.0</td>\n",
              "      <td>270</td>\n",
              "      <td>40.27</td>\n",
              "    </tr>\n",
              "    <tr>\n",
              "      <th>3</th>\n",
              "      <td>332.5</td>\n",
              "      <td>142.5</td>\n",
              "      <td>0.0</td>\n",
              "      <td>228.0</td>\n",
              "      <td>0.0</td>\n",
              "      <td>932.0</td>\n",
              "      <td>594.0</td>\n",
              "      <td>365</td>\n",
              "      <td>41.05</td>\n",
              "    </tr>\n",
              "    <tr>\n",
              "      <th>4</th>\n",
              "      <td>198.6</td>\n",
              "      <td>132.4</td>\n",
              "      <td>0.0</td>\n",
              "      <td>192.0</td>\n",
              "      <td>0.0</td>\n",
              "      <td>978.4</td>\n",
              "      <td>825.5</td>\n",
              "      <td>360</td>\n",
              "      <td>44.30</td>\n",
              "    </tr>\n",
              "    <tr>\n",
              "      <th>...</th>\n",
              "      <td>...</td>\n",
              "      <td>...</td>\n",
              "      <td>...</td>\n",
              "      <td>...</td>\n",
              "      <td>...</td>\n",
              "      <td>...</td>\n",
              "      <td>...</td>\n",
              "      <td>...</td>\n",
              "      <td>...</td>\n",
              "    </tr>\n",
              "    <tr>\n",
              "      <th>1025</th>\n",
              "      <td>276.4</td>\n",
              "      <td>116.0</td>\n",
              "      <td>90.3</td>\n",
              "      <td>179.6</td>\n",
              "      <td>8.9</td>\n",
              "      <td>870.1</td>\n",
              "      <td>768.3</td>\n",
              "      <td>28</td>\n",
              "      <td>44.28</td>\n",
              "    </tr>\n",
              "    <tr>\n",
              "      <th>1026</th>\n",
              "      <td>322.2</td>\n",
              "      <td>0.0</td>\n",
              "      <td>115.6</td>\n",
              "      <td>196.0</td>\n",
              "      <td>10.4</td>\n",
              "      <td>817.9</td>\n",
              "      <td>813.4</td>\n",
              "      <td>28</td>\n",
              "      <td>31.18</td>\n",
              "    </tr>\n",
              "    <tr>\n",
              "      <th>1027</th>\n",
              "      <td>148.5</td>\n",
              "      <td>139.4</td>\n",
              "      <td>108.6</td>\n",
              "      <td>192.7</td>\n",
              "      <td>6.1</td>\n",
              "      <td>892.4</td>\n",
              "      <td>780.0</td>\n",
              "      <td>28</td>\n",
              "      <td>23.70</td>\n",
              "    </tr>\n",
              "    <tr>\n",
              "      <th>1028</th>\n",
              "      <td>159.1</td>\n",
              "      <td>186.7</td>\n",
              "      <td>0.0</td>\n",
              "      <td>175.6</td>\n",
              "      <td>11.3</td>\n",
              "      <td>989.6</td>\n",
              "      <td>788.9</td>\n",
              "      <td>28</td>\n",
              "      <td>32.77</td>\n",
              "    </tr>\n",
              "    <tr>\n",
              "      <th>1029</th>\n",
              "      <td>260.9</td>\n",
              "      <td>100.5</td>\n",
              "      <td>78.3</td>\n",
              "      <td>200.6</td>\n",
              "      <td>8.6</td>\n",
              "      <td>864.5</td>\n",
              "      <td>761.5</td>\n",
              "      <td>28</td>\n",
              "      <td>32.40</td>\n",
              "    </tr>\n",
              "  </tbody>\n",
              "</table>\n",
              "<p>1030 rows × 9 columns</p>\n",
              "</div>"
            ],
            "text/plain": [
              "      Cement  Blast Furnace Slag  ...  Age  Compressive Strength\n",
              "0      540.0                 0.0  ...   28                 79.99\n",
              "1      540.0                 0.0  ...   28                 61.89\n",
              "2      332.5               142.5  ...  270                 40.27\n",
              "3      332.5               142.5  ...  365                 41.05\n",
              "4      198.6               132.4  ...  360                 44.30\n",
              "...      ...                 ...  ...  ...                   ...\n",
              "1025   276.4               116.0  ...   28                 44.28\n",
              "1026   322.2                 0.0  ...   28                 31.18\n",
              "1027   148.5               139.4  ...   28                 23.70\n",
              "1028   159.1               186.7  ...   28                 32.77\n",
              "1029   260.9               100.5  ...   28                 32.40\n",
              "\n",
              "[1030 rows x 9 columns]"
            ]
          },
          "metadata": {
            "tags": []
          },
          "execution_count": 174
        }
      ]
    },
    {
      "cell_type": "code",
      "metadata": {
        "id": "4RtuEDIKrI5I",
        "outputId": "ec00570d-d711-45d6-b023-c7ec89d8220d",
        "colab": {
          "base_uri": "https://localhost:8080/",
          "height": 34
        }
      },
      "source": [
        "df.shape"
      ],
      "execution_count": 175,
      "outputs": [
        {
          "output_type": "execute_result",
          "data": {
            "text/plain": [
              "(1030, 9)"
            ]
          },
          "metadata": {
            "tags": []
          },
          "execution_count": 175
        }
      ]
    },
    {
      "cell_type": "code",
      "metadata": {
        "id": "fPUrEV8NhCJA",
        "outputId": "1136a58b-9586-4a8a-8c7c-ecaa6a1ee35e",
        "colab": {
          "base_uri": "https://localhost:8080/",
          "height": 68
        }
      },
      "source": [
        "df.columns"
      ],
      "execution_count": 11,
      "outputs": [
        {
          "output_type": "execute_result",
          "data": {
            "text/plain": [
              "Index(['Cement', 'Blast Furnace Slag', 'Fly Ash', 'Water', 'Superplasticizer',\n",
              "       'Coarse Aggregate', 'Fine Aggregate', 'Age', 'Compressive Strength'],\n",
              "      dtype='object')"
            ]
          },
          "metadata": {
            "tags": []
          },
          "execution_count": 11
        }
      ]
    },
    {
      "cell_type": "code",
      "metadata": {
        "id": "9RYxY1cRmtVx",
        "outputId": "dfbccc65-7442-4f30-b236-2bce2bdb8b45",
        "colab": {
          "base_uri": "https://localhost:8080/",
          "height": 187
        }
      },
      "source": [
        "df.isnull().sum()"
      ],
      "execution_count": 12,
      "outputs": [
        {
          "output_type": "execute_result",
          "data": {
            "text/plain": [
              "Cement                  0\n",
              "Blast Furnace Slag      0\n",
              "Fly Ash                 0\n",
              "Water                   0\n",
              "Superplasticizer        0\n",
              "Coarse Aggregate        0\n",
              "Fine Aggregate          0\n",
              "Age                     0\n",
              "Compressive Strength    0\n",
              "dtype: int64"
            ]
          },
          "metadata": {
            "tags": []
          },
          "execution_count": 12
        }
      ]
    },
    {
      "cell_type": "code",
      "metadata": {
        "id": "gzX2O-RUhgbV",
        "outputId": "0c3c3057-80fd-4ad7-fa0a-d6bba771d289",
        "colab": {
          "base_uri": "https://localhost:8080/",
          "height": 187
        }
      },
      "source": [
        "df.nunique()"
      ],
      "execution_count": 13,
      "outputs": [
        {
          "output_type": "execute_result",
          "data": {
            "text/plain": [
              "Cement                  278\n",
              "Blast Furnace Slag      185\n",
              "Fly Ash                 156\n",
              "Water                   195\n",
              "Superplasticizer        111\n",
              "Coarse Aggregate        284\n",
              "Fine Aggregate          302\n",
              "Age                      14\n",
              "Compressive Strength    845\n",
              "dtype: int64"
            ]
          },
          "metadata": {
            "tags": []
          },
          "execution_count": 13
        }
      ]
    },
    {
      "cell_type": "code",
      "metadata": {
        "id": "8OMJbk2ChgrZ",
        "outputId": "2da31a13-b640-4d6c-87c4-6f9ae26edd9a",
        "colab": {
          "base_uri": "https://localhost:8080/",
          "height": 187
        }
      },
      "source": [
        "df.dtypes"
      ],
      "execution_count": 14,
      "outputs": [
        {
          "output_type": "execute_result",
          "data": {
            "text/plain": [
              "Cement                  float64\n",
              "Blast Furnace Slag      float64\n",
              "Fly Ash                 float64\n",
              "Water                   float64\n",
              "Superplasticizer        float64\n",
              "Coarse Aggregate        float64\n",
              "Fine Aggregate          float64\n",
              "Age                       int64\n",
              "Compressive Strength    float64\n",
              "dtype: object"
            ]
          },
          "metadata": {
            "tags": []
          },
          "execution_count": 14
        }
      ]
    },
    {
      "cell_type": "code",
      "metadata": {
        "id": "4QI5yOMthggM",
        "outputId": "715eb822-b98b-4e43-c01b-cca80ae80700",
        "colab": {
          "base_uri": "https://localhost:8080/",
          "height": 387
        }
      },
      "source": [
        "import matplotlib.pyplot as plt\n",
        "%matplotlib inline\n",
        "import seaborn as sns\n",
        "sns.heatmap(df.isnull())"
      ],
      "execution_count": 15,
      "outputs": [
        {
          "output_type": "execute_result",
          "data": {
            "text/plain": [
              "<matplotlib.axes._subplots.AxesSubplot at 0x7fde90f46240>"
            ]
          },
          "metadata": {
            "tags": []
          },
          "execution_count": 15
        },
        {
          "output_type": "display_data",
          "data": {
            "image/png": "[encoded data removed]",
            "text/plain": [
              "<Figure size 432x288 with 2 Axes>"
            ]
          },
          "metadata": {
            "tags": [],
            "needs_background": "light"
          }
        }
      ]
    },
    {
      "cell_type": "code",
      "metadata": {
        "id": "-ci_pLMNrtMi",
        "outputId": "5b19ea28-672c-48ba-99ab-066f982d898f",
        "colab": {
          "base_uri": "https://localhost:8080/",
          "height": 68
        }
      },
      "source": [
        "df.columns"
      ],
      "execution_count": 16,
      "outputs": [
        {
          "output_type": "execute_result",
          "data": {
            "text/plain": [
              "Index(['Cement', 'Blast Furnace Slag', 'Fly Ash', 'Water', 'Superplasticizer',\n",
              "       'Coarse Aggregate', 'Fine Aggregate', 'Age', 'Compressive Strength'],\n",
              "      dtype='object')"
            ]
          },
          "metadata": {
            "tags": []
          },
          "execution_count": 16
        }
      ]
    },
    {
      "cell_type": "code",
      "metadata": {
        "id": "VaJF0gjTLIdK",
        "outputId": "bad4ba21-c1fd-4a44-bfdf-d485489b04f5",
        "colab": {
          "base_uri": "https://localhost:8080/",
          "height": 350
        }
      },
      "source": [
        "sns.distplot(df['Compressive Strength'])"
      ],
      "execution_count": 17,
      "outputs": [
        {
          "output_type": "stream",
          "text": [
            "/usr/local/lib/python3.6/dist-packages/seaborn/distributions.py:2551: FutureWarning: `distplot` is a deprecated function and will be removed in a future version. Please adapt your code to use either `displot` (a figure-level function with similar flexibility) or `histplot` (an axes-level function for histograms).\n",
            "  warnings.warn(msg, FutureWarning)\n"
          ],
          "name": "stderr"
        },
        {
          "output_type": "execute_result",
          "data": {
            "text/plain": [
              "<matplotlib.axes._subplots.AxesSubplot at 0x7fde8768da58>"
            ]
          },
          "metadata": {
            "tags": []
          },
          "execution_count": 17
        },
        {
          "output_type": "display_data",
          "data": {
            "image/png": "[encoded data removed]",
            "text/plain": [
              "<Figure size 432x288 with 1 Axes>"
            ]
          },
          "metadata": {
            "tags": [],
            "needs_background": "light"
          }
        }
      ]
    },
    {
      "cell_type": "code",
      "metadata": {
        "id": "_jXsAcrGLQG2",
        "outputId": "4edd7c88-261f-4967-a37f-a91b22ca94be",
        "colab": {
          "base_uri": "https://localhost:8080/",
          "height": 350
        }
      },
      "source": [
        "sns.boxplot(df['Compressive Strength'])"
      ],
      "execution_count": 18,
      "outputs": [
        {
          "output_type": "stream",
          "text": [
            "/usr/local/lib/python3.6/dist-packages/seaborn/_decorators.py:43: FutureWarning: Pass the following variable as a keyword arg: x. From version 0.12, the only valid positional argument will be `data`, and passing other arguments without an explicit keyword will result in an error or misinterpretation.\n",
            "  FutureWarning\n"
          ],
          "name": "stderr"
        },
        {
          "output_type": "execute_result",
          "data": {
            "text/plain": [
              "<matplotlib.axes._subplots.AxesSubplot at 0x7fde873a2438>"
            ]
          },
          "metadata": {
            "tags": []
          },
          "execution_count": 18
        },
        {
          "output_type": "display_data",
          "data": {
            "image/png": "[encoded data removed]",
            "text/plain": [
              "<Figure size 432x288 with 1 Axes>"
            ]
          },
          "metadata": {
            "tags": [],
            "needs_background": "light"
          }
        }
      ]
    },
    {
      "cell_type": "code",
      "metadata": {
        "id": "c3H9nOFhNJco",
        "outputId": "58ca12b4-f0c5-4c22-83e8-eb0049523cf2",
        "colab": {
          "base_uri": "https://localhost:8080/",
          "height": 400
        }
      },
      "source": [
        "sns.catplot(x='Age', y='Compressive Strength', data=df, kind='boxen')"
      ],
      "execution_count": 27,
      "outputs": [
        {
          "output_type": "execute_result",
          "data": {
            "text/plain": [
              "<seaborn.axisgrid.FacetGrid at 0x7fde862d4e10>"
            ]
          },
          "metadata": {
            "tags": []
          },
          "execution_count": 27
        },
        {
          "output_type": "display_data",
          "data": {
            "image/png": "[encoded data removed]",
            "text/plain": [
              "<Figure size 360x360 with 1 Axes>"
            ]
          },
          "metadata": {
            "tags": [],
            "needs_background": "light"
          }
        }
      ]
    },
    {
      "cell_type": "code",
      "metadata": {
        "id": "GMh4daZvLQe2",
        "outputId": "5e71d93f-eeb2-428c-d040-0736e3bdb54d",
        "colab": {
          "base_uri": "https://localhost:8080/",
          "height": 1000
        }
      },
      "source": [
        "cols=['Cement', 'Blast Furnace Slag', 'Fly Ash', 'Water', 'Superplasticizer','Coarse Aggregate', 'Fine Aggregate', 'Age']\n",
        "for i in cols:\n",
        "  sns.lmlot(x=i, y='Compressive Strength', data=df)\n",
        "  plt.title('%s vs %s' %(i, 'Compressive Strength'))"
      ],
      "execution_count": 28,
      "outputs": [
        {
          "output_type": "display_data",
          "data": {
            "image/png": "[encoded data removed]",
            "text/plain": [
              "<Figure size 360x360 with 1 Axes>"
            ]
          },
          "metadata": {
            "tags": [],
            "needs_background": "light"
          }
        },
        {
          "output_type": "display_data",
          "data": {
            "image/png": "[encoded data removed]",
            "text/plain": [
              "<Figure size 360x360 with 1 Axes>"
            ]
          },
          "metadata": {
            "tags": [],
            "needs_background": "light"
          }
        },
        {
          "output_type": "display_data",
          "data": {
            "image/png": "[encoded data removed]",
            "text/plain": [
              "<Figure size 360x360 with 1 Axes>"
            ]
          },
          "metadata": {
            "tags": [],
            "needs_background": "light"
          }
        },
        {
          "output_type": "display_data",
          "data": {
            "image/png": "[encoded data removed]",
            "text/plain": [
              "<Figure size 360x360 with 1 Axes>"
            ]
          },
          "metadata": {
            "tags": [],
            "needs_background": "light"
          }
        },
        {
          "output_type": "display_data",
          "data": {
            "image/png": "[encoded data removed]",
            "text/plain": [
              "<Figure size 360x360 with 1 Axes>"
            ]
          },
          "metadata": {
            "tags": [],
            "needs_background": "light"
          }
        },
        {
          "output_type": "display_data",
          "data": {
            "image/png": "[encoded data removed]",
            "text/plain": [
              "<Figure size 360x360 with 1 Axes>"
            ]
          },
          "metadata": {
            "tags": [],
            "needs_background": "light"
          }
        },
        {
          "output_type": "display_data",
          "data": {
            "image/png": "[encoded data removed]",
            "text/plain": [
              "<Figure size 360x360 with 1 Axes>"
            ]
          },
          "metadata": {
            "tags": [],
            "needs_background": "light"
          }
        },
        {
          "output_type": "display_data",
          "data": {
            "image/png": "[encoded data removed]",
            "text/plain": [
              "<Figure size 360x360 with 1 Axes>"
            ]
          },
          "metadata": {
            "tags": [],
            "needs_background": "light"
          }
        }
      ]
    },
    {
      "cell_type": "code",
      "metadata": {
        "id": "SLAkhivnLQqv",
        "outputId": "8959812b-d2fc-4107-e6c2-0b21a9c530ae",
        "colab": {
          "base_uri": "https://localhost:8080/",
          "height": 604
        }
      },
      "source": [
        "plt.figure(figsize=(8,8))\n",
        "sns.heatmap(df.corr(),cmap='RdYlGn',annot=True)"
      ],
      "execution_count": 29,
      "outputs": [
        {
          "output_type": "execute_result",
          "data": {
            "text/plain": [
              "<matplotlib.axes._subplots.AxesSubplot at 0x7fde828eb2e8>"
            ]
          },
          "metadata": {
            "tags": []
          },
          "execution_count": 29
        },
        {
          "output_type": "display_data",
          "data": {
            "image/png": "[encoded data removed]",
            "text/plain": [
              "<Figure size 576x576 with 2 Axes>"
            ]
          },
          "metadata": {
            "tags": [],
            "needs_background": "light"
          }
        }
      ]
    },
    {
      "cell_type": "code",
      "metadata": {
        "id": "hTN61YkNLQcK"
      },
      "source": [
        ""
      ],
      "execution_count": null,
      "outputs": []
    },
    {
      "cell_type": "code",
      "metadata": {
        "id": "4l3O1D2I5xSb"
      },
      "source": [
        "X = df.drop('Compressive Strength',axis=1)\n",
        "y = df['Compressive Strength']"
      ],
      "execution_count": 38,
      "outputs": []
    },
    {
      "cell_type": "code",
      "metadata": {
        "id": "5lazZOUzOWwW",
        "outputId": "93ba375b-694c-41e5-f932-124d489a67ff",
        "colab": {
          "base_uri": "https://localhost:8080/",
          "height": 136
        }
      },
      "source": [
        "# Important feature using ExtraTreesRegressor\n",
        "\n",
        "from sklearn.ensemble import ExtraTreesRegressor\n",
        "selection = ExtraTreesRegressor()\n",
        "selection.fit(X, y)"
      ],
      "execution_count": 39,
      "outputs": [
        {
          "output_type": "execute_result",
          "data": {
            "text/plain": [
              "ExtraTreesRegressor(bootstrap=False, ccp_alpha=0.0, criterion='mse',\n",
              "                    max_depth=None, max_features='auto', max_leaf_nodes=None,\n",
              "                    max_samples=None, min_impurity_decrease=0.0,\n",
              "                    min_impurity_split=None, min_samples_leaf=1,\n",
              "                    min_samples_split=2, min_weight_fraction_leaf=0.0,\n",
              "                    n_estimators=100, n_jobs=None, oob_score=False,\n",
              "                    random_state=None, verbose=0, warm_start=False)"
            ]
          },
          "metadata": {
            "tags": []
          },
          "execution_count": 39
        }
      ]
    },
    {
      "cell_type": "code",
      "metadata": {
        "id": "ZgNxEq3UOW5S",
        "outputId": "cdfd09af-26b2-488f-b727-7b195e8c9ecd",
        "colab": {
          "base_uri": "https://localhost:8080/",
          "height": 51
        }
      },
      "source": [
        "print(selection.feature_importances_)"
      ],
      "execution_count": 40,
      "outputs": [
        {
          "output_type": "stream",
          "text": [
            "[0.25988542 0.08722784 0.0349892  0.08364867 0.09678282 0.03230414\n",
            " 0.04239584 0.36276606]\n"
          ],
          "name": "stdout"
        }
      ]
    },
    {
      "cell_type": "code",
      "metadata": {
        "id": "wMqYQOWmOXEu",
        "outputId": "5f116387-a1dc-43b1-f36e-864790cc34fa",
        "colab": {
          "base_uri": "https://localhost:8080/",
          "height": 609
        }
      },
      "source": [
        "plt.figure(figsize=(15,10))\n",
        "feature_imp=pd.Series(selection.feature_importances_, index=X.columns)\n",
        "feature_imp.nlargest(15).plot(kind='barh')"
      ],
      "execution_count": 41,
      "outputs": [
        {
          "output_type": "execute_result",
          "data": {
            "text/plain": [
              "<matplotlib.axes._subplots.AxesSubplot at 0x7fde7ebf5e80>"
            ]
          },
          "metadata": {
            "tags": []
          },
          "execution_count": 41
        },
        {
          "output_type": "display_data",
          "data": {
            "image/png": "[encoded data removed]",
            "text/plain": [
              "<Figure size 1080x720 with 1 Axes>"
            ]
          },
          "metadata": {
            "tags": [],
            "needs_background": "light"
          }
        }
      ]
    },
    {
      "cell_type": "code",
      "metadata": {
        "id": "FT21MGkfOXRF"
      },
      "source": [
        "\n",
        "from sklearn.svm import SVR\n",
        "from sklearn.ensemble import RandomForestRegressor\n",
        "from sklearn.tree import DecisionTreeRegressor\n",
        "from sklearn.linear_model import Lasso\n",
        "from sklearn.linear_model import LinearRegression\n",
        "from xgboost import XGBRegressor\n",
        "from sklearn.neighbors import KNeighborsRegressor\n",
        "from sklearn.linear_model import Ridge\n",
        "\n",
        "from sklearn.model_selection import RandomizedSearchCV\n",
        "from sklearn.model_selection import ShuffleSplit\n",
        "from sklearn.model_selection import GridSearchCV\n",
        "from sklearn.model_selection import cross_val_score\n",
        "from sklearn.preprocessing import StandardScaler"
      ],
      "execution_count": 42,
      "outputs": []
    },
    {
      "cell_type": "code",
      "metadata": {
        "id": "mgbRf3CxOWs8"
      },
      "source": [
        "from sklearn.model_selection import train_test_split\n",
        "X_train, X_test, y_train, y_test = train_test_split(X,y,test_size=0.3,random_state=10)"
      ],
      "execution_count": 176,
      "outputs": []
    },
    {
      "cell_type": "code",
      "metadata": {
        "id": "xtdnq9AgOlv1"
      },
      "source": [
        "s=StandardScaler()\n",
        "X_train=s.fit_transform(X_train)\n",
        "X_test=s.transform(X_test)"
      ],
      "execution_count": 177,
      "outputs": []
    },
    {
      "cell_type": "code",
      "metadata": {
        "id": "Jftbg2kV5xOt",
        "outputId": "70368645-93cf-4ac4-a969-93c812acd341",
        "colab": {
          "base_uri": "https://localhost:8080/",
          "height": 34
        }
      },
      "source": [
        "X_train.shape"
      ],
      "execution_count": 45,
      "outputs": [
        {
          "output_type": "execute_result",
          "data": {
            "text/plain": [
              "(721, 8)"
            ]
          },
          "metadata": {
            "tags": []
          },
          "execution_count": 45
        }
      ]
    },
    {
      "cell_type": "code",
      "metadata": {
        "id": "SrYVvTAd9FUY",
        "outputId": "a6e693a4-2f47-4028-af8d-f51c91fdb4fe",
        "colab": {
          "base_uri": "https://localhost:8080/",
          "height": 34
        }
      },
      "source": [
        "X_test.shape"
      ],
      "execution_count": 46,
      "outputs": [
        {
          "output_type": "execute_result",
          "data": {
            "text/plain": [
              "(309, 8)"
            ]
          },
          "metadata": {
            "tags": []
          },
          "execution_count": 46
        }
      ]
    },
    {
      "cell_type": "code",
      "metadata": {
        "id": "JV9vnRf15xLu",
        "outputId": "005eda82-a05d-400f-b501-19577ddc9447",
        "colab": {
          "base_uri": "https://localhost:8080/",
          "height": 34
        }
      },
      "source": [
        "lr=LinearRegression()\n",
        "lr.fit(X_train,y_train)\n",
        "lr.score(X_test,y_test)"
      ],
      "execution_count": 47,
      "outputs": [
        {
          "output_type": "execute_result",
          "data": {
            "text/plain": [
              "0.6232763845604508"
            ]
          },
          "metadata": {
            "tags": []
          },
          "execution_count": 47
        }
      ]
    },
    {
      "cell_type": "code",
      "metadata": {
        "id": "UekEnBAdPAmz",
        "outputId": "5b07faf8-5991-4fec-9e88-bb73a50b7688",
        "colab": {
          "base_uri": "https://localhost:8080/",
          "height": 221
        }
      },
      "source": [
        "algo=[]\n",
        "value=[]\n",
        "def cross_val_score_model(model,name):\n",
        "    cv = ShuffleSplit(n_splits=5, test_size=0.3, random_state=10)\n",
        "    cv_score=cross_val_score(model,X,y,cv=cv).mean()\n",
        "    print('CV_Score' + ' '+ str(name) +': '+ str(cv_score))\n",
        "    algo.append(name)\n",
        "    value.append(cv_score)\n",
        " \n",
        "cross_val_score_model(Lasso(),'Lasso')\n",
        "cross_val_score_model(Ridge(),'Ridge')\n",
        "cross_val_score_model(KNeighborsRegressor(),'KNeighborsRegressor')\n",
        "cross_val_score_model(LinearRegression(),'LinearRegression')\n",
        "cross_val_score_model(DecisionTreeRegressor(),'DecisionTreeRegressor')\n",
        "cross_val_score_model(RandomForestRegressor(),'RandomForestRegressor')\n",
        "cross_val_score_model(XGBRegressor(),'XGBRegressor')"
      ],
      "execution_count": 52,
      "outputs": [
        {
          "output_type": "stream",
          "text": [
            "CV_Score Lasso: 0.613325554121765\n",
            "CV_Score Ridge: 0.6128504148537173\n",
            "CV_Score KNeighborsRegressor: 0.6925729612473251\n",
            "CV_Score LinearRegression: 0.612849943129472\n",
            "CV_Score DecisionTreeRegressor: 0.8228930321501171\n",
            "CV_Score RandomForestRegressor: 0.9072255110355275\n",
            "[04:36:33] WARNING: /workspace/src/objective/regression_obj.cu:152: reg:linear is now deprecated in favor of reg:squarederror.\n",
            "[04:36:33] WARNING: /workspace/src/objective/regression_obj.cu:152: reg:linear is now deprecated in favor of reg:squarederror.\n",
            "[04:36:33] WARNING: /workspace/src/objective/regression_obj.cu:152: reg:linear is now deprecated in favor of reg:squarederror.\n",
            "[04:36:33] WARNING: /workspace/src/objective/regression_obj.cu:152: reg:linear is now deprecated in favor of reg:squarederror.\n",
            "[04:36:33] WARNING: /workspace/src/objective/regression_obj.cu:152: reg:linear is now deprecated in favor of reg:squarederror.\n",
            "CV_Score XGBRegressor: 0.904784922119487\n"
          ],
          "name": "stdout"
        }
      ]
    },
    {
      "cell_type": "code",
      "metadata": {
        "id": "66WckZxoPA_M",
        "outputId": "57d41a30-1b5a-4fba-a89f-85713bcddc65",
        "colab": {
          "base_uri": "https://localhost:8080/",
          "height": 265
        }
      },
      "source": [
        "sns.barplot(x=value,y=algo)\n",
        "plt.show()"
      ],
      "execution_count": 53,
      "outputs": [
        {
          "output_type": "display_data",
          "data": {
            "image/png": "[encoded data removed]",
            "text/plain": [
              "<Figure size 432x288 with 1 Axes>"
            ]
          },
          "metadata": {
            "tags": [],
            "needs_background": "light"
          }
        }
      ]
    },
    {
      "cell_type": "code",
      "metadata": {
        "id": "1Xf3qNATPBHX",
        "outputId": "6427c089-7522-469c-e5a1-0f23624286bb",
        "colab": {
          "base_uri": "https://localhost:8080/",
          "height": 266
        }
      },
      "source": [
        "pd.DataFrame({'Model':algo,'Score':value})"
      ],
      "execution_count": 54,
      "outputs": [
        {
          "output_type": "execute_result",
          "data": {
            "text/html": [
              "<div>\n",
              "<style scoped>\n",
              "    .dataframe tbody tr th:only-of-type {\n",
              "        vertical-align: middle;\n",
              "    }\n",
              "\n",
              "    .dataframe tbody tr th {\n",
              "        vertical-align: top;\n",
              "    }\n",
              "\n",
              "    .dataframe thead th {\n",
              "        text-align: right;\n",
              "    }\n",
              "</style>\n",
              "<table border=\"1\" class=\"dataframe\">\n",
              "  <thead>\n",
              "    <tr style=\"text-align: right;\">\n",
              "      <th></th>\n",
              "      <th>Model</th>\n",
              "      <th>Score</th>\n",
              "    </tr>\n",
              "  </thead>\n",
              "  <tbody>\n",
              "    <tr>\n",
              "      <th>0</th>\n",
              "      <td>Lasso</td>\n",
              "      <td>0.613326</td>\n",
              "    </tr>\n",
              "    <tr>\n",
              "      <th>1</th>\n",
              "      <td>Ridge</td>\n",
              "      <td>0.612850</td>\n",
              "    </tr>\n",
              "    <tr>\n",
              "      <th>2</th>\n",
              "      <td>KNeighborsRegressor</td>\n",
              "      <td>0.692573</td>\n",
              "    </tr>\n",
              "    <tr>\n",
              "      <th>3</th>\n",
              "      <td>LinearRegression</td>\n",
              "      <td>0.612850</td>\n",
              "    </tr>\n",
              "    <tr>\n",
              "      <th>4</th>\n",
              "      <td>DecisionTreeRegressor</td>\n",
              "      <td>0.822893</td>\n",
              "    </tr>\n",
              "    <tr>\n",
              "      <th>5</th>\n",
              "      <td>RandomForestRegressor</td>\n",
              "      <td>0.907226</td>\n",
              "    </tr>\n",
              "    <tr>\n",
              "      <th>6</th>\n",
              "      <td>XGBRegressor</td>\n",
              "      <td>0.904785</td>\n",
              "    </tr>\n",
              "  </tbody>\n",
              "</table>\n",
              "</div>"
            ],
            "text/plain": [
              "                   Model     Score\n",
              "0                  Lasso  0.613326\n",
              "1                  Ridge  0.612850\n",
              "2    KNeighborsRegressor  0.692573\n",
              "3       LinearRegression  0.612850\n",
              "4  DecisionTreeRegressor  0.822893\n",
              "5  RandomForestRegressor  0.907226\n",
              "6           XGBRegressor  0.904785"
            ]
          },
          "metadata": {
            "tags": []
          },
          "execution_count": 54
        }
      ]
    },
    {
      "cell_type": "code",
      "metadata": {
        "id": "4z2YJUIIPBFC"
      },
      "source": [
        "model_params={\n",
        "    'RandomForestRegressor':{\n",
        "        'model':RandomForestRegressor(),\n",
        "        'params':{\n",
        "            'n_estimators' :[100,300,500,800],\n",
        "            'max_features' : ['auto', 'sqrt'],\n",
        "            'max_depth' : [1,5,10,15,20,25,30,35,40,50]\n",
        "        }\n",
        "    },\n",
        "    'XGBRegressor':{\n",
        "        'model':XGBRegressor(),\n",
        "        'params':{\n",
        "            'n_estimators' : [100, 200,500,800],\n",
        "            'max_depth' : [1,2, 3, 5, 10, 15,20,30,40],\n",
        "            'booster':['gbtree','gblinear'],\n",
        "            'learning_rate':[0.05,0.1,0.15,0.20],\n",
        "            'min_child_weight':[1,2,3,4],\n",
        "            'base_score':[0.25,0.5,0.75,1]\n",
        "        }\n",
        "    }\n",
        "\n",
        "}"
      ],
      "execution_count": 56,
      "outputs": []
    },
    {
      "cell_type": "code",
      "metadata": {
        "id": "kB2_QYfHPA8u",
        "outputId": "7d504d71-3965-47d1-f4b0-ff2c81d0cf94",
        "colab": {
          "base_uri": "https://localhost:8080/",
          "height": 1000
        }
      },
      "source": [
        "scores=[]\n",
        "cv = ShuffleSplit(n_splits=5, test_size=0.3, random_state=10)\n",
        "for model_name, mp in model_params.items():\n",
        "    random_clf=RandomizedSearchCV(mp['model'],mp['params'],scoring='neg_mean_squared_error', n_iter = 5, cv = cv, verbose=2, n_jobs = 1, return_train_score=False)\n",
        "    random_clf.fit(X,y)\n",
        "    scores.append({\n",
        "        'model':model_name,\n",
        "        'best_score':random_clf.best_score_,\n",
        "        'best param':random_clf.best_params_,\n",
        "        'best estimator':random_clf.best_estimator_\n",
        "    })\n",
        "\n",
        "ds=pd.DataFrame(scores,columns=['model','best param'])\n",
        "ds"
      ],
      "execution_count": 57,
      "outputs": [
        {
          "output_type": "stream",
          "text": [
            "Fitting 5 folds for each of 5 candidates, totalling 25 fits\n",
            "[CV] n_estimators=800, max_features=auto, max_depth=5 ................\n"
          ],
          "name": "stdout"
        },
        {
          "output_type": "stream",
          "text": [
            "[Parallel(n_jobs=1)]: Using backend SequentialBackend with 1 concurrent workers.\n"
          ],
          "name": "stderr"
        },
        {
          "output_type": "stream",
          "text": [
            "[CV] . n_estimators=800, max_features=auto, max_depth=5, total=   1.9s\n",
            "[CV] n_estimators=800, max_features=auto, max_depth=5 ................\n"
          ],
          "name": "stdout"
        },
        {
          "output_type": "stream",
          "text": [
            "[Parallel(n_jobs=1)]: Done   1 out of   1 | elapsed:    1.9s remaining:    0.0s\n"
          ],
          "name": "stderr"
        },
        {
          "output_type": "stream",
          "text": [
            "[CV] . n_estimators=800, max_features=auto, max_depth=5, total=   1.9s\n",
            "[CV] n_estimators=800, max_features=auto, max_depth=5 ................\n",
            "[CV] . n_estimators=800, max_features=auto, max_depth=5, total=   1.9s\n",
            "[CV] n_estimators=800, max_features=auto, max_depth=5 ................\n",
            "[CV] . n_estimators=800, max_features=auto, max_depth=5, total=   1.9s\n",
            "[CV] n_estimators=800, max_features=auto, max_depth=5 ................\n",
            "[CV] . n_estimators=800, max_features=auto, max_depth=5, total=   1.9s\n",
            "[CV] n_estimators=300, max_features=sqrt, max_depth=5 ................\n",
            "[CV] . n_estimators=300, max_features=sqrt, max_depth=5, total=   0.5s\n",
            "[CV] n_estimators=300, max_features=sqrt, max_depth=5 ................\n",
            "[CV] . n_estimators=300, max_features=sqrt, max_depth=5, total=   0.5s\n",
            "[CV] n_estimators=300, max_features=sqrt, max_depth=5 ................\n",
            "[CV] . n_estimators=300, max_features=sqrt, max_depth=5, total=   0.5s\n",
            "[CV] n_estimators=300, max_features=sqrt, max_depth=5 ................\n",
            "[CV] . n_estimators=300, max_features=sqrt, max_depth=5, total=   0.5s\n",
            "[CV] n_estimators=300, max_features=sqrt, max_depth=5 ................\n",
            "[CV] . n_estimators=300, max_features=sqrt, max_depth=5, total=   0.5s\n",
            "[CV] n_estimators=100, max_features=sqrt, max_depth=30 ...............\n",
            "[CV]  n_estimators=100, max_features=sqrt, max_depth=30, total=   0.2s\n",
            "[CV] n_estimators=100, max_features=sqrt, max_depth=30 ...............\n",
            "[CV]  n_estimators=100, max_features=sqrt, max_depth=30, total=   0.2s\n",
            "[CV] n_estimators=100, max_features=sqrt, max_depth=30 ...............\n",
            "[CV]  n_estimators=100, max_features=sqrt, max_depth=30, total=   0.2s\n",
            "[CV] n_estimators=100, max_features=sqrt, max_depth=30 ...............\n",
            "[CV]  n_estimators=100, max_features=sqrt, max_depth=30, total=   0.2s\n",
            "[CV] n_estimators=100, max_features=sqrt, max_depth=30 ...............\n",
            "[CV]  n_estimators=100, max_features=sqrt, max_depth=30, total=   0.2s\n",
            "[CV] n_estimators=100, max_features=auto, max_depth=25 ...............\n",
            "[CV]  n_estimators=100, max_features=auto, max_depth=25, total=   0.4s\n",
            "[CV] n_estimators=100, max_features=auto, max_depth=25 ...............\n",
            "[CV]  n_estimators=100, max_features=auto, max_depth=25, total=   0.4s\n",
            "[CV] n_estimators=100, max_features=auto, max_depth=25 ...............\n",
            "[CV]  n_estimators=100, max_features=auto, max_depth=25, total=   0.3s\n",
            "[CV] n_estimators=100, max_features=auto, max_depth=25 ...............\n",
            "[CV]  n_estimators=100, max_features=auto, max_depth=25, total=   0.4s\n",
            "[CV] n_estimators=100, max_features=auto, max_depth=25 ...............\n",
            "[CV]  n_estimators=100, max_features=auto, max_depth=25, total=   0.3s\n",
            "[CV] n_estimators=100, max_features=auto, max_depth=20 ...............\n",
            "[CV]  n_estimators=100, max_features=auto, max_depth=20, total=   0.4s\n",
            "[CV] n_estimators=100, max_features=auto, max_depth=20 ...............\n",
            "[CV]  n_estimators=100, max_features=auto, max_depth=20, total=   0.4s\n",
            "[CV] n_estimators=100, max_features=auto, max_depth=20 ...............\n",
            "[CV]  n_estimators=100, max_features=auto, max_depth=20, total=   0.4s\n",
            "[CV] n_estimators=100, max_features=auto, max_depth=20 ...............\n",
            "[CV]  n_estimators=100, max_features=auto, max_depth=20, total=   0.4s\n",
            "[CV] n_estimators=100, max_features=auto, max_depth=20 ...............\n",
            "[CV]  n_estimators=100, max_features=auto, max_depth=20, total=   0.4s\n"
          ],
          "name": "stdout"
        },
        {
          "output_type": "stream",
          "text": [
            "[Parallel(n_jobs=1)]: Done  25 out of  25 | elapsed:   16.7s finished\n"
          ],
          "name": "stderr"
        },
        {
          "output_type": "stream",
          "text": [
            "Fitting 5 folds for each of 5 candidates, totalling 25 fits\n",
            "[CV] n_estimators=500, min_child_weight=4, max_depth=30, learning_rate=0.2, booster=gbtree, base_score=0.25 \n",
            "[04:39:19] WARNING: /workspace/src/objective/regression_obj.cu:152: reg:linear is now deprecated in favor of reg:squarederror.\n"
          ],
          "name": "stdout"
        },
        {
          "output_type": "stream",
          "text": [
            "[Parallel(n_jobs=1)]: Using backend SequentialBackend with 1 concurrent workers.\n"
          ],
          "name": "stderr"
        },
        {
          "output_type": "stream",
          "text": [
            "[CV]  n_estimators=500, min_child_weight=4, max_depth=30, learning_rate=0.2, booster=gbtree, base_score=0.25, total=   1.4s\n",
            "[CV] n_estimators=500, min_child_weight=4, max_depth=30, learning_rate=0.2, booster=gbtree, base_score=0.25 \n",
            "[04:39:21] WARNING: /workspace/src/objective/regression_obj.cu:152: reg:linear is now deprecated in favor of reg:squarederror.\n"
          ],
          "name": "stdout"
        },
        {
          "output_type": "stream",
          "text": [
            "[Parallel(n_jobs=1)]: Done   1 out of   1 | elapsed:    1.4s remaining:    0.0s\n"
          ],
          "name": "stderr"
        },
        {
          "output_type": "stream",
          "text": [
            "[CV]  n_estimators=500, min_child_weight=4, max_depth=30, learning_rate=0.2, booster=gbtree, base_score=0.25, total=   1.4s\n",
            "[CV] n_estimators=500, min_child_weight=4, max_depth=30, learning_rate=0.2, booster=gbtree, base_score=0.25 \n",
            "[04:39:22] WARNING: /workspace/src/objective/regression_obj.cu:152: reg:linear is now deprecated in favor of reg:squarederror.\n",
            "[CV]  n_estimators=500, min_child_weight=4, max_depth=30, learning_rate=0.2, booster=gbtree, base_score=0.25, total=   1.5s\n",
            "[CV] n_estimators=500, min_child_weight=4, max_depth=30, learning_rate=0.2, booster=gbtree, base_score=0.25 \n",
            "[04:39:24] WARNING: /workspace/src/objective/regression_obj.cu:152: reg:linear is now deprecated in favor of reg:squarederror.\n",
            "[CV]  n_estimators=500, min_child_weight=4, max_depth=30, learning_rate=0.2, booster=gbtree, base_score=0.25, total=   1.3s\n",
            "[CV] n_estimators=500, min_child_weight=4, max_depth=30, learning_rate=0.2, booster=gbtree, base_score=0.25 \n",
            "[04:39:25] WARNING: /workspace/src/objective/regression_obj.cu:152: reg:linear is now deprecated in favor of reg:squarederror.\n",
            "[CV]  n_estimators=500, min_child_weight=4, max_depth=30, learning_rate=0.2, booster=gbtree, base_score=0.25, total=   1.4s\n",
            "[CV] n_estimators=500, min_child_weight=1, max_depth=1, learning_rate=0.1, booster=gblinear, base_score=1 \n",
            "[04:39:26] WARNING: /workspace/src/objective/regression_obj.cu:152: reg:linear is now deprecated in favor of reg:squarederror.\n",
            "[CV]  n_estimators=500, min_child_weight=1, max_depth=1, learning_rate=0.1, booster=gblinear, base_score=1, total=   0.1s\n",
            "[CV] n_estimators=500, min_child_weight=1, max_depth=1, learning_rate=0.1, booster=gblinear, base_score=1 \n",
            "[04:39:26] WARNING: /workspace/src/objective/regression_obj.cu:152: reg:linear is now deprecated in favor of reg:squarederror.\n",
            "[CV]  n_estimators=500, min_child_weight=1, max_depth=1, learning_rate=0.1, booster=gblinear, base_score=1, total=   0.1s\n",
            "[CV] n_estimators=500, min_child_weight=1, max_depth=1, learning_rate=0.1, booster=gblinear, base_score=1 \n",
            "[04:39:27] WARNING: /workspace/src/objective/regression_obj.cu:152: reg:linear is now deprecated in favor of reg:squarederror.\n",
            "[CV]  n_estimators=500, min_child_weight=1, max_depth=1, learning_rate=0.1, booster=gblinear, base_score=1, total=   0.1s\n",
            "[CV] n_estimators=500, min_child_weight=1, max_depth=1, learning_rate=0.1, booster=gblinear, base_score=1 \n",
            "[04:39:27] WARNING: /workspace/src/objective/regression_obj.cu:152: reg:linear is now deprecated in favor of reg:squarederror.\n",
            "[CV]  n_estimators=500, min_child_weight=1, max_depth=1, learning_rate=0.1, booster=gblinear, base_score=1, total=   0.1s\n",
            "[CV] n_estimators=500, min_child_weight=1, max_depth=1, learning_rate=0.1, booster=gblinear, base_score=1 \n",
            "[04:39:27] WARNING: /workspace/src/objective/regression_obj.cu:152: reg:linear is now deprecated in favor of reg:squarederror.\n",
            "[CV]  n_estimators=500, min_child_weight=1, max_depth=1, learning_rate=0.1, booster=gblinear, base_score=1, total=   0.1s\n",
            "[CV] n_estimators=100, min_child_weight=2, max_depth=10, learning_rate=0.2, booster=gbtree, base_score=0.75 \n",
            "[04:39:27] WARNING: /workspace/src/objective/regression_obj.cu:152: reg:linear is now deprecated in favor of reg:squarederror.\n",
            "[CV]  n_estimators=100, min_child_weight=2, max_depth=10, learning_rate=0.2, booster=gbtree, base_score=0.75, total=   0.2s\n",
            "[CV] n_estimators=100, min_child_weight=2, max_depth=10, learning_rate=0.2, booster=gbtree, base_score=0.75 \n",
            "[04:39:27] WARNING: /workspace/src/objective/regression_obj.cu:152: reg:linear is now deprecated in favor of reg:squarederror.\n",
            "[CV]  n_estimators=100, min_child_weight=2, max_depth=10, learning_rate=0.2, booster=gbtree, base_score=0.75, total=   0.2s\n",
            "[CV] n_estimators=100, min_child_weight=2, max_depth=10, learning_rate=0.2, booster=gbtree, base_score=0.75 \n",
            "[04:39:27] WARNING: /workspace/src/objective/regression_obj.cu:152: reg:linear is now deprecated in favor of reg:squarederror.\n",
            "[CV]  n_estimators=100, min_child_weight=2, max_depth=10, learning_rate=0.2, booster=gbtree, base_score=0.75, total=   0.2s\n",
            "[CV] n_estimators=100, min_child_weight=2, max_depth=10, learning_rate=0.2, booster=gbtree, base_score=0.75 \n",
            "[04:39:27] WARNING: /workspace/src/objective/regression_obj.cu:152: reg:linear is now deprecated in favor of reg:squarederror.\n",
            "[CV]  n_estimators=100, min_child_weight=2, max_depth=10, learning_rate=0.2, booster=gbtree, base_score=0.75, total=   0.2s\n",
            "[CV] n_estimators=100, min_child_weight=2, max_depth=10, learning_rate=0.2, booster=gbtree, base_score=0.75 \n",
            "[04:39:27] WARNING: /workspace/src/objective/regression_obj.cu:152: reg:linear is now deprecated in favor of reg:squarederror.\n",
            "[CV]  n_estimators=100, min_child_weight=2, max_depth=10, learning_rate=0.2, booster=gbtree, base_score=0.75, total=   0.2s\n",
            "[CV] n_estimators=100, min_child_weight=1, max_depth=5, learning_rate=0.05, booster=gbtree, base_score=1 \n",
            "[04:39:28] WARNING: /workspace/src/objective/regression_obj.cu:152: reg:linear is now deprecated in favor of reg:squarederror.\n",
            "[CV]  n_estimators=100, min_child_weight=1, max_depth=5, learning_rate=0.05, booster=gbtree, base_score=1, total=   0.1s\n",
            "[CV] n_estimators=100, min_child_weight=1, max_depth=5, learning_rate=0.05, booster=gbtree, base_score=1 \n",
            "[04:39:28] WARNING: /workspace/src/objective/regression_obj.cu:152: reg:linear is now deprecated in favor of reg:squarederror.\n",
            "[CV]  n_estimators=100, min_child_weight=1, max_depth=5, learning_rate=0.05, booster=gbtree, base_score=1, total=   0.1s\n",
            "[CV] n_estimators=100, min_child_weight=1, max_depth=5, learning_rate=0.05, booster=gbtree, base_score=1 \n",
            "[04:39:28] WARNING: /workspace/src/objective/regression_obj.cu:152: reg:linear is now deprecated in favor of reg:squarederror.\n",
            "[CV]  n_estimators=100, min_child_weight=1, max_depth=5, learning_rate=0.05, booster=gbtree, base_score=1, total=   0.1s\n",
            "[CV] n_estimators=100, min_child_weight=1, max_depth=5, learning_rate=0.05, booster=gbtree, base_score=1 \n",
            "[04:39:28] WARNING: /workspace/src/objective/regression_obj.cu:152: reg:linear is now deprecated in favor of reg:squarederror.\n",
            "[CV]  n_estimators=100, min_child_weight=1, max_depth=5, learning_rate=0.05, booster=gbtree, base_score=1, total=   0.1s\n",
            "[CV] n_estimators=100, min_child_weight=1, max_depth=5, learning_rate=0.05, booster=gbtree, base_score=1 \n",
            "[04:39:28] WARNING: /workspace/src/objective/regression_obj.cu:152: reg:linear is now deprecated in favor of reg:squarederror.\n",
            "[CV]  n_estimators=100, min_child_weight=1, max_depth=5, learning_rate=0.05, booster=gbtree, base_score=1, total=   0.1s\n",
            "[CV] n_estimators=500, min_child_weight=2, max_depth=40, learning_rate=0.2, booster=gbtree, base_score=0.75 \n",
            "[04:39:28] WARNING: /workspace/src/objective/regression_obj.cu:152: reg:linear is now deprecated in favor of reg:squarederror.\n",
            "[CV]  n_estimators=500, min_child_weight=2, max_depth=40, learning_rate=0.2, booster=gbtree, base_score=0.75, total=   0.7s\n",
            "[CV] n_estimators=500, min_child_weight=2, max_depth=40, learning_rate=0.2, booster=gbtree, base_score=0.75 \n",
            "[04:39:29] WARNING: /workspace/src/objective/regression_obj.cu:152: reg:linear is now deprecated in favor of reg:squarederror.\n",
            "[CV]  n_estimators=500, min_child_weight=2, max_depth=40, learning_rate=0.2, booster=gbtree, base_score=0.75, total=   0.8s\n",
            "[CV] n_estimators=500, min_child_weight=2, max_depth=40, learning_rate=0.2, booster=gbtree, base_score=0.75 \n",
            "[04:39:30] WARNING: /workspace/src/objective/regression_obj.cu:152: reg:linear is now deprecated in favor of reg:squarederror.\n",
            "[CV]  n_estimators=500, min_child_weight=2, max_depth=40, learning_rate=0.2, booster=gbtree, base_score=0.75, total=   0.8s\n",
            "[CV] n_estimators=500, min_child_weight=2, max_depth=40, learning_rate=0.2, booster=gbtree, base_score=0.75 \n",
            "[04:39:30] WARNING: /workspace/src/objective/regression_obj.cu:152: reg:linear is now deprecated in favor of reg:squarederror.\n",
            "[CV]  n_estimators=500, min_child_weight=2, max_depth=40, learning_rate=0.2, booster=gbtree, base_score=0.75, total=   0.7s\n",
            "[CV] n_estimators=500, min_child_weight=2, max_depth=40, learning_rate=0.2, booster=gbtree, base_score=0.75 \n",
            "[04:39:31] WARNING: /workspace/src/objective/regression_obj.cu:152: reg:linear is now deprecated in favor of reg:squarederror.\n",
            "[CV]  n_estimators=500, min_child_weight=2, max_depth=40, learning_rate=0.2, booster=gbtree, base_score=0.75, total=   0.8s\n",
            "[04:39:32] WARNING: /workspace/src/objective/regression_obj.cu:152: reg:linear is now deprecated in favor of reg:squarederror.\n"
          ],
          "name": "stdout"
        },
        {
          "output_type": "stream",
          "text": [
            "[Parallel(n_jobs=1)]: Done  25 out of  25 | elapsed:   12.7s finished\n"
          ],
          "name": "stderr"
        },
        {
          "output_type": "execute_result",
          "data": {
            "text/html": [
              "<div>\n",
              "<style scoped>\n",
              "    .dataframe tbody tr th:only-of-type {\n",
              "        vertical-align: middle;\n",
              "    }\n",
              "\n",
              "    .dataframe tbody tr th {\n",
              "        vertical-align: top;\n",
              "    }\n",
              "\n",
              "    .dataframe thead th {\n",
              "        text-align: right;\n",
              "    }\n",
              "</style>\n",
              "<table border=\"1\" class=\"dataframe\">\n",
              "  <thead>\n",
              "    <tr style=\"text-align: right;\">\n",
              "      <th></th>\n",
              "      <th>model</th>\n",
              "      <th>best param</th>\n",
              "    </tr>\n",
              "  </thead>\n",
              "  <tbody>\n",
              "    <tr>\n",
              "      <th>0</th>\n",
              "      <td>RandomForestRegressor</td>\n",
              "      <td>{'n_estimators': 100, 'max_features': 'auto', ...</td>\n",
              "    </tr>\n",
              "    <tr>\n",
              "      <th>1</th>\n",
              "      <td>XGBRegressor</td>\n",
              "      <td>{'n_estimators': 500, 'min_child_weight': 4, '...</td>\n",
              "    </tr>\n",
              "  </tbody>\n",
              "</table>\n",
              "</div>"
            ],
            "text/plain": [
              "                   model                                         best param\n",
              "0  RandomForestRegressor  {'n_estimators': 100, 'max_features': 'auto', ...\n",
              "1           XGBRegressor  {'n_estimators': 500, 'min_child_weight': 4, '..."
            ]
          },
          "metadata": {
            "tags": []
          },
          "execution_count": 57
        }
      ]
    },
    {
      "cell_type": "code",
      "metadata": {
        "id": "EeYLvOSSQYLv",
        "outputId": "85619a61-bbed-43cf-d4e1-6d0359c2cc3f",
        "colab": {
          "base_uri": "https://localhost:8080/",
          "height": 68
        }
      },
      "source": [
        "\n",
        "def display_text_max_col_width(df, width):\n",
        "    with pd.option_context('display.max_colwidth', width):\n",
        "        print(df)\n",
        "\n",
        "display_text_max_col_width(ds['best param'], 800)"
      ],
      "execution_count": 58,
      "outputs": [
        {
          "output_type": "stream",
          "text": [
            "0                                                                  {'n_estimators': 100, 'max_features': 'auto', 'max_depth': 25}\n",
            "1    {'n_estimators': 500, 'min_child_weight': 4, 'max_depth': 30, 'learning_rate': 0.2, 'booster': 'gbtree', 'base_score': 0.25}\n",
            "Name: best param, dtype: object\n"
          ],
          "name": "stdout"
        }
      ]
    },
    {
      "cell_type": "code",
      "metadata": {
        "id": "3-idBmHdQYbw",
        "outputId": "cc0eea11-6c1f-438b-ad8f-c1d99027c27a",
        "colab": {
          "base_uri": "https://localhost:8080/",
          "height": 136
        }
      },
      "source": [
        "cross_val_score_model(RandomForestRegressor(n_estimators=100, max_features='auto', max_depth=25),'RandomForestRegressor_best')\n",
        "cross_val_score_model(XGBRegressor(n_estimators=500, min_child_weight= 4, max_depth=30, learning_rate=0.2, booster='gbtree', base_score=0.25),'XGBRegressor_best')"
      ],
      "execution_count": 59,
      "outputs": [
        {
          "output_type": "stream",
          "text": [
            "CV_Score RandomForestRegressor_best: 0.9089874640808852\n",
            "[04:41:39] WARNING: /workspace/src/objective/regression_obj.cu:152: reg:linear is now deprecated in favor of reg:squarederror.\n",
            "[04:41:41] WARNING: /workspace/src/objective/regression_obj.cu:152: reg:linear is now deprecated in favor of reg:squarederror.\n",
            "[04:41:42] WARNING: /workspace/src/objective/regression_obj.cu:152: reg:linear is now deprecated in favor of reg:squarederror.\n",
            "[04:41:44] WARNING: /workspace/src/objective/regression_obj.cu:152: reg:linear is now deprecated in favor of reg:squarederror.\n",
            "[04:41:45] WARNING: /workspace/src/objective/regression_obj.cu:152: reg:linear is now deprecated in favor of reg:squarederror.\n",
            "CV_Score XGBRegressor_best: 0.9241856167525555\n"
          ],
          "name": "stdout"
        }
      ]
    },
    {
      "cell_type": "code",
      "metadata": {
        "id": "oLuUyA9PQ5jI",
        "outputId": "fe5b737f-08de-4622-f7fb-ca00094bbd69",
        "colab": {
          "base_uri": "https://localhost:8080/",
          "height": 265
        }
      },
      "source": [
        "sns.barplot(x=value,y=algo)\n",
        "plt.show()"
      ],
      "execution_count": 60,
      "outputs": [
        {
          "output_type": "display_data",
          "data": {
            "image/png": "[encoded data removed]",
            "text/plain": [
              "<Figure size 432x288 with 1 Axes>"
            ]
          },
          "metadata": {
            "tags": [],
            "needs_background": "light"
          }
        }
      ]
    },
    {
      "cell_type": "code",
      "metadata": {
        "id": "wNVb8195RKUA",
        "outputId": "24a31580-ef12-49da-9f18-642e08e0849a",
        "colab": {
          "base_uri": "https://localhost:8080/",
          "height": 328
        }
      },
      "source": [
        "pd.DataFrame({'Model':algo,'Score':value})"
      ],
      "execution_count": 61,
      "outputs": [
        {
          "output_type": "execute_result",
          "data": {
            "text/html": [
              "<div>\n",
              "<style scoped>\n",
              "    .dataframe tbody tr th:only-of-type {\n",
              "        vertical-align: middle;\n",
              "    }\n",
              "\n",
              "    .dataframe tbody tr th {\n",
              "        vertical-align: top;\n",
              "    }\n",
              "\n",
              "    .dataframe thead th {\n",
              "        text-align: right;\n",
              "    }\n",
              "</style>\n",
              "<table border=\"1\" class=\"dataframe\">\n",
              "  <thead>\n",
              "    <tr style=\"text-align: right;\">\n",
              "      <th></th>\n",
              "      <th>Model</th>\n",
              "      <th>Score</th>\n",
              "    </tr>\n",
              "  </thead>\n",
              "  <tbody>\n",
              "    <tr>\n",
              "      <th>0</th>\n",
              "      <td>Lasso</td>\n",
              "      <td>0.613326</td>\n",
              "    </tr>\n",
              "    <tr>\n",
              "      <th>1</th>\n",
              "      <td>Ridge</td>\n",
              "      <td>0.612850</td>\n",
              "    </tr>\n",
              "    <tr>\n",
              "      <th>2</th>\n",
              "      <td>KNeighborsRegressor</td>\n",
              "      <td>0.692573</td>\n",
              "    </tr>\n",
              "    <tr>\n",
              "      <th>3</th>\n",
              "      <td>LinearRegression</td>\n",
              "      <td>0.612850</td>\n",
              "    </tr>\n",
              "    <tr>\n",
              "      <th>4</th>\n",
              "      <td>DecisionTreeRegressor</td>\n",
              "      <td>0.822893</td>\n",
              "    </tr>\n",
              "    <tr>\n",
              "      <th>5</th>\n",
              "      <td>RandomForestRegressor</td>\n",
              "      <td>0.907226</td>\n",
              "    </tr>\n",
              "    <tr>\n",
              "      <th>6</th>\n",
              "      <td>XGBRegressor</td>\n",
              "      <td>0.904785</td>\n",
              "    </tr>\n",
              "    <tr>\n",
              "      <th>7</th>\n",
              "      <td>RandomForestRegressor_best</td>\n",
              "      <td>0.908987</td>\n",
              "    </tr>\n",
              "    <tr>\n",
              "      <th>8</th>\n",
              "      <td>XGBRegressor_best</td>\n",
              "      <td>0.924186</td>\n",
              "    </tr>\n",
              "  </tbody>\n",
              "</table>\n",
              "</div>"
            ],
            "text/plain": [
              "                        Model     Score\n",
              "0                       Lasso  0.613326\n",
              "1                       Ridge  0.612850\n",
              "2         KNeighborsRegressor  0.692573\n",
              "3            LinearRegression  0.612850\n",
              "4       DecisionTreeRegressor  0.822893\n",
              "5       RandomForestRegressor  0.907226\n",
              "6                XGBRegressor  0.904785\n",
              "7  RandomForestRegressor_best  0.908987\n",
              "8           XGBRegressor_best  0.924186"
            ]
          },
          "metadata": {
            "tags": []
          },
          "execution_count": 61
        }
      ]
    },
    {
      "cell_type": "code",
      "metadata": {
        "id": "bYpJNybNRKP9",
        "outputId": "30923d04-1637-4832-d1ae-11e0a44eb10b",
        "colab": {
          "base_uri": "https://localhost:8080/",
          "height": 51
        }
      },
      "source": [
        "from sklearn.metrics import r2_score\n",
        "xgb=XGBRegressor()\n",
        "xgb.fit(X_train,y_train)\n",
        "xgb_y_pred=xgb.predict(X_test)\n",
        "score=r2_score(y_test,xgb_y_pred)\n",
        "score"
      ],
      "execution_count": 77,
      "outputs": [
        {
          "output_type": "stream",
          "text": [
            "[04:52:56] WARNING: /workspace/src/objective/regression_obj.cu:152: reg:linear is now deprecated in favor of reg:squarederror.\n"
          ],
          "name": "stdout"
        },
        {
          "output_type": "execute_result",
          "data": {
            "text/plain": [
              "0.9020666584241684"
            ]
          },
          "metadata": {
            "tags": []
          },
          "execution_count": 77
        }
      ]
    },
    {
      "cell_type": "code",
      "metadata": {
        "id": "3moJHl3GRKNG",
        "outputId": "71d0e1a7-076f-4b29-c0a9-9699463537e2",
        "colab": {
          "base_uri": "https://localhost:8080/",
          "height": 51
        }
      },
      "source": [
        "from sklearn.metrics import r2_score\n",
        "xgb_best=XGBRegressor(n_estimators=1000, min_child_weight= 2, max_depth=2, learning_rate=0.2, booster='gbtree', base_score=0.5)\n",
        "xgb_best.fit(X_train,y_train)\n",
        "xgb_best_y_pred=xgb_best.predict(X_test)\n",
        "score1=r2_score(y_test,xgb_best_y_pred)\n",
        "score1"
      ],
      "execution_count": 78,
      "outputs": [
        {
          "output_type": "stream",
          "text": [
            "[04:53:00] WARNING: /workspace/src/objective/regression_obj.cu:152: reg:linear is now deprecated in favor of reg:squarederror.\n"
          ],
          "name": "stdout"
        },
        {
          "output_type": "execute_result",
          "data": {
            "text/plain": [
              "0.9398995633600171"
            ]
          },
          "metadata": {
            "tags": []
          },
          "execution_count": 78
        }
      ]
    },
    {
      "cell_type": "code",
      "metadata": {
        "id": "13YUoEttRjyZ",
        "outputId": "28a7c887-afba-4a4b-99dd-ebdd3987873e",
        "colab": {
          "base_uri": "https://localhost:8080/",
          "height": 350
        }
      },
      "source": [
        "sns.distplot(y_test-xgb_best_y_pred)"
      ],
      "execution_count": 79,
      "outputs": [
        {
          "output_type": "stream",
          "text": [
            "/usr/local/lib/python3.6/dist-packages/seaborn/distributions.py:2551: FutureWarning: `distplot` is a deprecated function and will be removed in a future version. Please adapt your code to use either `displot` (a figure-level function with similar flexibility) or `histplot` (an axes-level function for histograms).\n",
            "  warnings.warn(msg, FutureWarning)\n"
          ],
          "name": "stderr"
        },
        {
          "output_type": "execute_result",
          "data": {
            "text/plain": [
              "<matplotlib.axes._subplots.AxesSubplot at 0x7fde720de550>"
            ]
          },
          "metadata": {
            "tags": []
          },
          "execution_count": 79
        },
        {
          "output_type": "display_data",
          "data": {
            "image/png": "[encoded data removed]",
            "text/plain": [
              "<Figure size 432x288 with 1 Axes>"
            ]
          },
          "metadata": {
            "tags": [],
            "needs_background": "light"
          }
        }
      ]
    },
    {
      "cell_type": "code",
      "metadata": {
        "id": "knvCkHFNRjv6",
        "outputId": "da593e54-7489-4435-ae34-caa93bc1d81b",
        "colab": {
          "base_uri": "https://localhost:8080/",
          "height": 282
        }
      },
      "source": [
        "\n",
        "plt.scatter(y_test,xgb_best_y_pred)"
      ],
      "execution_count": 80,
      "outputs": [
        {
          "output_type": "execute_result",
          "data": {
            "text/plain": [
              "<matplotlib.collections.PathCollection at 0x7fde70853710>"
            ]
          },
          "metadata": {
            "tags": []
          },
          "execution_count": 80
        },
        {
          "output_type": "display_data",
          "data": {
            "image/png": "[encoded data removed]",
            "text/plain": [
              "<Figure size 432x288 with 1 Axes>"
            ]
          },
          "metadata": {
            "tags": [],
            "needs_background": "light"
          }
        }
      ]
    },
    {
      "cell_type": "code",
      "metadata": {
        "id": "rCgr-4laSasz",
        "outputId": "63d21a7f-0eaf-4e9c-faaa-e63ac763ea81",
        "colab": {
          "base_uri": "https://localhost:8080/",
          "height": 187
        }
      },
      "source": [
        "df.iloc[529]"
      ],
      "execution_count": 87,
      "outputs": [
        {
          "output_type": "execute_result",
          "data": {
            "text/plain": [
              "Cement                  359.00\n",
              "Blast Furnace Slag       19.00\n",
              "Fly Ash                 141.00\n",
              "Water                   154.00\n",
              "Superplasticizer         10.90\n",
              "Coarse Aggregate        942.00\n",
              "Fine Aggregate          801.00\n",
              "Age                      56.00\n",
              "Compressive Strength     68.75\n",
              "Name: 529, dtype: float64"
            ]
          },
          "metadata": {
            "tags": []
          },
          "execution_count": 87
        }
      ]
    },
    {
      "cell_type": "code",
      "metadata": {
        "id": "GJ7lTJEeSao5",
        "outputId": "64c87276-f4cc-46ce-eb50-5fe96e630333",
        "colab": {
          "base_uri": "https://localhost:8080/",
          "height": 34
        }
      },
      "source": [
        "a=[[359,19,141,154,10.9,942,801,56]]\n",
        "a=s.transform(a)\n",
        "b=xgb_best.predict(a)\n",
        "b"
      ],
      "execution_count": 86,
      "outputs": [
        {
          "output_type": "execute_result",
          "data": {
            "text/plain": [
              "array([66.33718], dtype=float32)"
            ]
          },
          "metadata": {
            "tags": []
          },
          "execution_count": 86
        }
      ]
    },
    {
      "cell_type": "code",
      "metadata": {
        "id": "rt8vaunTSak7"
      },
      "source": [
        ""
      ],
      "execution_count": null,
      "outputs": []
    },
    {
      "cell_type": "markdown",
      "metadata": {
        "id": "J1XTU9LSVAVZ"
      },
      "source": [
        "ANN DROPOUT"
      ]
    },
    {
      "cell_type": "code",
      "metadata": {
        "id": "RLg07c-XRjsf"
      },
      "source": [
        "from tensorflow.keras.layers import Input, Lambda, Dense, Flatten,Conv2D,MaxPooling2D, Dropout\n",
        "from tensorflow.keras.models import Model\n",
        "from tensorflow.keras.preprocessing import image\n",
        "from tensorflow.keras.preprocessing.image import ImageDataGenerator,load_img\n",
        "from tensorflow.keras.models import Sequential\n",
        "from glob import glob\n"
      ],
      "execution_count": 178,
      "outputs": []
    },
    {
      "cell_type": "code",
      "metadata": {
        "id": "8HdEwRW_Rjpn"
      },
      "source": [
        "from sklearn.utils import shuffle\n",
        "from sklearn.metrics import classification_report\n",
        "from sklearn.model_selection import train_test_split\n",
        "from sklearn.metrics import confusion_matrix,accuracy_score,r2_score\n",
        "import os\n",
        "import cv2"
      ],
      "execution_count": 179,
      "outputs": []
    },
    {
      "cell_type": "code",
      "metadata": {
        "id": "AzelIceyAXbX",
        "outputId": "d97fde18-19bd-4808-bf67-661cedc71cad",
        "colab": {
          "base_uri": "https://localhost:8080/",
          "height": 1000
        }
      },
      "source": [
        "model1 = Sequential()\n",
        "\n",
        "model1.add(Dense(128,activation  = 'relu',input_dim =8))\n",
        "model1.add(Dropout(0.3))\n",
        "model1.add(Dense(64,activation  = 'relu'))\n",
        "model1.add(Dense(32,activation  = 'relu'))\n",
        "model1.add(Dense(1))\n",
        "\n",
        "model1.compile(optimizer = \"adam\", loss = \"mean_squared_error\",metrics=['mse'])\n",
        "r1=model1.fit(X_train, y_train, epochs=300, batch_size=8,validation_data=(X_test,y_test))"
      ],
      "execution_count": 109,
      "outputs": [
        {
          "output_type": "stream",
          "text": [
            "Epoch 1/300\n",
            "91/91 [==============================] - 0s 5ms/step - loss: 951.7195 - mse: 951.7195 - val_loss: 217.2270 - val_mse: 217.2270\n",
            "Epoch 2/300\n",
            "91/91 [==============================] - 0s 4ms/step - loss: 214.1535 - mse: 214.1535 - val_loss: 169.5909 - val_mse: 169.5909\n",
            "Epoch 3/300\n",
            "91/91 [==============================] - 0s 4ms/step - loss: 191.5476 - mse: 191.5476 - val_loss: 158.2807 - val_mse: 158.2807\n",
            "Epoch 4/300\n",
            "91/91 [==============================] - 0s 4ms/step - loss: 176.0240 - mse: 176.0240 - val_loss: 142.6123 - val_mse: 142.6123\n",
            "Epoch 5/300\n",
            "91/91 [==============================] - 0s 4ms/step - loss: 155.9698 - mse: 155.9698 - val_loss: 132.4426 - val_mse: 132.4426\n",
            "Epoch 6/300\n",
            "91/91 [==============================] - 0s 4ms/step - loss: 149.0947 - mse: 149.0947 - val_loss: 140.0305 - val_mse: 140.0305\n",
            "Epoch 7/300\n",
            "91/91 [==============================] - 0s 4ms/step - loss: 144.8913 - mse: 144.8913 - val_loss: 115.4275 - val_mse: 115.4275\n",
            "Epoch 8/300\n",
            "91/91 [==============================] - 0s 4ms/step - loss: 129.2740 - mse: 129.2740 - val_loss: 109.3149 - val_mse: 109.3149\n",
            "Epoch 9/300\n",
            "91/91 [==============================] - 0s 4ms/step - loss: 126.4999 - mse: 126.4999 - val_loss: 106.1540 - val_mse: 106.1540\n",
            "Epoch 10/300\n",
            "91/91 [==============================] - 0s 4ms/step - loss: 118.3663 - mse: 118.3663 - val_loss: 96.4674 - val_mse: 96.4674\n",
            "Epoch 11/300\n",
            "91/91 [==============================] - 0s 4ms/step - loss: 118.9146 - mse: 118.9146 - val_loss: 84.7036 - val_mse: 84.7036\n",
            "Epoch 12/300\n",
            "91/91 [==============================] - 0s 4ms/step - loss: 106.1896 - mse: 106.1896 - val_loss: 78.6378 - val_mse: 78.6378\n",
            "Epoch 13/300\n",
            "91/91 [==============================] - 0s 4ms/step - loss: 92.1659 - mse: 92.1659 - val_loss: 68.4946 - val_mse: 68.4946\n",
            "Epoch 14/300\n",
            "91/91 [==============================] - 0s 4ms/step - loss: 92.6817 - mse: 92.6817 - val_loss: 66.2979 - val_mse: 66.2979\n",
            "Epoch 15/300\n",
            "91/91 [==============================] - 0s 4ms/step - loss: 86.4289 - mse: 86.4289 - val_loss: 61.0272 - val_mse: 61.0272\n",
            "Epoch 16/300\n",
            "91/91 [==============================] - 0s 4ms/step - loss: 81.6435 - mse: 81.6435 - val_loss: 58.3234 - val_mse: 58.3234\n",
            "Epoch 17/300\n",
            "91/91 [==============================] - 0s 4ms/step - loss: 77.7552 - mse: 77.7552 - val_loss: 56.7020 - val_mse: 56.7020\n",
            "Epoch 18/300\n",
            "91/91 [==============================] - 0s 4ms/step - loss: 76.9911 - mse: 76.9911 - val_loss: 54.4472 - val_mse: 54.4472\n",
            "Epoch 19/300\n",
            "91/91 [==============================] - 0s 4ms/step - loss: 70.3870 - mse: 70.3870 - val_loss: 48.8367 - val_mse: 48.8367\n",
            "Epoch 20/300\n",
            "91/91 [==============================] - 0s 4ms/step - loss: 67.6169 - mse: 67.6169 - val_loss: 47.4820 - val_mse: 47.4820\n",
            "Epoch 21/300\n",
            "91/91 [==============================] - 0s 4ms/step - loss: 66.0324 - mse: 66.0324 - val_loss: 48.8243 - val_mse: 48.8243\n",
            "Epoch 22/300\n",
            "91/91 [==============================] - 0s 4ms/step - loss: 59.7974 - mse: 59.7974 - val_loss: 50.1234 - val_mse: 50.1234\n",
            "Epoch 23/300\n",
            "91/91 [==============================] - 0s 4ms/step - loss: 68.4562 - mse: 68.4562 - val_loss: 53.1234 - val_mse: 53.1234\n",
            "Epoch 24/300\n",
            "91/91 [==============================] - 0s 4ms/step - loss: 57.9654 - mse: 57.9654 - val_loss: 43.1309 - val_mse: 43.1309\n",
            "Epoch 25/300\n",
            "91/91 [==============================] - 0s 4ms/step - loss: 55.2954 - mse: 55.2954 - val_loss: 42.2955 - val_mse: 42.2955\n",
            "Epoch 26/300\n",
            "91/91 [==============================] - 0s 4ms/step - loss: 56.7659 - mse: 56.7659 - val_loss: 51.2760 - val_mse: 51.2760\n",
            "Epoch 27/300\n",
            "91/91 [==============================] - 0s 4ms/step - loss: 54.7684 - mse: 54.7684 - val_loss: 43.4003 - val_mse: 43.4003\n",
            "Epoch 28/300\n",
            "91/91 [==============================] - 0s 4ms/step - loss: 49.1400 - mse: 49.1400 - val_loss: 49.1684 - val_mse: 49.1684\n",
            "Epoch 29/300\n",
            "91/91 [==============================] - 0s 4ms/step - loss: 54.1745 - mse: 54.1745 - val_loss: 42.8401 - val_mse: 42.8401\n",
            "Epoch 30/300\n",
            "91/91 [==============================] - 0s 4ms/step - loss: 50.7902 - mse: 50.7902 - val_loss: 46.3879 - val_mse: 46.3879\n",
            "Epoch 31/300\n",
            "91/91 [==============================] - 0s 4ms/step - loss: 51.8362 - mse: 51.8362 - val_loss: 41.2143 - val_mse: 41.2143\n",
            "Epoch 32/300\n",
            "91/91 [==============================] - 0s 4ms/step - loss: 49.4819 - mse: 49.4819 - val_loss: 44.0313 - val_mse: 44.0313\n",
            "Epoch 33/300\n",
            "91/91 [==============================] - 0s 4ms/step - loss: 49.5207 - mse: 49.5207 - val_loss: 37.5409 - val_mse: 37.5409\n",
            "Epoch 34/300\n",
            "91/91 [==============================] - 0s 4ms/step - loss: 51.0149 - mse: 51.0149 - val_loss: 37.9288 - val_mse: 37.9288\n",
            "Epoch 35/300\n",
            "91/91 [==============================] - 0s 4ms/step - loss: 49.8831 - mse: 49.8831 - val_loss: 40.2710 - val_mse: 40.2710\n",
            "Epoch 36/300\n",
            "91/91 [==============================] - 0s 4ms/step - loss: 48.1076 - mse: 48.1076 - val_loss: 37.5030 - val_mse: 37.5030\n",
            "Epoch 37/300\n",
            "91/91 [==============================] - 0s 4ms/step - loss: 44.0341 - mse: 44.0341 - val_loss: 38.2414 - val_mse: 38.2414\n",
            "Epoch 38/300\n",
            "91/91 [==============================] - 0s 4ms/step - loss: 46.7633 - mse: 46.7633 - val_loss: 36.2766 - val_mse: 36.2766\n",
            "Epoch 39/300\n",
            "91/91 [==============================] - 0s 4ms/step - loss: 46.7579 - mse: 46.7579 - val_loss: 44.7292 - val_mse: 44.7292\n",
            "Epoch 40/300\n",
            "91/91 [==============================] - 0s 4ms/step - loss: 46.4571 - mse: 46.4571 - val_loss: 38.3151 - val_mse: 38.3151\n",
            "Epoch 41/300\n",
            "91/91 [==============================] - 0s 4ms/step - loss: 47.8076 - mse: 47.8076 - val_loss: 35.1882 - val_mse: 35.1882\n",
            "Epoch 42/300\n",
            "91/91 [==============================] - 0s 4ms/step - loss: 46.8393 - mse: 46.8393 - val_loss: 37.8433 - val_mse: 37.8433\n",
            "Epoch 43/300\n",
            "91/91 [==============================] - 0s 4ms/step - loss: 42.1803 - mse: 42.1803 - val_loss: 35.9068 - val_mse: 35.9068\n",
            "Epoch 44/300\n",
            "91/91 [==============================] - 0s 4ms/step - loss: 41.6737 - mse: 41.6737 - val_loss: 34.7302 - val_mse: 34.7302\n",
            "Epoch 45/300\n",
            "91/91 [==============================] - 0s 4ms/step - loss: 43.7259 - mse: 43.7259 - val_loss: 36.7838 - val_mse: 36.7838\n",
            "Epoch 46/300\n",
            "91/91 [==============================] - 0s 4ms/step - loss: 39.8573 - mse: 39.8573 - val_loss: 35.7142 - val_mse: 35.7142\n",
            "Epoch 47/300\n",
            "91/91 [==============================] - 0s 4ms/step - loss: 40.4185 - mse: 40.4185 - val_loss: 35.5433 - val_mse: 35.5433\n",
            "Epoch 48/300\n",
            "91/91 [==============================] - 0s 4ms/step - loss: 46.3768 - mse: 46.3768 - val_loss: 35.4725 - val_mse: 35.4725\n",
            "Epoch 49/300\n",
            "91/91 [==============================] - 0s 4ms/step - loss: 43.4840 - mse: 43.4840 - val_loss: 35.9557 - val_mse: 35.9557\n",
            "Epoch 50/300\n",
            "91/91 [==============================] - 0s 4ms/step - loss: 39.0887 - mse: 39.0887 - val_loss: 39.5698 - val_mse: 39.5698\n",
            "Epoch 51/300\n",
            "91/91 [==============================] - 0s 4ms/step - loss: 41.3839 - mse: 41.3839 - val_loss: 35.8295 - val_mse: 35.8295\n",
            "Epoch 52/300\n",
            "91/91 [==============================] - 0s 4ms/step - loss: 40.3122 - mse: 40.3122 - val_loss: 36.3575 - val_mse: 36.3575\n",
            "Epoch 53/300\n",
            "91/91 [==============================] - 0s 4ms/step - loss: 38.3443 - mse: 38.3443 - val_loss: 34.4899 - val_mse: 34.4899\n",
            "Epoch 54/300\n",
            "91/91 [==============================] - 0s 4ms/step - loss: 36.0053 - mse: 36.0053 - val_loss: 33.7369 - val_mse: 33.7369\n",
            "Epoch 55/300\n",
            "91/91 [==============================] - 0s 4ms/step - loss: 38.4579 - mse: 38.4579 - val_loss: 33.6171 - val_mse: 33.6171\n",
            "Epoch 56/300\n",
            "91/91 [==============================] - 0s 4ms/step - loss: 36.7188 - mse: 36.7188 - val_loss: 32.4686 - val_mse: 32.4686\n",
            "Epoch 57/300\n",
            "91/91 [==============================] - 0s 4ms/step - loss: 37.8564 - mse: 37.8564 - val_loss: 38.8783 - val_mse: 38.8783\n",
            "Epoch 58/300\n",
            "91/91 [==============================] - 0s 4ms/step - loss: 36.5122 - mse: 36.5122 - val_loss: 34.4919 - val_mse: 34.4919\n",
            "Epoch 59/300\n",
            "91/91 [==============================] - 0s 4ms/step - loss: 37.9159 - mse: 37.9159 - val_loss: 35.5383 - val_mse: 35.5383\n",
            "Epoch 60/300\n",
            "91/91 [==============================] - 0s 4ms/step - loss: 39.1750 - mse: 39.1750 - val_loss: 31.7328 - val_mse: 31.7328\n",
            "Epoch 61/300\n",
            "91/91 [==============================] - 0s 4ms/step - loss: 35.6833 - mse: 35.6833 - val_loss: 33.7782 - val_mse: 33.7782\n",
            "Epoch 62/300\n",
            "91/91 [==============================] - 0s 4ms/step - loss: 38.5835 - mse: 38.5835 - val_loss: 31.8608 - val_mse: 31.8608\n",
            "Epoch 63/300\n",
            "91/91 [==============================] - 0s 4ms/step - loss: 37.4137 - mse: 37.4137 - val_loss: 33.9902 - val_mse: 33.9902\n",
            "Epoch 64/300\n",
            "91/91 [==============================] - 0s 4ms/step - loss: 38.7442 - mse: 38.7442 - val_loss: 38.4839 - val_mse: 38.4839\n",
            "Epoch 65/300\n",
            "91/91 [==============================] - 0s 4ms/step - loss: 36.4962 - mse: 36.4962 - val_loss: 32.0146 - val_mse: 32.0146\n",
            "Epoch 66/300\n",
            "91/91 [==============================] - 0s 4ms/step - loss: 37.2414 - mse: 37.2414 - val_loss: 39.4310 - val_mse: 39.4310\n",
            "Epoch 67/300\n",
            "91/91 [==============================] - 0s 4ms/step - loss: 34.3555 - mse: 34.3555 - val_loss: 37.5387 - val_mse: 37.5387\n",
            "Epoch 68/300\n",
            "91/91 [==============================] - 0s 4ms/step - loss: 35.2909 - mse: 35.2909 - val_loss: 34.8951 - val_mse: 34.8951\n",
            "Epoch 69/300\n",
            "91/91 [==============================] - 0s 4ms/step - loss: 37.0894 - mse: 37.0894 - val_loss: 42.0945 - val_mse: 42.0945\n",
            "Epoch 70/300\n",
            "91/91 [==============================] - 0s 4ms/step - loss: 35.0738 - mse: 35.0738 - val_loss: 34.4265 - val_mse: 34.4265\n",
            "Epoch 71/300\n",
            "91/91 [==============================] - 0s 4ms/step - loss: 37.3079 - mse: 37.3079 - val_loss: 35.1066 - val_mse: 35.1066\n",
            "Epoch 72/300\n",
            "91/91 [==============================] - 0s 4ms/step - loss: 34.0516 - mse: 34.0516 - val_loss: 32.6689 - val_mse: 32.6689\n",
            "Epoch 73/300\n",
            "91/91 [==============================] - 0s 4ms/step - loss: 36.4921 - mse: 36.4921 - val_loss: 35.1814 - val_mse: 35.1814\n",
            "Epoch 74/300\n",
            "91/91 [==============================] - 0s 4ms/step - loss: 32.9066 - mse: 32.9066 - val_loss: 29.7160 - val_mse: 29.7160\n",
            "Epoch 75/300\n",
            "91/91 [==============================] - 0s 4ms/step - loss: 38.7495 - mse: 38.7495 - val_loss: 37.3568 - val_mse: 37.3568\n",
            "Epoch 76/300\n",
            "91/91 [==============================] - 0s 4ms/step - loss: 36.2578 - mse: 36.2578 - val_loss: 33.1168 - val_mse: 33.1168\n",
            "Epoch 77/300\n",
            "91/91 [==============================] - 0s 4ms/step - loss: 31.7185 - mse: 31.7185 - val_loss: 40.0694 - val_mse: 40.0694\n",
            "Epoch 78/300\n",
            "91/91 [==============================] - 0s 4ms/step - loss: 34.6640 - mse: 34.6640 - val_loss: 32.2034 - val_mse: 32.2034\n",
            "Epoch 79/300\n",
            "91/91 [==============================] - 0s 4ms/step - loss: 33.2712 - mse: 33.2712 - val_loss: 30.9439 - val_mse: 30.9439\n",
            "Epoch 80/300\n",
            "91/91 [==============================] - 0s 4ms/step - loss: 35.8948 - mse: 35.8948 - val_loss: 30.3775 - val_mse: 30.3775\n",
            "Epoch 81/300\n",
            "91/91 [==============================] - 0s 4ms/step - loss: 32.9999 - mse: 32.9999 - val_loss: 31.5109 - val_mse: 31.5109\n",
            "Epoch 82/300\n",
            "91/91 [==============================] - 0s 4ms/step - loss: 33.0183 - mse: 33.0183 - val_loss: 29.1557 - val_mse: 29.1557\n",
            "Epoch 83/300\n",
            "91/91 [==============================] - 0s 4ms/step - loss: 32.6222 - mse: 32.6222 - val_loss: 28.5461 - val_mse: 28.5461\n",
            "Epoch 84/300\n",
            "91/91 [==============================] - 0s 4ms/step - loss: 32.9764 - mse: 32.9764 - val_loss: 39.8895 - val_mse: 39.8895\n",
            "Epoch 85/300\n",
            "91/91 [==============================] - 0s 4ms/step - loss: 32.0398 - mse: 32.0398 - val_loss: 30.3710 - val_mse: 30.3710\n",
            "Epoch 86/300\n",
            "91/91 [==============================] - 0s 4ms/step - loss: 31.6118 - mse: 31.6118 - val_loss: 30.5233 - val_mse: 30.5233\n",
            "Epoch 87/300\n",
            "91/91 [==============================] - 0s 4ms/step - loss: 30.9557 - mse: 30.9557 - val_loss: 30.5402 - val_mse: 30.5402\n",
            "Epoch 88/300\n",
            "91/91 [==============================] - 0s 4ms/step - loss: 29.8430 - mse: 29.8430 - val_loss: 30.1751 - val_mse: 30.1751\n",
            "Epoch 89/300\n",
            "91/91 [==============================] - 0s 4ms/step - loss: 30.2953 - mse: 30.2953 - val_loss: 30.6583 - val_mse: 30.6583\n",
            "Epoch 90/300\n",
            "91/91 [==============================] - 0s 4ms/step - loss: 32.1753 - mse: 32.1753 - val_loss: 31.2777 - val_mse: 31.2777\n",
            "Epoch 91/300\n",
            "91/91 [==============================] - 0s 4ms/step - loss: 31.7436 - mse: 31.7436 - val_loss: 27.9135 - val_mse: 27.9135\n",
            "Epoch 92/300\n",
            "91/91 [==============================] - 0s 4ms/step - loss: 31.7004 - mse: 31.7004 - val_loss: 26.6905 - val_mse: 26.6905\n",
            "Epoch 93/300\n",
            "91/91 [==============================] - 0s 4ms/step - loss: 30.8962 - mse: 30.8962 - val_loss: 31.8456 - val_mse: 31.8456\n",
            "Epoch 94/300\n",
            "91/91 [==============================] - 0s 4ms/step - loss: 31.0130 - mse: 31.0130 - val_loss: 29.9171 - val_mse: 29.9171\n",
            "Epoch 95/300\n",
            "91/91 [==============================] - 0s 4ms/step - loss: 28.3924 - mse: 28.3924 - val_loss: 27.9104 - val_mse: 27.9104\n",
            "Epoch 96/300\n",
            "91/91 [==============================] - 0s 4ms/step - loss: 29.8961 - mse: 29.8961 - val_loss: 33.9116 - val_mse: 33.9116\n",
            "Epoch 97/300\n",
            "91/91 [==============================] - 0s 4ms/step - loss: 28.4965 - mse: 28.4965 - val_loss: 30.5020 - val_mse: 30.5020\n",
            "Epoch 98/300\n",
            "91/91 [==============================] - 0s 4ms/step - loss: 29.4982 - mse: 29.4982 - val_loss: 33.0636 - val_mse: 33.0636\n",
            "Epoch 99/300\n",
            "91/91 [==============================] - 0s 4ms/step - loss: 32.3003 - mse: 32.3003 - val_loss: 26.8455 - val_mse: 26.8455\n",
            "Epoch 100/300\n",
            "91/91 [==============================] - 0s 4ms/step - loss: 31.1509 - mse: 31.1509 - val_loss: 30.8533 - val_mse: 30.8533\n",
            "Epoch 101/300\n",
            "91/91 [==============================] - 0s 4ms/step - loss: 29.8839 - mse: 29.8839 - val_loss: 28.4328 - val_mse: 28.4328\n",
            "Epoch 102/300\n",
            "91/91 [==============================] - 0s 4ms/step - loss: 27.3017 - mse: 27.3017 - val_loss: 28.6198 - val_mse: 28.6198\n",
            "Epoch 103/300\n",
            "91/91 [==============================] - 0s 4ms/step - loss: 30.5875 - mse: 30.5875 - val_loss: 29.0438 - val_mse: 29.0438\n",
            "Epoch 104/300\n",
            "91/91 [==============================] - 0s 4ms/step - loss: 29.5713 - mse: 29.5713 - val_loss: 27.1211 - val_mse: 27.1211\n",
            "Epoch 105/300\n",
            "91/91 [==============================] - 0s 4ms/step - loss: 31.2755 - mse: 31.2755 - val_loss: 26.9219 - val_mse: 26.9219\n",
            "Epoch 106/300\n",
            "91/91 [==============================] - 0s 4ms/step - loss: 27.2496 - mse: 27.2496 - val_loss: 28.9935 - val_mse: 28.9935\n",
            "Epoch 107/300\n",
            "91/91 [==============================] - 0s 4ms/step - loss: 28.1370 - mse: 28.1370 - val_loss: 31.6267 - val_mse: 31.6267\n",
            "Epoch 108/300\n",
            "91/91 [==============================] - 0s 4ms/step - loss: 25.6629 - mse: 25.6629 - val_loss: 25.4848 - val_mse: 25.4848\n",
            "Epoch 109/300\n",
            "91/91 [==============================] - 0s 4ms/step - loss: 28.1198 - mse: 28.1198 - val_loss: 28.2683 - val_mse: 28.2683\n",
            "Epoch 110/300\n",
            "91/91 [==============================] - 0s 4ms/step - loss: 25.6918 - mse: 25.6918 - val_loss: 27.5308 - val_mse: 27.5308\n",
            "Epoch 111/300\n",
            "91/91 [==============================] - 0s 4ms/step - loss: 32.2681 - mse: 32.2681 - val_loss: 27.9723 - val_mse: 27.9723\n",
            "Epoch 112/300\n",
            "91/91 [==============================] - 0s 4ms/step - loss: 29.5268 - mse: 29.5268 - val_loss: 26.6403 - val_mse: 26.6403\n",
            "Epoch 113/300\n",
            "91/91 [==============================] - 0s 4ms/step - loss: 29.4244 - mse: 29.4244 - val_loss: 29.2585 - val_mse: 29.2585\n",
            "Epoch 114/300\n",
            "91/91 [==============================] - 0s 4ms/step - loss: 32.2163 - mse: 32.2163 - val_loss: 26.1442 - val_mse: 26.1442\n",
            "Epoch 115/300\n",
            "91/91 [==============================] - 0s 4ms/step - loss: 25.9603 - mse: 25.9603 - val_loss: 25.1425 - val_mse: 25.1425\n",
            "Epoch 116/300\n",
            "91/91 [==============================] - 0s 4ms/step - loss: 28.7482 - mse: 28.7482 - val_loss: 25.6679 - val_mse: 25.6679\n",
            "Epoch 117/300\n",
            "91/91 [==============================] - 0s 4ms/step - loss: 27.2270 - mse: 27.2270 - val_loss: 25.9706 - val_mse: 25.9706\n",
            "Epoch 118/300\n",
            "91/91 [==============================] - 0s 4ms/step - loss: 26.6218 - mse: 26.6218 - val_loss: 28.0563 - val_mse: 28.0563\n",
            "Epoch 119/300\n",
            "91/91 [==============================] - 0s 4ms/step - loss: 24.8218 - mse: 24.8218 - val_loss: 25.9828 - val_mse: 25.9828\n",
            "Epoch 120/300\n",
            "91/91 [==============================] - 0s 4ms/step - loss: 26.3050 - mse: 26.3050 - val_loss: 27.3165 - val_mse: 27.3165\n",
            "Epoch 121/300\n",
            "91/91 [==============================] - 0s 4ms/step - loss: 27.1258 - mse: 27.1258 - val_loss: 26.3962 - val_mse: 26.3962\n",
            "Epoch 122/300\n",
            "91/91 [==============================] - 0s 4ms/step - loss: 30.2723 - mse: 30.2723 - val_loss: 28.2401 - val_mse: 28.2401\n",
            "Epoch 123/300\n",
            "91/91 [==============================] - 0s 4ms/step - loss: 27.9852 - mse: 27.9852 - val_loss: 24.4191 - val_mse: 24.4191\n",
            "Epoch 124/300\n",
            "91/91 [==============================] - 0s 4ms/step - loss: 26.7083 - mse: 26.7083 - val_loss: 23.9952 - val_mse: 23.9952\n",
            "Epoch 125/300\n",
            "91/91 [==============================] - 0s 4ms/step - loss: 23.6668 - mse: 23.6668 - val_loss: 24.3144 - val_mse: 24.3144\n",
            "Epoch 126/300\n",
            "91/91 [==============================] - 0s 4ms/step - loss: 26.7822 - mse: 26.7822 - val_loss: 24.1218 - val_mse: 24.1218\n",
            "Epoch 127/300\n",
            "91/91 [==============================] - 0s 4ms/step - loss: 27.2060 - mse: 27.2060 - val_loss: 26.8148 - val_mse: 26.8148\n",
            "Epoch 128/300\n",
            "91/91 [==============================] - 0s 4ms/step - loss: 24.5847 - mse: 24.5847 - val_loss: 25.6495 - val_mse: 25.6495\n",
            "Epoch 129/300\n",
            "91/91 [==============================] - 0s 4ms/step - loss: 24.8113 - mse: 24.8113 - val_loss: 25.3082 - val_mse: 25.3082\n",
            "Epoch 130/300\n",
            "91/91 [==============================] - 0s 4ms/step - loss: 25.3845 - mse: 25.3845 - val_loss: 28.2841 - val_mse: 28.2841\n",
            "Epoch 131/300\n",
            "91/91 [==============================] - 0s 4ms/step - loss: 26.6667 - mse: 26.6667 - val_loss: 28.5975 - val_mse: 28.5975\n",
            "Epoch 132/300\n",
            "91/91 [==============================] - 0s 4ms/step - loss: 24.9847 - mse: 24.9847 - val_loss: 32.8810 - val_mse: 32.8810\n",
            "Epoch 133/300\n",
            "91/91 [==============================] - 0s 4ms/step - loss: 27.3794 - mse: 27.3794 - val_loss: 24.8481 - val_mse: 24.8481\n",
            "Epoch 134/300\n",
            "91/91 [==============================] - 0s 4ms/step - loss: 24.6032 - mse: 24.6032 - val_loss: 24.0328 - val_mse: 24.0328\n",
            "Epoch 135/300\n",
            "91/91 [==============================] - 0s 4ms/step - loss: 27.3111 - mse: 27.3111 - val_loss: 24.8647 - val_mse: 24.8647\n",
            "Epoch 136/300\n",
            "91/91 [==============================] - 0s 4ms/step - loss: 22.9624 - mse: 22.9624 - val_loss: 27.1859 - val_mse: 27.1859\n",
            "Epoch 137/300\n",
            "91/91 [==============================] - 0s 4ms/step - loss: 24.5482 - mse: 24.5482 - val_loss: 27.2849 - val_mse: 27.2849\n",
            "Epoch 138/300\n",
            "91/91 [==============================] - 0s 4ms/step - loss: 25.8190 - mse: 25.8190 - val_loss: 24.1614 - val_mse: 24.1614\n",
            "Epoch 139/300\n",
            "91/91 [==============================] - 0s 4ms/step - loss: 30.4879 - mse: 30.4879 - val_loss: 24.9174 - val_mse: 24.9174\n",
            "Epoch 140/300\n",
            "91/91 [==============================] - 0s 4ms/step - loss: 23.0400 - mse: 23.0400 - val_loss: 25.5347 - val_mse: 25.5347\n",
            "Epoch 141/300\n",
            "91/91 [==============================] - 0s 4ms/step - loss: 23.5810 - mse: 23.5810 - val_loss: 25.3795 - val_mse: 25.3795\n",
            "Epoch 142/300\n",
            "91/91 [==============================] - 0s 4ms/step - loss: 23.3122 - mse: 23.3122 - val_loss: 23.1404 - val_mse: 23.1404\n",
            "Epoch 143/300\n",
            "91/91 [==============================] - 0s 4ms/step - loss: 24.4042 - mse: 24.4042 - val_loss: 26.0411 - val_mse: 26.0411\n",
            "Epoch 144/300\n",
            "91/91 [==============================] - 0s 4ms/step - loss: 24.0847 - mse: 24.0847 - val_loss: 24.0147 - val_mse: 24.0147\n",
            "Epoch 145/300\n",
            "91/91 [==============================] - 0s 4ms/step - loss: 22.3100 - mse: 22.3100 - val_loss: 24.1706 - val_mse: 24.1706\n",
            "Epoch 146/300\n",
            "91/91 [==============================] - 0s 4ms/step - loss: 26.3306 - mse: 26.3306 - val_loss: 26.9475 - val_mse: 26.9475\n",
            "Epoch 147/300\n",
            "91/91 [==============================] - 0s 4ms/step - loss: 26.4388 - mse: 26.4388 - val_loss: 23.6614 - val_mse: 23.6614\n",
            "Epoch 148/300\n",
            "91/91 [==============================] - 0s 4ms/step - loss: 26.2950 - mse: 26.2950 - val_loss: 33.1799 - val_mse: 33.1799\n",
            "Epoch 149/300\n",
            "91/91 [==============================] - 0s 4ms/step - loss: 25.7393 - mse: 25.7393 - val_loss: 27.6025 - val_mse: 27.6025\n",
            "Epoch 150/300\n",
            "91/91 [==============================] - 0s 4ms/step - loss: 25.2730 - mse: 25.2730 - val_loss: 26.6926 - val_mse: 26.6926\n",
            "Epoch 151/300\n",
            "91/91 [==============================] - 0s 4ms/step - loss: 25.9563 - mse: 25.9563 - val_loss: 26.2091 - val_mse: 26.2091\n",
            "Epoch 152/300\n",
            "91/91 [==============================] - 0s 4ms/step - loss: 24.6898 - mse: 24.6898 - val_loss: 23.6153 - val_mse: 23.6153\n",
            "Epoch 153/300\n",
            "91/91 [==============================] - 0s 5ms/step - loss: 23.7898 - mse: 23.7898 - val_loss: 23.6446 - val_mse: 23.6446\n",
            "Epoch 154/300\n",
            "91/91 [==============================] - 0s 4ms/step - loss: 24.9694 - mse: 24.9694 - val_loss: 23.8614 - val_mse: 23.8614\n",
            "Epoch 155/300\n",
            "91/91 [==============================] - 0s 4ms/step - loss: 23.0975 - mse: 23.0975 - val_loss: 24.7090 - val_mse: 24.7090\n",
            "Epoch 156/300\n",
            "91/91 [==============================] - 0s 4ms/step - loss: 22.2815 - mse: 22.2815 - val_loss: 24.2916 - val_mse: 24.2916\n",
            "Epoch 157/300\n",
            "91/91 [==============================] - 0s 4ms/step - loss: 23.8371 - mse: 23.8371 - val_loss: 24.0620 - val_mse: 24.0620\n",
            "Epoch 158/300\n",
            "91/91 [==============================] - 0s 4ms/step - loss: 24.9882 - mse: 24.9882 - val_loss: 25.7891 - val_mse: 25.7891\n",
            "Epoch 159/300\n",
            "91/91 [==============================] - 0s 4ms/step - loss: 25.1813 - mse: 25.1813 - val_loss: 25.2700 - val_mse: 25.2700\n",
            "Epoch 160/300\n",
            "91/91 [==============================] - 0s 4ms/step - loss: 24.3744 - mse: 24.3744 - val_loss: 23.2570 - val_mse: 23.2570\n",
            "Epoch 161/300\n",
            "91/91 [==============================] - 0s 4ms/step - loss: 23.4579 - mse: 23.4579 - val_loss: 25.2652 - val_mse: 25.2652\n",
            "Epoch 162/300\n",
            "91/91 [==============================] - 0s 4ms/step - loss: 23.9509 - mse: 23.9509 - val_loss: 24.0242 - val_mse: 24.0242\n",
            "Epoch 163/300\n",
            "91/91 [==============================] - 0s 4ms/step - loss: 24.0279 - mse: 24.0279 - val_loss: 26.5297 - val_mse: 26.5297\n",
            "Epoch 164/300\n",
            "91/91 [==============================] - 0s 4ms/step - loss: 24.8907 - mse: 24.8907 - val_loss: 24.8189 - val_mse: 24.8189\n",
            "Epoch 165/300\n",
            "91/91 [==============================] - 0s 4ms/step - loss: 23.0543 - mse: 23.0543 - val_loss: 24.1783 - val_mse: 24.1783\n",
            "Epoch 166/300\n",
            "91/91 [==============================] - 0s 4ms/step - loss: 22.4658 - mse: 22.4658 - val_loss: 23.4830 - val_mse: 23.4830\n",
            "Epoch 167/300\n",
            "91/91 [==============================] - 0s 4ms/step - loss: 22.3225 - mse: 22.3225 - val_loss: 23.7018 - val_mse: 23.7018\n",
            "Epoch 168/300\n",
            "91/91 [==============================] - 0s 4ms/step - loss: 23.2272 - mse: 23.2272 - val_loss: 26.4166 - val_mse: 26.4166\n",
            "Epoch 169/300\n",
            "91/91 [==============================] - 0s 4ms/step - loss: 21.9814 - mse: 21.9814 - val_loss: 25.3859 - val_mse: 25.3859\n",
            "Epoch 170/300\n",
            "91/91 [==============================] - 0s 4ms/step - loss: 23.9264 - mse: 23.9264 - val_loss: 24.8785 - val_mse: 24.8785\n",
            "Epoch 171/300\n",
            "91/91 [==============================] - 0s 4ms/step - loss: 24.3516 - mse: 24.3516 - val_loss: 27.0694 - val_mse: 27.0694\n",
            "Epoch 172/300\n",
            "91/91 [==============================] - 0s 4ms/step - loss: 26.1548 - mse: 26.1548 - val_loss: 23.3537 - val_mse: 23.3537\n",
            "Epoch 173/300\n",
            "91/91 [==============================] - 0s 4ms/step - loss: 23.1852 - mse: 23.1852 - val_loss: 22.9733 - val_mse: 22.9733\n",
            "Epoch 174/300\n",
            "91/91 [==============================] - 0s 4ms/step - loss: 19.8515 - mse: 19.8515 - val_loss: 24.1383 - val_mse: 24.1383\n",
            "Epoch 175/300\n",
            "91/91 [==============================] - 0s 4ms/step - loss: 22.6925 - mse: 22.6925 - val_loss: 23.5928 - val_mse: 23.5928\n",
            "Epoch 176/300\n",
            "91/91 [==============================] - 0s 5ms/step - loss: 23.5021 - mse: 23.5021 - val_loss: 22.6705 - val_mse: 22.6705\n",
            "Epoch 177/300\n",
            "91/91 [==============================] - 0s 4ms/step - loss: 23.3516 - mse: 23.3516 - val_loss: 22.4709 - val_mse: 22.4709\n",
            "Epoch 178/300\n",
            "91/91 [==============================] - 0s 4ms/step - loss: 23.8915 - mse: 23.8915 - val_loss: 22.3953 - val_mse: 22.3953\n",
            "Epoch 179/300\n",
            "91/91 [==============================] - 0s 4ms/step - loss: 23.8646 - mse: 23.8646 - val_loss: 24.6346 - val_mse: 24.6346\n",
            "Epoch 180/300\n",
            "91/91 [==============================] - 0s 4ms/step - loss: 22.5492 - mse: 22.5492 - val_loss: 24.9551 - val_mse: 24.9551\n",
            "Epoch 181/300\n",
            "91/91 [==============================] - 0s 4ms/step - loss: 23.5161 - mse: 23.5161 - val_loss: 22.7835 - val_mse: 22.7835\n",
            "Epoch 182/300\n",
            "91/91 [==============================] - 0s 4ms/step - loss: 25.7448 - mse: 25.7448 - val_loss: 36.8431 - val_mse: 36.8431\n",
            "Epoch 183/300\n",
            "91/91 [==============================] - 0s 4ms/step - loss: 24.5302 - mse: 24.5302 - val_loss: 24.0270 - val_mse: 24.0270\n",
            "Epoch 184/300\n",
            "91/91 [==============================] - 0s 4ms/step - loss: 20.8646 - mse: 20.8646 - val_loss: 22.4276 - val_mse: 22.4276\n",
            "Epoch 185/300\n",
            "91/91 [==============================] - 0s 4ms/step - loss: 20.3561 - mse: 20.3561 - val_loss: 22.7783 - val_mse: 22.7783\n",
            "Epoch 186/300\n",
            "91/91 [==============================] - 0s 4ms/step - loss: 22.0795 - mse: 22.0795 - val_loss: 22.4664 - val_mse: 22.4664\n",
            "Epoch 187/300\n",
            "91/91 [==============================] - 0s 4ms/step - loss: 20.2923 - mse: 20.2923 - val_loss: 25.7860 - val_mse: 25.7860\n",
            "Epoch 188/300\n",
            "91/91 [==============================] - 0s 4ms/step - loss: 24.1516 - mse: 24.1516 - val_loss: 24.6065 - val_mse: 24.6065\n",
            "Epoch 189/300\n",
            "91/91 [==============================] - 0s 4ms/step - loss: 22.5218 - mse: 22.5218 - val_loss: 22.9632 - val_mse: 22.9632\n",
            "Epoch 190/300\n",
            "91/91 [==============================] - 0s 4ms/step - loss: 23.7188 - mse: 23.7188 - val_loss: 23.7380 - val_mse: 23.7380\n",
            "Epoch 191/300\n",
            "91/91 [==============================] - 0s 4ms/step - loss: 20.6266 - mse: 20.6266 - val_loss: 26.5241 - val_mse: 26.5241\n",
            "Epoch 192/300\n",
            "91/91 [==============================] - 0s 4ms/step - loss: 22.7501 - mse: 22.7501 - val_loss: 23.3781 - val_mse: 23.3781\n",
            "Epoch 193/300\n",
            "91/91 [==============================] - 0s 4ms/step - loss: 23.2497 - mse: 23.2497 - val_loss: 22.7590 - val_mse: 22.7590\n",
            "Epoch 194/300\n",
            "91/91 [==============================] - 0s 4ms/step - loss: 21.2927 - mse: 21.2927 - val_loss: 32.1447 - val_mse: 32.1447\n",
            "Epoch 195/300\n",
            "91/91 [==============================] - 0s 4ms/step - loss: 23.8861 - mse: 23.8861 - val_loss: 23.4892 - val_mse: 23.4892\n",
            "Epoch 196/300\n",
            "91/91 [==============================] - 0s 4ms/step - loss: 21.8024 - mse: 21.8024 - val_loss: 23.6682 - val_mse: 23.6682\n",
            "Epoch 197/300\n",
            "91/91 [==============================] - 0s 4ms/step - loss: 22.4453 - mse: 22.4453 - val_loss: 23.9148 - val_mse: 23.9148\n",
            "Epoch 198/300\n",
            "91/91 [==============================] - 0s 4ms/step - loss: 21.1086 - mse: 21.1086 - val_loss: 23.2695 - val_mse: 23.2695\n",
            "Epoch 199/300\n",
            "91/91 [==============================] - 0s 4ms/step - loss: 21.2227 - mse: 21.2227 - val_loss: 22.0256 - val_mse: 22.0256\n",
            "Epoch 200/300\n",
            "91/91 [==============================] - 0s 4ms/step - loss: 23.8859 - mse: 23.8859 - val_loss: 29.6050 - val_mse: 29.6050\n",
            "Epoch 201/300\n",
            "91/91 [==============================] - 0s 4ms/step - loss: 20.5930 - mse: 20.5930 - val_loss: 25.7599 - val_mse: 25.7599\n",
            "Epoch 202/300\n",
            "91/91 [==============================] - 0s 4ms/step - loss: 24.7829 - mse: 24.7829 - val_loss: 23.9930 - val_mse: 23.9930\n",
            "Epoch 203/300\n",
            "91/91 [==============================] - 0s 4ms/step - loss: 22.9942 - mse: 22.9942 - val_loss: 23.9572 - val_mse: 23.9572\n",
            "Epoch 204/300\n",
            "91/91 [==============================] - 0s 4ms/step - loss: 25.0803 - mse: 25.0803 - val_loss: 23.5687 - val_mse: 23.5687\n",
            "Epoch 205/300\n",
            "91/91 [==============================] - 0s 4ms/step - loss: 22.7624 - mse: 22.7624 - val_loss: 22.4412 - val_mse: 22.4412\n",
            "Epoch 206/300\n",
            "91/91 [==============================] - 0s 4ms/step - loss: 21.1397 - mse: 21.1397 - val_loss: 23.4932 - val_mse: 23.4932\n",
            "Epoch 207/300\n",
            "91/91 [==============================] - 0s 4ms/step - loss: 21.1563 - mse: 21.1563 - val_loss: 25.2605 - val_mse: 25.2605\n",
            "Epoch 208/300\n",
            "91/91 [==============================] - 0s 4ms/step - loss: 22.2731 - mse: 22.2731 - val_loss: 24.5293 - val_mse: 24.5293\n",
            "Epoch 209/300\n",
            "91/91 [==============================] - 0s 4ms/step - loss: 20.4396 - mse: 20.4396 - val_loss: 21.4928 - val_mse: 21.4928\n",
            "Epoch 210/300\n",
            "91/91 [==============================] - 0s 4ms/step - loss: 18.7624 - mse: 18.7624 - val_loss: 23.1993 - val_mse: 23.1993\n",
            "Epoch 211/300\n",
            "91/91 [==============================] - 0s 4ms/step - loss: 20.8894 - mse: 20.8894 - val_loss: 22.2550 - val_mse: 22.2550\n",
            "Epoch 212/300\n",
            "91/91 [==============================] - 0s 4ms/step - loss: 18.2584 - mse: 18.2584 - val_loss: 23.0902 - val_mse: 23.0902\n",
            "Epoch 213/300\n",
            "91/91 [==============================] - 0s 4ms/step - loss: 22.1213 - mse: 22.1213 - val_loss: 22.1550 - val_mse: 22.1550\n",
            "Epoch 214/300\n",
            "91/91 [==============================] - 0s 4ms/step - loss: 20.3599 - mse: 20.3599 - val_loss: 24.4653 - val_mse: 24.4653\n",
            "Epoch 215/300\n",
            "91/91 [==============================] - 0s 4ms/step - loss: 20.5595 - mse: 20.5595 - val_loss: 26.6214 - val_mse: 26.6214\n",
            "Epoch 216/300\n",
            "91/91 [==============================] - 0s 4ms/step - loss: 18.9506 - mse: 18.9506 - val_loss: 23.3591 - val_mse: 23.3591\n",
            "Epoch 217/300\n",
            "91/91 [==============================] - 0s 4ms/step - loss: 21.1488 - mse: 21.1488 - val_loss: 23.9282 - val_mse: 23.9282\n",
            "Epoch 218/300\n",
            "91/91 [==============================] - 0s 4ms/step - loss: 20.7384 - mse: 20.7384 - val_loss: 21.6140 - val_mse: 21.6140\n",
            "Epoch 219/300\n",
            "91/91 [==============================] - 0s 4ms/step - loss: 19.2389 - mse: 19.2389 - val_loss: 23.7890 - val_mse: 23.7890\n",
            "Epoch 220/300\n",
            "91/91 [==============================] - 0s 4ms/step - loss: 22.3023 - mse: 22.3023 - val_loss: 24.8445 - val_mse: 24.8445\n",
            "Epoch 221/300\n",
            "91/91 [==============================] - 0s 4ms/step - loss: 20.6310 - mse: 20.6310 - val_loss: 23.4387 - val_mse: 23.4387\n",
            "Epoch 222/300\n",
            "91/91 [==============================] - 0s 4ms/step - loss: 20.2449 - mse: 20.2449 - val_loss: 25.2709 - val_mse: 25.2709\n",
            "Epoch 223/300\n",
            "91/91 [==============================] - 0s 4ms/step - loss: 20.2446 - mse: 20.2446 - val_loss: 23.2993 - val_mse: 23.2993\n",
            "Epoch 224/300\n",
            "91/91 [==============================] - 0s 4ms/step - loss: 21.2879 - mse: 21.2879 - val_loss: 22.0389 - val_mse: 22.0389\n",
            "Epoch 225/300\n",
            "91/91 [==============================] - 0s 4ms/step - loss: 21.1085 - mse: 21.1085 - val_loss: 23.1105 - val_mse: 23.1105\n",
            "Epoch 226/300\n",
            "91/91 [==============================] - 0s 4ms/step - loss: 20.3026 - mse: 20.3026 - val_loss: 21.8445 - val_mse: 21.8445\n",
            "Epoch 227/300\n",
            "91/91 [==============================] - 0s 4ms/step - loss: 20.0956 - mse: 20.0956 - val_loss: 25.9562 - val_mse: 25.9562\n",
            "Epoch 228/300\n",
            "91/91 [==============================] - 0s 4ms/step - loss: 23.1442 - mse: 23.1442 - val_loss: 28.5020 - val_mse: 28.5020\n",
            "Epoch 229/300\n",
            "91/91 [==============================] - 0s 4ms/step - loss: 22.7458 - mse: 22.7458 - val_loss: 27.4632 - val_mse: 27.4632\n",
            "Epoch 230/300\n",
            "91/91 [==============================] - 0s 4ms/step - loss: 21.6138 - mse: 21.6138 - val_loss: 23.0833 - val_mse: 23.0833\n",
            "Epoch 231/300\n",
            "91/91 [==============================] - 0s 4ms/step - loss: 21.9093 - mse: 21.9093 - val_loss: 22.0425 - val_mse: 22.0425\n",
            "Epoch 232/300\n",
            "91/91 [==============================] - 0s 4ms/step - loss: 22.2942 - mse: 22.2942 - val_loss: 23.4289 - val_mse: 23.4289\n",
            "Epoch 233/300\n",
            "91/91 [==============================] - 0s 4ms/step - loss: 18.8175 - mse: 18.8175 - val_loss: 22.5154 - val_mse: 22.5154\n",
            "Epoch 234/300\n",
            "91/91 [==============================] - 0s 4ms/step - loss: 21.1895 - mse: 21.1895 - val_loss: 21.7048 - val_mse: 21.7048\n",
            "Epoch 235/300\n",
            "91/91 [==============================] - 0s 4ms/step - loss: 19.2264 - mse: 19.2264 - val_loss: 24.5307 - val_mse: 24.5307\n",
            "Epoch 236/300\n",
            "91/91 [==============================] - 0s 4ms/step - loss: 21.3479 - mse: 21.3479 - val_loss: 21.9238 - val_mse: 21.9238\n",
            "Epoch 237/300\n",
            "91/91 [==============================] - 0s 4ms/step - loss: 19.5691 - mse: 19.5691 - val_loss: 24.0102 - val_mse: 24.0102\n",
            "Epoch 238/300\n",
            "91/91 [==============================] - 0s 4ms/step - loss: 20.7537 - mse: 20.7537 - val_loss: 30.9544 - val_mse: 30.9544\n",
            "Epoch 239/300\n",
            "91/91 [==============================] - 0s 4ms/step - loss: 20.4076 - mse: 20.4076 - val_loss: 21.3600 - val_mse: 21.3600\n",
            "Epoch 240/300\n",
            "91/91 [==============================] - 0s 4ms/step - loss: 20.0400 - mse: 20.0400 - val_loss: 22.6796 - val_mse: 22.6796\n",
            "Epoch 241/300\n",
            "91/91 [==============================] - 0s 4ms/step - loss: 18.5954 - mse: 18.5954 - val_loss: 21.1906 - val_mse: 21.1906\n",
            "Epoch 242/300\n",
            "91/91 [==============================] - 0s 4ms/step - loss: 22.7070 - mse: 22.7070 - val_loss: 23.1859 - val_mse: 23.1859\n",
            "Epoch 243/300\n",
            "91/91 [==============================] - 0s 4ms/step - loss: 18.9579 - mse: 18.9579 - val_loss: 22.4881 - val_mse: 22.4881\n",
            "Epoch 244/300\n",
            "91/91 [==============================] - 0s 4ms/step - loss: 19.5110 - mse: 19.5110 - val_loss: 20.8977 - val_mse: 20.8977\n",
            "Epoch 245/300\n",
            "91/91 [==============================] - 0s 4ms/step - loss: 18.6692 - mse: 18.6692 - val_loss: 23.0233 - val_mse: 23.0233\n",
            "Epoch 246/300\n",
            "91/91 [==============================] - 0s 4ms/step - loss: 19.0002 - mse: 19.0002 - val_loss: 22.2174 - val_mse: 22.2174\n",
            "Epoch 247/300\n",
            "91/91 [==============================] - 0s 4ms/step - loss: 19.5756 - mse: 19.5756 - val_loss: 21.5790 - val_mse: 21.5790\n",
            "Epoch 248/300\n",
            "91/91 [==============================] - 0s 4ms/step - loss: 22.8335 - mse: 22.8335 - val_loss: 21.2962 - val_mse: 21.2962\n",
            "Epoch 249/300\n",
            "91/91 [==============================] - 0s 4ms/step - loss: 20.4343 - mse: 20.4343 - val_loss: 24.4761 - val_mse: 24.4761\n",
            "Epoch 250/300\n",
            "91/91 [==============================] - 0s 4ms/step - loss: 20.1462 - mse: 20.1462 - val_loss: 28.5779 - val_mse: 28.5779\n",
            "Epoch 251/300\n",
            "91/91 [==============================] - 0s 4ms/step - loss: 19.9445 - mse: 19.9445 - val_loss: 26.4323 - val_mse: 26.4323\n",
            "Epoch 252/300\n",
            "91/91 [==============================] - 0s 5ms/step - loss: 20.8944 - mse: 20.8944 - val_loss: 25.2551 - val_mse: 25.2551\n",
            "Epoch 253/300\n",
            "91/91 [==============================] - 0s 5ms/step - loss: 17.9366 - mse: 17.9366 - val_loss: 22.4197 - val_mse: 22.4197\n",
            "Epoch 254/300\n",
            "91/91 [==============================] - 0s 5ms/step - loss: 22.1735 - mse: 22.1735 - val_loss: 21.5444 - val_mse: 21.5444\n",
            "Epoch 255/300\n",
            "91/91 [==============================] - 0s 5ms/step - loss: 22.2773 - mse: 22.2773 - val_loss: 22.0763 - val_mse: 22.0763\n",
            "Epoch 256/300\n",
            "91/91 [==============================] - 0s 5ms/step - loss: 16.8882 - mse: 16.8882 - val_loss: 20.8559 - val_mse: 20.8559\n",
            "Epoch 257/300\n",
            "91/91 [==============================] - 0s 4ms/step - loss: 19.3124 - mse: 19.3124 - val_loss: 21.9174 - val_mse: 21.9174\n",
            "Epoch 258/300\n",
            "91/91 [==============================] - 0s 4ms/step - loss: 18.3210 - mse: 18.3210 - val_loss: 23.2777 - val_mse: 23.2777\n",
            "Epoch 259/300\n",
            "91/91 [==============================] - 0s 5ms/step - loss: 18.6815 - mse: 18.6815 - val_loss: 21.5413 - val_mse: 21.5413\n",
            "Epoch 260/300\n",
            "91/91 [==============================] - 0s 5ms/step - loss: 18.9613 - mse: 18.9613 - val_loss: 24.4158 - val_mse: 24.4158\n",
            "Epoch 261/300\n",
            "91/91 [==============================] - 0s 5ms/step - loss: 21.8745 - mse: 21.8745 - val_loss: 28.9054 - val_mse: 28.9054\n",
            "Epoch 262/300\n",
            "91/91 [==============================] - 0s 5ms/step - loss: 20.6450 - mse: 20.6450 - val_loss: 21.3422 - val_mse: 21.3422\n",
            "Epoch 263/300\n",
            "91/91 [==============================] - 0s 5ms/step - loss: 17.9926 - mse: 17.9926 - val_loss: 19.8965 - val_mse: 19.8965\n",
            "Epoch 264/300\n",
            "91/91 [==============================] - 0s 5ms/step - loss: 21.4561 - mse: 21.4561 - val_loss: 21.4661 - val_mse: 21.4661\n",
            "Epoch 265/300\n",
            "91/91 [==============================] - 0s 5ms/step - loss: 18.4728 - mse: 18.4728 - val_loss: 22.4284 - val_mse: 22.4284\n",
            "Epoch 266/300\n",
            "91/91 [==============================] - 0s 5ms/step - loss: 17.6689 - mse: 17.6689 - val_loss: 21.1986 - val_mse: 21.1986\n",
            "Epoch 267/300\n",
            "91/91 [==============================] - 0s 5ms/step - loss: 17.7850 - mse: 17.7850 - val_loss: 22.1822 - val_mse: 22.1822\n",
            "Epoch 268/300\n",
            "91/91 [==============================] - 0s 5ms/step - loss: 17.5431 - mse: 17.5431 - val_loss: 24.9039 - val_mse: 24.9039\n",
            "Epoch 269/300\n",
            "91/91 [==============================] - 0s 5ms/step - loss: 18.7532 - mse: 18.7532 - val_loss: 21.2068 - val_mse: 21.2068\n",
            "Epoch 270/300\n",
            "91/91 [==============================] - 0s 5ms/step - loss: 19.6252 - mse: 19.6252 - val_loss: 21.2391 - val_mse: 21.2391\n",
            "Epoch 271/300\n",
            "91/91 [==============================] - 0s 5ms/step - loss: 20.7704 - mse: 20.7704 - val_loss: 22.7587 - val_mse: 22.7587\n",
            "Epoch 272/300\n",
            "91/91 [==============================] - 0s 5ms/step - loss: 20.9324 - mse: 20.9324 - val_loss: 24.9190 - val_mse: 24.9190\n",
            "Epoch 273/300\n",
            "91/91 [==============================] - 0s 5ms/step - loss: 19.3645 - mse: 19.3645 - val_loss: 23.9658 - val_mse: 23.9658\n",
            "Epoch 274/300\n",
            "91/91 [==============================] - 0s 5ms/step - loss: 18.6638 - mse: 18.6638 - val_loss: 22.3757 - val_mse: 22.3757\n",
            "Epoch 275/300\n",
            "91/91 [==============================] - 0s 5ms/step - loss: 16.8983 - mse: 16.8983 - val_loss: 22.9859 - val_mse: 22.9859\n",
            "Epoch 276/300\n",
            "91/91 [==============================] - 0s 5ms/step - loss: 17.8856 - mse: 17.8856 - val_loss: 21.4821 - val_mse: 21.4821\n",
            "Epoch 277/300\n",
            "91/91 [==============================] - 0s 5ms/step - loss: 18.0704 - mse: 18.0704 - val_loss: 20.8098 - val_mse: 20.8098\n",
            "Epoch 278/300\n",
            "91/91 [==============================] - 0s 5ms/step - loss: 20.1911 - mse: 20.1911 - val_loss: 21.6156 - val_mse: 21.6156\n",
            "Epoch 279/300\n",
            "91/91 [==============================] - 0s 5ms/step - loss: 19.7066 - mse: 19.7066 - val_loss: 22.7843 - val_mse: 22.7843\n",
            "Epoch 280/300\n",
            "91/91 [==============================] - 0s 5ms/step - loss: 18.1712 - mse: 18.1712 - val_loss: 22.6812 - val_mse: 22.6812\n",
            "Epoch 281/300\n",
            "91/91 [==============================] - 0s 5ms/step - loss: 17.2721 - mse: 17.2721 - val_loss: 21.4920 - val_mse: 21.4920\n",
            "Epoch 282/300\n",
            "91/91 [==============================] - 0s 5ms/step - loss: 19.0703 - mse: 19.0703 - val_loss: 22.8647 - val_mse: 22.8647\n",
            "Epoch 283/300\n",
            "91/91 [==============================] - 0s 5ms/step - loss: 17.4888 - mse: 17.4888 - val_loss: 20.6311 - val_mse: 20.6311\n",
            "Epoch 284/300\n",
            "91/91 [==============================] - 0s 5ms/step - loss: 17.4720 - mse: 17.4720 - val_loss: 25.2403 - val_mse: 25.2403\n",
            "Epoch 285/300\n",
            "91/91 [==============================] - 0s 5ms/step - loss: 18.4395 - mse: 18.4395 - val_loss: 22.9481 - val_mse: 22.9481\n",
            "Epoch 286/300\n",
            "91/91 [==============================] - 0s 4ms/step - loss: 17.0025 - mse: 17.0025 - val_loss: 23.0429 - val_mse: 23.0429\n",
            "Epoch 287/300\n",
            "91/91 [==============================] - 0s 4ms/step - loss: 17.5683 - mse: 17.5683 - val_loss: 24.3213 - val_mse: 24.3213\n",
            "Epoch 288/300\n",
            "91/91 [==============================] - 0s 4ms/step - loss: 21.5260 - mse: 21.5260 - val_loss: 23.8093 - val_mse: 23.8093\n",
            "Epoch 289/300\n",
            "91/91 [==============================] - 0s 4ms/step - loss: 17.0328 - mse: 17.0328 - val_loss: 21.9102 - val_mse: 21.9102\n",
            "Epoch 290/300\n",
            "91/91 [==============================] - 0s 4ms/step - loss: 17.7838 - mse: 17.7838 - val_loss: 21.0996 - val_mse: 21.0996\n",
            "Epoch 291/300\n",
            "91/91 [==============================] - 0s 4ms/step - loss: 16.3760 - mse: 16.3760 - val_loss: 21.7525 - val_mse: 21.7525\n",
            "Epoch 292/300\n",
            "91/91 [==============================] - 0s 4ms/step - loss: 17.5372 - mse: 17.5372 - val_loss: 20.5874 - val_mse: 20.5874\n",
            "Epoch 293/300\n",
            "91/91 [==============================] - 0s 4ms/step - loss: 19.5922 - mse: 19.5922 - val_loss: 22.6216 - val_mse: 22.6216\n",
            "Epoch 294/300\n",
            "91/91 [==============================] - 0s 4ms/step - loss: 18.5072 - mse: 18.5072 - val_loss: 21.3938 - val_mse: 21.3938\n",
            "Epoch 295/300\n",
            "91/91 [==============================] - 0s 4ms/step - loss: 19.1357 - mse: 19.1357 - val_loss: 21.3739 - val_mse: 21.3739\n",
            "Epoch 296/300\n",
            "91/91 [==============================] - 0s 4ms/step - loss: 18.5980 - mse: 18.5980 - val_loss: 23.7444 - val_mse: 23.7444\n",
            "Epoch 297/300\n",
            "91/91 [==============================] - 0s 4ms/step - loss: 15.1162 - mse: 15.1162 - val_loss: 20.2761 - val_mse: 20.2761\n",
            "Epoch 298/300\n",
            "91/91 [==============================] - 0s 4ms/step - loss: 18.1073 - mse: 18.1073 - val_loss: 21.6642 - val_mse: 21.6642\n",
            "Epoch 299/300\n",
            "91/91 [==============================] - 0s 5ms/step - loss: 15.1848 - mse: 15.1848 - val_loss: 23.2289 - val_mse: 23.2289\n",
            "Epoch 300/300\n",
            "91/91 [==============================] - 0s 4ms/step - loss: 18.2912 - mse: 18.2912 - val_loss: 23.6397 - val_mse: 23.6397\n"
          ],
          "name": "stdout"
        }
      ]
    },
    {
      "cell_type": "code",
      "metadata": {
        "id": "jQIz-hzOBP7Z",
        "outputId": "988ce620-4896-4fe8-b61e-006d9b042578",
        "colab": {
          "base_uri": "https://localhost:8080/",
          "height": 1000
        }
      },
      "source": [
        "y_pred_model1=model1.predict(X_test)\n",
        "y_pred_model1"
      ],
      "execution_count": 110,
      "outputs": [
        {
          "output_type": "execute_result",
          "data": {
            "text/plain": [
              "array([[44.910637 ],\n",
              "       [ 5.9922323],\n",
              "       [51.08001  ],\n",
              "       [38.909054 ],\n",
              "       [35.337063 ],\n",
              "       [60.284794 ],\n",
              "       [43.833694 ],\n",
              "       [50.85818  ],\n",
              "       [45.748405 ],\n",
              "       [34.36788  ],\n",
              "       [44.234978 ],\n",
              "       [13.154295 ],\n",
              "       [20.65496  ],\n",
              "       [30.74935  ],\n",
              "       [49.136513 ],\n",
              "       [25.630817 ],\n",
              "       [27.463337 ],\n",
              "       [24.827719 ],\n",
              "       [23.912266 ],\n",
              "       [39.909164 ],\n",
              "       [21.345512 ],\n",
              "       [62.033443 ],\n",
              "       [13.02173  ],\n",
              "       [35.40266  ],\n",
              "       [39.692356 ],\n",
              "       [44.99269  ],\n",
              "       [12.439501 ],\n",
              "       [25.060436 ],\n",
              "       [29.69666  ],\n",
              "       [10.781698 ],\n",
              "       [25.903023 ],\n",
              "       [11.148786 ],\n",
              "       [61.037777 ],\n",
              "       [17.50221  ],\n",
              "       [55.41448  ],\n",
              "       [28.59193  ],\n",
              "       [35.079105 ],\n",
              "       [65.69229  ],\n",
              "       [22.552649 ],\n",
              "       [37.17647  ],\n",
              "       [69.487114 ],\n",
              "       [23.79078  ],\n",
              "       [27.78891  ],\n",
              "       [19.435244 ],\n",
              "       [42.518295 ],\n",
              "       [41.938057 ],\n",
              "       [26.076227 ],\n",
              "       [53.45967  ],\n",
              "       [27.464096 ],\n",
              "       [18.017374 ],\n",
              "       [36.55935  ],\n",
              "       [30.001427 ],\n",
              "       [30.38026  ],\n",
              "       [26.212177 ],\n",
              "       [36.65146  ],\n",
              "       [72.509056 ],\n",
              "       [75.45531  ],\n",
              "       [49.70733  ],\n",
              "       [46.85067  ],\n",
              "       [56.133747 ],\n",
              "       [49.889572 ],\n",
              "       [36.492123 ],\n",
              "       [26.269386 ],\n",
              "       [22.996521 ],\n",
              "       [ 7.8664017],\n",
              "       [40.19457  ],\n",
              "       [14.48497  ],\n",
              "       [65.97131  ],\n",
              "       [55.12719  ],\n",
              "       [21.881393 ],\n",
              "       [11.742108 ],\n",
              "       [50.385826 ],\n",
              "       [52.610035 ],\n",
              "       [17.555708 ],\n",
              "       [13.155712 ],\n",
              "       [53.63804  ],\n",
              "       [60.862423 ],\n",
              "       [ 9.149809 ],\n",
              "       [72.32614  ],\n",
              "       [ 8.823249 ],\n",
              "       [22.107498 ],\n",
              "       [13.684523 ],\n",
              "       [35.93576  ],\n",
              "       [23.2672   ],\n",
              "       [35.17703  ],\n",
              "       [75.45531  ],\n",
              "       [41.12618  ],\n",
              "       [11.891036 ],\n",
              "       [19.753265 ],\n",
              "       [37.73863  ],\n",
              "       [24.786732 ],\n",
              "       [11.86852  ],\n",
              "       [18.75119  ],\n",
              "       [32.786022 ],\n",
              "       [31.04831  ],\n",
              "       [34.482735 ],\n",
              "       [23.500122 ],\n",
              "       [35.14695  ],\n",
              "       [35.877144 ],\n",
              "       [33.889294 ],\n",
              "       [56.30633  ],\n",
              "       [23.832546 ],\n",
              "       [40.684143 ],\n",
              "       [19.082823 ],\n",
              "       [17.456532 ],\n",
              "       [37.37466  ],\n",
              "       [37.65931  ],\n",
              "       [31.853365 ],\n",
              "       [36.276962 ],\n",
              "       [15.753764 ],\n",
              "       [34.045723 ],\n",
              "       [11.911211 ],\n",
              "       [34.634705 ],\n",
              "       [54.415638 ],\n",
              "       [27.180063 ],\n",
              "       [53.876156 ],\n",
              "       [22.350542 ],\n",
              "       [45.046524 ],\n",
              "       [72.6948   ],\n",
              "       [11.942453 ],\n",
              "       [17.312199 ],\n",
              "       [33.01726  ],\n",
              "       [28.210052 ],\n",
              "       [50.254253 ],\n",
              "       [46.674335 ],\n",
              "       [22.99496  ],\n",
              "       [39.5932   ],\n",
              "       [73.76925  ],\n",
              "       [29.294264 ],\n",
              "       [41.733345 ],\n",
              "       [38.996975 ],\n",
              "       [45.476925 ],\n",
              "       [21.350594 ],\n",
              "       [63.718838 ],\n",
              "       [42.25797  ],\n",
              "       [46.69768  ],\n",
              "       [36.723377 ],\n",
              "       [33.0655   ],\n",
              "       [53.1243   ],\n",
              "       [23.531096 ],\n",
              "       [31.047134 ],\n",
              "       [35.562325 ],\n",
              "       [35.33522  ],\n",
              "       [28.109251 ],\n",
              "       [30.196264 ],\n",
              "       [10.238048 ],\n",
              "       [50.538506 ],\n",
              "       [24.76492  ],\n",
              "       [14.237836 ],\n",
              "       [46.986496 ],\n",
              "       [29.773668 ],\n",
              "       [15.585723 ],\n",
              "       [24.4481   ],\n",
              "       [20.324556 ],\n",
              "       [20.280178 ],\n",
              "       [45.367825 ],\n",
              "       [63.00357  ],\n",
              "       [37.963444 ],\n",
              "       [13.627066 ],\n",
              "       [30.631067 ],\n",
              "       [39.78606  ],\n",
              "       [30.808878 ],\n",
              "       [25.986738 ],\n",
              "       [12.729825 ],\n",
              "       [35.736748 ],\n",
              "       [11.678963 ],\n",
              "       [11.378325 ],\n",
              "       [38.016087 ],\n",
              "       [34.933777 ],\n",
              "       [12.894268 ],\n",
              "       [38.93441  ],\n",
              "       [50.645588 ],\n",
              "       [31.262857 ],\n",
              "       [41.36497  ],\n",
              "       [58.05159  ],\n",
              "       [29.997452 ],\n",
              "       [23.120506 ],\n",
              "       [10.326023 ],\n",
              "       [30.90357  ],\n",
              "       [48.186573 ],\n",
              "       [76.36193  ],\n",
              "       [36.42254  ],\n",
              "       [51.44946  ],\n",
              "       [12.966141 ],\n",
              "       [78.470116 ],\n",
              "       [13.055847 ],\n",
              "       [21.916252 ],\n",
              "       [39.381985 ],\n",
              "       [39.417427 ],\n",
              "       [32.769928 ],\n",
              "       [40.190533 ],\n",
              "       [25.677633 ],\n",
              "       [29.513884 ],\n",
              "       [58.762024 ],\n",
              "       [23.618385 ],\n",
              "       [17.260296 ],\n",
              "       [20.604076 ],\n",
              "       [21.651814 ],\n",
              "       [24.050564 ],\n",
              "       [15.681352 ],\n",
              "       [35.510727 ],\n",
              "       [28.79087  ],\n",
              "       [38.093254 ],\n",
              "       [61.019444 ],\n",
              "       [53.7628   ],\n",
              "       [42.583817 ],\n",
              "       [43.31217  ],\n",
              "       [52.026783 ],\n",
              "       [16.122238 ],\n",
              "       [14.9589405],\n",
              "       [57.912502 ],\n",
              "       [42.897156 ],\n",
              "       [37.18891  ],\n",
              "       [25.96143  ],\n",
              "       [24.08682  ],\n",
              "       [47.178288 ],\n",
              "       [21.385242 ],\n",
              "       [38.233753 ],\n",
              "       [35.708332 ],\n",
              "       [45.588413 ],\n",
              "       [14.288177 ],\n",
              "       [43.5508   ],\n",
              "       [37.136654 ],\n",
              "       [16.040289 ],\n",
              "       [30.127525 ],\n",
              "       [14.800002 ],\n",
              "       [38.32036  ],\n",
              "       [15.740448 ],\n",
              "       [25.47328  ],\n",
              "       [64.73363  ],\n",
              "       [55.759647 ],\n",
              "       [17.870117 ],\n",
              "       [31.113775 ],\n",
              "       [57.02666  ],\n",
              "       [15.307864 ],\n",
              "       [21.54087  ],\n",
              "       [37.902134 ],\n",
              "       [35.381763 ],\n",
              "       [13.350417 ],\n",
              "       [55.74485  ],\n",
              "       [26.828108 ],\n",
              "       [28.683815 ],\n",
              "       [31.84381  ],\n",
              "       [52.11909  ],\n",
              "       [ 9.231066 ],\n",
              "       [50.55106  ],\n",
              "       [42.34991  ],\n",
              "       [34.00637  ],\n",
              "       [27.96038  ],\n",
              "       [29.588272 ],\n",
              "       [39.38102  ],\n",
              "       [50.223522 ],\n",
              "       [11.909442 ],\n",
              "       [58.245575 ],\n",
              "       [51.879597 ],\n",
              "       [22.57105  ],\n",
              "       [ 8.069639 ],\n",
              "       [42.478775 ],\n",
              "       [30.055065 ],\n",
              "       [58.05159  ],\n",
              "       [31.99634  ],\n",
              "       [74.21036  ],\n",
              "       [11.357031 ],\n",
              "       [29.73947  ],\n",
              "       [18.591204 ],\n",
              "       [37.72095  ],\n",
              "       [29.858013 ],\n",
              "       [24.024988 ],\n",
              "       [59.813152 ],\n",
              "       [26.999165 ],\n",
              "       [12.004975 ],\n",
              "       [51.02133  ],\n",
              "       [31.511992 ],\n",
              "       [39.840183 ],\n",
              "       [51.157085 ],\n",
              "       [28.540737 ],\n",
              "       [30.292494 ],\n",
              "       [36.294605 ],\n",
              "       [15.558036 ],\n",
              "       [35.88943  ],\n",
              "       [27.373219 ],\n",
              "       [72.6948   ],\n",
              "       [16.344646 ],\n",
              "       [35.49038  ],\n",
              "       [18.110973 ],\n",
              "       [69.53738  ],\n",
              "       [38.272057 ],\n",
              "       [11.690996 ],\n",
              "       [14.46714  ],\n",
              "       [13.750242 ],\n",
              "       [24.197893 ],\n",
              "       [24.192207 ],\n",
              "       [27.742031 ],\n",
              "       [37.595196 ],\n",
              "       [71.91903  ],\n",
              "       [46.37249  ],\n",
              "       [24.537903 ],\n",
              "       [47.337833 ],\n",
              "       [18.845194 ],\n",
              "       [29.728542 ],\n",
              "       [36.66326  ],\n",
              "       [37.69302  ],\n",
              "       [47.199223 ],\n",
              "       [22.226534 ],\n",
              "       [31.87094  ],\n",
              "       [24.440203 ],\n",
              "       [38.056168 ],\n",
              "       [52.803795 ],\n",
              "       [13.519658 ]], dtype=float32)"
            ]
          },
          "metadata": {
            "tags": []
          },
          "execution_count": 110
        }
      ]
    },
    {
      "cell_type": "code",
      "metadata": {
        "id": "h7otw8RrDU3I",
        "outputId": "d6e721e0-c353-4747-9650-bc430a9ac6b4",
        "colab": {
          "base_uri": "https://localhost:8080/",
          "height": 34
        }
      },
      "source": [
        "from sklearn.metrics import r2_score\n",
        "print(r2_score(y_test,y_pred_model1))"
      ],
      "execution_count": 111,
      "outputs": [
        {
          "output_type": "stream",
          "text": [
            "0.9131962111407375\n"
          ],
          "name": "stdout"
        }
      ]
    },
    {
      "cell_type": "code",
      "metadata": {
        "id": "xlzHwfoyFfhM",
        "outputId": "0cffe63c-6766-46b4-c1d0-99547a247e69",
        "colab": {
          "base_uri": "https://localhost:8080/",
          "height": 573
        }
      },
      "source": [
        "# Plotting Loss And Root Mean Square Error For both Training And Test Sets\n",
        "plt.plot(r1.history['mse'])\n",
        "plt.plot(r1.history['val_mse'])\n",
        "plt.title('Mean Squared Error')\n",
        "plt.ylabel('mse')\n",
        "plt.xlabel('epoch')\n",
        "plt.legend(['train', 'test'], loc='upper left')\n",
        "plt.show()\n",
        "# summarize history for loss\n",
        "plt.plot(r1.history['loss'])\n",
        "plt.plot(r1.history['val_loss'])\n",
        "plt.title('model loss')\n",
        "plt.ylabel('loss')\n",
        "plt.xlabel('epoch')\n",
        "plt.legend(['train', 'test'], loc='upper left')\n",
        "plt.show()"
      ],
      "execution_count": 112,
      "outputs": [
        {
          "output_type": "display_data",
          "data": {
            "image/png": "[encoded data removed]",
            "text/plain": [
              "<Figure size 432x288 with 1 Axes>"
            ]
          },
          "metadata": {
            "tags": [],
            "needs_background": "light"
          }
        },
        {
          "output_type": "display_data",
          "data": {
            "image/png": "[encoded data removed]",
            "text/plain": [
              "<Figure size 432x288 with 1 Axes>"
            ]
          },
          "metadata": {
            "tags": [],
            "needs_background": "light"
          }
        }
      ]
    },
    {
      "cell_type": "code",
      "metadata": {
        "id": "Eo3Dp89FeXEb",
        "outputId": "f18986c0-07ee-4d03-bde8-5b32f6b64d3c",
        "colab": {
          "base_uri": "https://localhost:8080/",
          "height": 187
        }
      },
      "source": [
        "df.iloc[400]"
      ],
      "execution_count": 145,
      "outputs": [
        {
          "output_type": "execute_result",
          "data": {
            "text/plain": [
              "Cement                  250.00\n",
              "Blast Furnace Slag      180.00\n",
              "Fly Ash                  95.00\n",
              "Water                   159.00\n",
              "Superplasticizer          9.50\n",
              "Coarse Aggregate        860.00\n",
              "Fine Aggregate          800.00\n",
              "Age                      28.00\n",
              "Compressive Strength     67.87\n",
              "Name: 400, dtype: float64"
            ]
          },
          "metadata": {
            "tags": []
          },
          "execution_count": 145
        }
      ]
    },
    {
      "cell_type": "code",
      "metadata": {
        "id": "PtFhtnyJeY_E",
        "outputId": "32263f0c-80f5-45af-8ef2-841651cb38e0",
        "colab": {
          "base_uri": "https://localhost:8080/",
          "height": 34
        }
      },
      "source": [
        "a=[[250,180,95,159,9.5,860,800,28]]\n",
        "a=s.transform(a)\n",
        "b=model1.predict(a)\n",
        "b"
      ],
      "execution_count": 146,
      "outputs": [
        {
          "output_type": "execute_result",
          "data": {
            "text/plain": [
              "array([[68.591385]], dtype=float32)"
            ]
          },
          "metadata": {
            "tags": []
          },
          "execution_count": 146
        }
      ]
    },
    {
      "cell_type": "markdown",
      "metadata": {
        "id": "0MlDlLCifNi8"
      },
      "source": [
        "ANN_DROPOUT_HYPERTUNING"
      ]
    },
    {
      "cell_type": "code",
      "metadata": {
        "id": "TFdAOx0RF22X"
      },
      "source": [
        "from keras.wrappers.scikit_learn import KerasRegressor\n",
        "def create_model():\n",
        "  model = Sequential()\n",
        "  model.add(Dense(128,activation  = 'relu',input_dim =8))\n",
        "  model.add(Dropout(0.3))\n",
        "  model.add(Dense(64,activation  = 'relu'))\n",
        "  model.add(Dense(32,activation  = 'relu'))\n",
        "  model.add(Dense(1))\n",
        "  \n",
        "  model.compile(optimizer = \"adam\", loss = \"mean_squared_error\",metrics=['mse'])\n",
        "  return model\n",
        "model2 = KerasRegressor(build_fn=create_model, verbose=1)"
      ],
      "execution_count": 113,
      "outputs": []
    },
    {
      "cell_type": "code",
      "metadata": {
        "id": "3POwr_HRM1iv",
        "outputId": "cfbff254-231f-4478-f732-f04546fd4f97",
        "colab": {
          "base_uri": "https://localhost:8080/",
          "height": 1000
        }
      },
      "source": [
        "from sklearn.model_selection import GridSearchCV\n",
        "batch_size = [1,4,8]\n",
        "epochs = [100,300]\n",
        "param_grid = dict(batch_size=batch_size, nb_epoch=epochs)\n",
        "grid = GridSearchCV(estimator=model2, param_grid=param_grid, cv=5)\n",
        "\n",
        "# Run the GridSearchCV process\n",
        "grid_result = grid.fit(X_train, y_train)"
      ],
      "execution_count": 195,
      "outputs": [
        {
          "output_type": "stream",
          "text": [
            "576/576 [==============================] - 1s 2ms/step - loss: 399.1533 - mse: 399.1533\n",
            "145/145 [==============================] - 0s 2ms/step - loss: 208.6095 - mse: 208.6095\n",
            "577/577 [==============================] - 1s 2ms/step - loss: 383.9277 - mse: 383.9277\n",
            "  1/144 [..............................] - ETA: 0s - loss: 33.8024 - mse: 33.8024WARNING:tensorflow:Callbacks method `on_test_batch_end` is slow compared to the batch time (batch time: 0.0014s vs `on_test_batch_end` time: 0.0023s). Check your callbacks.\n",
            "144/144 [==============================] - 0s 2ms/step - loss: 198.1682 - mse: 198.1682\n",
            "577/577 [==============================] - 1s 2ms/step - loss: 435.0515 - mse: 435.0515\n",
            "144/144 [==============================] - 0s 2ms/step - loss: 158.4077 - mse: 158.4077\n",
            "577/577 [==============================] - 1s 2ms/step - loss: 399.6890 - mse: 399.6890\n",
            "144/144 [==============================] - 0s 2ms/step - loss: 173.5730 - mse: 173.5730\n",
            "577/577 [==============================] - 1s 2ms/step - loss: 427.1636 - mse: 427.1636\n",
            "144/144 [==============================] - 0s 2ms/step - loss: 200.3046 - mse: 200.3046\n",
            "576/576 [==============================] - 1s 2ms/step - loss: 318.7356 - mse: 318.7356\n",
            "  1/145 [..............................] - ETA: 0s - loss: 27.0768 - mse: 27.0768WARNING:tensorflow:Callbacks method `on_test_batch_end` is slow compared to the batch time (batch time: 0.0018s vs `on_test_batch_end` time: 0.0028s). Check your callbacks.\n",
            "145/145 [==============================] - 0s 2ms/step - loss: 203.1303 - mse: 203.1303\n",
            "577/577 [==============================] - 1s 2ms/step - loss: 429.1617 - mse: 429.1617\n",
            "  1/144 [..............................] - ETA: 0s - loss: 74.4773 - mse: 74.4773WARNING:tensorflow:Callbacks method `on_test_batch_end` is slow compared to the batch time (batch time: 0.0013s vs `on_test_batch_end` time: 0.0025s). Check your callbacks.\n",
            "144/144 [==============================] - 0s 2ms/step - loss: 171.2436 - mse: 171.2436\n",
            "577/577 [==============================] - 1s 2ms/step - loss: 371.8405 - mse: 371.8405\n",
            "144/144 [==============================] - 0s 2ms/step - loss: 189.4878 - mse: 189.4878\n",
            "577/577 [==============================] - 1s 2ms/step - loss: 379.5863 - mse: 379.5863\n",
            "  1/144 [..............................] - ETA: 0s - loss: 23.2420 - mse: 23.2420WARNING:tensorflow:Callbacks method `on_test_batch_end` is slow compared to the batch time (batch time: 0.0017s vs `on_test_batch_end` time: 0.0028s). Check your callbacks.\n",
            "144/144 [==============================] - 0s 2ms/step - loss: 148.8245 - mse: 148.8245\n",
            "577/577 [==============================] - 1s 2ms/step - loss: 457.6342 - mse: 457.6342\n",
            "144/144 [==============================] - 0s 2ms/step - loss: 197.5150 - mse: 197.5150\n",
            "144/144 [==============================] - 0s 2ms/step - loss: 683.9054 - mse: 683.9054\n",
            "37/37 [==============================] - 0s 2ms/step - loss: 261.5696 - mse: 261.5696\n",
            "145/145 [==============================] - 0s 3ms/step - loss: 744.9725 - mse: 744.9725\n",
            "36/36 [==============================] - 0s 2ms/step - loss: 194.3051 - mse: 194.3051\n",
            "145/145 [==============================] - 0s 3ms/step - loss: 827.7318 - mse: 827.7318\n",
            "36/36 [==============================] - 0s 2ms/step - loss: 183.8565 - mse: 183.8565\n",
            "145/145 [==============================] - 0s 3ms/step - loss: 718.1493 - mse: 718.1493\n",
            " 1/36 [..............................] - ETA: 0s - loss: 216.8006 - mse: 216.8006WARNING:tensorflow:Callbacks method `on_test_batch_end` is slow compared to the batch time (batch time: 0.0014s vs `on_test_batch_end` time: 0.0033s). Check your callbacks.\n",
            "36/36 [==============================] - 0s 2ms/step - loss: 180.8305 - mse: 180.8305\n",
            "145/145 [==============================] - 0s 3ms/step - loss: 805.8505 - mse: 805.8505\n",
            "36/36 [==============================] - 0s 2ms/step - loss: 236.2688 - mse: 236.2688\n",
            "144/144 [==============================] - 0s 3ms/step - loss: 740.2894 - mse: 740.2894\n",
            "37/37 [==============================] - 0s 2ms/step - loss: 259.3750 - mse: 259.3750\n",
            "145/145 [==============================] - 0s 3ms/step - loss: 856.8464 - mse: 856.8464\n",
            " 1/36 [..............................] - ETA: 0s - loss: 127.8460 - mse: 127.8460WARNING:tensorflow:Callbacks method `on_test_batch_end` is slow compared to the batch time (batch time: 0.0015s vs `on_test_batch_end` time: 0.0030s). Check your callbacks.\n",
            "36/36 [==============================] - 0s 2ms/step - loss: 223.7664 - mse: 223.7664\n",
            "145/145 [==============================] - 0s 3ms/step - loss: 890.9733 - mse: 890.9733\n",
            "36/36 [==============================] - 0s 2ms/step - loss: 191.2952 - mse: 191.2952\n",
            "145/145 [==============================] - 0s 3ms/step - loss: 680.2067 - mse: 680.2067\n",
            "36/36 [==============================] - 0s 2ms/step - loss: 195.2427 - mse: 195.2427\n",
            "145/145 [==============================] - 0s 3ms/step - loss: 821.8844 - mse: 821.8844\n",
            "36/36 [==============================] - 0s 2ms/step - loss: 257.0127 - mse: 257.0127\n",
            "72/72 [==============================] - 0s 2ms/step - loss: 1232.3738 - mse: 1232.3738\n",
            "19/19 [==============================] - 0s 2ms/step - loss: 560.8621 - mse: 560.8621\n",
            "73/73 [==============================] - 0s 3ms/step - loss: 1064.3419 - mse: 1064.3419\n",
            "18/18 [==============================] - 0s 2ms/step - loss: 246.3504 - mse: 246.3504\n",
            "73/73 [==============================] - 0s 3ms/step - loss: 1130.4777 - mse: 1130.4777\n",
            "18/18 [==============================] - 0s 2ms/step - loss: 236.4415 - mse: 236.4415\n",
            "73/73 [==============================] - 0s 3ms/step - loss: 1182.7928 - mse: 1182.7928\n",
            "18/18 [==============================] - 0s 2ms/step - loss: 375.0636 - mse: 375.0636\n",
            "73/73 [==============================] - 0s 3ms/step - loss: 1333.0524 - mse: 1333.0524\n",
            "18/18 [==============================] - 0s 2ms/step - loss: 590.0448 - mse: 590.0448\n",
            "72/72 [==============================] - 0s 3ms/step - loss: 1140.3369 - mse: 1140.3369\n",
            "19/19 [==============================] - 0s 2ms/step - loss: 399.4741 - mse: 399.4741\n",
            "73/73 [==============================] - 0s 3ms/step - loss: 1005.9232 - mse: 1005.9232\n",
            "18/18 [==============================] - 0s 2ms/step - loss: 223.7027 - mse: 223.7027\n",
            "73/73 [==============================] - 0s 3ms/step - loss: 1072.5543 - mse: 1072.5543\n",
            "18/18 [==============================] - 0s 2ms/step - loss: 214.3963 - mse: 214.3963\n",
            "73/73 [==============================] - 0s 3ms/step - loss: 1098.1257 - mse: 1098.1257\n",
            "18/18 [==============================] - 0s 2ms/step - loss: 295.9363 - mse: 295.9363\n",
            "73/73 [==============================] - 0s 3ms/step - loss: 972.5464 - mse: 972.5464\n",
            "18/18 [==============================] - 0s 2ms/step - loss: 299.5169 - mse: 299.5169\n",
            "721/721 [==============================] - 2s 2ms/step - loss: 357.2960 - mse: 357.2960\n"
          ],
          "name": "stdout"
        }
      ]
    },
    {
      "cell_type": "code",
      "metadata": {
        "id": "_6DUiwxgNOOA",
        "outputId": "1f132df7-cc96-4750-c3e5-ee3672fc9424",
        "colab": {
          "base_uri": "https://localhost:8080/",
          "height": 34
        }
      },
      "source": [
        "print('Best params: ' + str(grid_result.best_params_))"
      ],
      "execution_count": 196,
      "outputs": [
        {
          "output_type": "stream",
          "text": [
            "Best params: {'batch_size': 1, 'nb_epoch': 300}\n"
          ],
          "name": "stdout"
        }
      ]
    },
    {
      "cell_type": "code",
      "metadata": {
        "id": "d9S02QiMZAkR",
        "outputId": "96632aa3-57c8-41bc-dee5-294ffefda8ee",
        "colab": {
          "base_uri": "https://localhost:8080/",
          "height": 1000
        }
      },
      "source": [
        "model_hyper = Sequential()\n",
        "\n",
        "model_hyper.add(Dense(128,activation  = 'relu',input_dim =8))\n",
        "model_hyper.add(Dropout(0.3))\n",
        "model_hyper.add(Dense(64,activation  = 'relu'))\n",
        "model_hyper.add(Dense(32,activation  = 'relu'))\n",
        "model_hyper.add(Dense(1))\n",
        "\n",
        "model_hyper.compile(optimizer = \"adam\", loss = \"mean_squared_error\",metrics=['mse'])\n",
        "r_hyper=model_hyper.fit(X_train, y_train, epochs=300, batch_size=1,validation_data=(X_test,y_test))"
      ],
      "execution_count": 197,
      "outputs": [
        {
          "output_type": "stream",
          "text": [
            "Epoch 1/300\n",
            "721/721 [==============================] - 2s 3ms/step - loss: 328.6350 - mse: 328.6350 - val_loss: 152.5131 - val_mse: 152.5131\n",
            "Epoch 2/300\n",
            "721/721 [==============================] - 2s 3ms/step - loss: 160.0846 - mse: 160.0846 - val_loss: 135.6476 - val_mse: 135.6476\n",
            "Epoch 3/300\n",
            "721/721 [==============================] - 2s 3ms/step - loss: 128.7077 - mse: 128.7077 - val_loss: 97.8120 - val_mse: 97.8120\n",
            "Epoch 4/300\n",
            "721/721 [==============================] - 2s 3ms/step - loss: 109.5301 - mse: 109.5301 - val_loss: 82.7808 - val_mse: 82.7808\n",
            "Epoch 5/300\n",
            "721/721 [==============================] - 2s 3ms/step - loss: 95.0191 - mse: 95.0191 - val_loss: 76.0522 - val_mse: 76.0522\n",
            "Epoch 6/300\n",
            "721/721 [==============================] - 2s 3ms/step - loss: 88.5545 - mse: 88.5545 - val_loss: 63.7183 - val_mse: 63.7183\n",
            "Epoch 7/300\n",
            "721/721 [==============================] - 2s 3ms/step - loss: 72.2823 - mse: 72.2823 - val_loss: 52.3984 - val_mse: 52.3984\n",
            "Epoch 8/300\n",
            "721/721 [==============================] - 2s 3ms/step - loss: 73.7297 - mse: 73.7297 - val_loss: 46.8947 - val_mse: 46.8947\n",
            "Epoch 9/300\n",
            "721/721 [==============================] - 2s 3ms/step - loss: 72.7101 - mse: 72.7101 - val_loss: 51.3354 - val_mse: 51.3354\n",
            "Epoch 10/300\n",
            "721/721 [==============================] - 2s 3ms/step - loss: 67.8419 - mse: 67.8419 - val_loss: 50.7401 - val_mse: 50.7401\n",
            "Epoch 11/300\n",
            "721/721 [==============================] - 2s 3ms/step - loss: 66.4686 - mse: 66.4686 - val_loss: 49.3436 - val_mse: 49.3436\n",
            "Epoch 12/300\n",
            "721/721 [==============================] - 2s 3ms/step - loss: 63.1550 - mse: 63.1550 - val_loss: 41.0755 - val_mse: 41.0755\n",
            "Epoch 13/300\n",
            "721/721 [==============================] - 2s 3ms/step - loss: 58.3232 - mse: 58.3232 - val_loss: 43.5587 - val_mse: 43.5587\n",
            "Epoch 14/300\n",
            "721/721 [==============================] - 2s 3ms/step - loss: 54.6974 - mse: 54.6974 - val_loss: 40.2407 - val_mse: 40.2407\n",
            "Epoch 15/300\n",
            "721/721 [==============================] - 2s 3ms/step - loss: 50.8505 - mse: 50.8505 - val_loss: 51.9728 - val_mse: 51.9728\n",
            "Epoch 16/300\n",
            "721/721 [==============================] - 2s 3ms/step - loss: 49.9366 - mse: 49.9366 - val_loss: 38.2318 - val_mse: 38.2318\n",
            "Epoch 17/300\n",
            "721/721 [==============================] - 2s 3ms/step - loss: 52.4473 - mse: 52.4473 - val_loss: 36.6935 - val_mse: 36.6935\n",
            "Epoch 18/300\n",
            "721/721 [==============================] - 2s 3ms/step - loss: 54.6057 - mse: 54.6057 - val_loss: 42.4897 - val_mse: 42.4897\n",
            "Epoch 19/300\n",
            "721/721 [==============================] - 2s 3ms/step - loss: 45.1543 - mse: 45.1543 - val_loss: 39.9581 - val_mse: 39.9581\n",
            "Epoch 20/300\n",
            "721/721 [==============================] - 2s 3ms/step - loss: 51.1378 - mse: 51.1378 - val_loss: 38.3783 - val_mse: 38.3783\n",
            "Epoch 21/300\n",
            "721/721 [==============================] - 2s 3ms/step - loss: 44.9718 - mse: 44.9718 - val_loss: 37.8530 - val_mse: 37.8530\n",
            "Epoch 22/300\n",
            "721/721 [==============================] - 2s 3ms/step - loss: 46.1223 - mse: 46.1223 - val_loss: 36.4056 - val_mse: 36.4056\n",
            "Epoch 23/300\n",
            "721/721 [==============================] - 3s 4ms/step - loss: 44.3045 - mse: 44.3045 - val_loss: 41.5460 - val_mse: 41.5460\n",
            "Epoch 24/300\n",
            "721/721 [==============================] - 2s 3ms/step - loss: 43.9296 - mse: 43.9296 - val_loss: 41.3740 - val_mse: 41.3740\n",
            "Epoch 25/300\n",
            "721/721 [==============================] - 2s 3ms/step - loss: 42.4166 - mse: 42.4166 - val_loss: 54.1011 - val_mse: 54.1011\n",
            "Epoch 26/300\n",
            "721/721 [==============================] - 2s 3ms/step - loss: 41.4942 - mse: 41.4942 - val_loss: 31.3452 - val_mse: 31.3452\n",
            "Epoch 27/300\n",
            "721/721 [==============================] - 2s 3ms/step - loss: 42.8123 - mse: 42.8123 - val_loss: 33.0888 - val_mse: 33.0888\n",
            "Epoch 28/300\n",
            "721/721 [==============================] - 2s 3ms/step - loss: 46.5614 - mse: 46.5614 - val_loss: 39.9427 - val_mse: 39.9427\n",
            "Epoch 29/300\n",
            "721/721 [==============================] - 2s 3ms/step - loss: 41.4695 - mse: 41.4695 - val_loss: 33.1833 - val_mse: 33.1833\n",
            "Epoch 30/300\n",
            "721/721 [==============================] - 2s 3ms/step - loss: 41.4460 - mse: 41.4460 - val_loss: 40.1461 - val_mse: 40.1461\n",
            "Epoch 31/300\n",
            "721/721 [==============================] - 2s 3ms/step - loss: 45.2392 - mse: 45.2392 - val_loss: 29.7762 - val_mse: 29.7762\n",
            "Epoch 32/300\n",
            "721/721 [==============================] - 2s 3ms/step - loss: 41.4697 - mse: 41.4697 - val_loss: 35.6816 - val_mse: 35.6816\n",
            "Epoch 33/300\n",
            "721/721 [==============================] - 2s 3ms/step - loss: 39.6679 - mse: 39.6679 - val_loss: 31.5881 - val_mse: 31.5881\n",
            "Epoch 34/300\n",
            "721/721 [==============================] - 2s 3ms/step - loss: 39.8216 - mse: 39.8216 - val_loss: 31.5521 - val_mse: 31.5521\n",
            "Epoch 35/300\n",
            "721/721 [==============================] - 2s 3ms/step - loss: 37.8303 - mse: 37.8303 - val_loss: 29.6221 - val_mse: 29.6221\n",
            "Epoch 36/300\n",
            "721/721 [==============================] - 2s 3ms/step - loss: 35.4936 - mse: 35.4936 - val_loss: 29.1023 - val_mse: 29.1023\n",
            "Epoch 37/300\n",
            "721/721 [==============================] - 2s 3ms/step - loss: 39.0790 - mse: 39.0790 - val_loss: 33.9753 - val_mse: 33.9753\n",
            "Epoch 38/300\n",
            "721/721 [==============================] - 2s 3ms/step - loss: 39.5422 - mse: 39.5422 - val_loss: 30.7110 - val_mse: 30.7110\n",
            "Epoch 39/300\n",
            "721/721 [==============================] - 2s 3ms/step - loss: 32.4956 - mse: 32.4956 - val_loss: 32.0114 - val_mse: 32.0114\n",
            "Epoch 40/300\n",
            "721/721 [==============================] - 2s 3ms/step - loss: 35.1885 - mse: 35.1885 - val_loss: 30.0365 - val_mse: 30.0365\n",
            "Epoch 41/300\n",
            "721/721 [==============================] - 2s 3ms/step - loss: 37.1542 - mse: 37.1542 - val_loss: 28.8737 - val_mse: 28.8737\n",
            "Epoch 42/300\n",
            "721/721 [==============================] - 2s 3ms/step - loss: 34.2809 - mse: 34.2809 - val_loss: 29.8016 - val_mse: 29.8016\n",
            "Epoch 43/300\n",
            "721/721 [==============================] - 2s 3ms/step - loss: 38.4268 - mse: 38.4268 - val_loss: 35.0179 - val_mse: 35.0179\n",
            "Epoch 44/300\n",
            "721/721 [==============================] - 2s 3ms/step - loss: 38.6158 - mse: 38.6158 - val_loss: 37.4662 - val_mse: 37.4662\n",
            "Epoch 45/300\n",
            "721/721 [==============================] - 2s 3ms/step - loss: 34.3770 - mse: 34.3770 - val_loss: 38.4047 - val_mse: 38.4047\n",
            "Epoch 46/300\n",
            "721/721 [==============================] - 2s 3ms/step - loss: 35.5955 - mse: 35.5955 - val_loss: 31.9794 - val_mse: 31.9794\n",
            "Epoch 47/300\n",
            "721/721 [==============================] - 2s 3ms/step - loss: 36.6313 - mse: 36.6313 - val_loss: 36.1420 - val_mse: 36.1420\n",
            "Epoch 48/300\n",
            "721/721 [==============================] - 2s 3ms/step - loss: 34.1740 - mse: 34.1740 - val_loss: 36.5055 - val_mse: 36.5055\n",
            "Epoch 49/300\n",
            "721/721 [==============================] - 2s 3ms/step - loss: 34.4266 - mse: 34.4266 - val_loss: 45.0857 - val_mse: 45.0857\n",
            "Epoch 50/300\n",
            "721/721 [==============================] - 2s 3ms/step - loss: 30.7731 - mse: 30.7731 - val_loss: 25.8525 - val_mse: 25.8525\n",
            "Epoch 51/300\n",
            "721/721 [==============================] - 2s 3ms/step - loss: 34.7877 - mse: 34.7877 - val_loss: 33.6390 - val_mse: 33.6390\n",
            "Epoch 52/300\n",
            "721/721 [==============================] - 2s 3ms/step - loss: 30.9588 - mse: 30.9588 - val_loss: 34.4528 - val_mse: 34.4528\n",
            "Epoch 53/300\n",
            "721/721 [==============================] - 2s 3ms/step - loss: 36.2170 - mse: 36.2170 - val_loss: 29.6018 - val_mse: 29.6018\n",
            "Epoch 54/300\n",
            "721/721 [==============================] - 2s 3ms/step - loss: 31.1538 - mse: 31.1538 - val_loss: 27.3964 - val_mse: 27.3964\n",
            "Epoch 55/300\n",
            "721/721 [==============================] - 2s 3ms/step - loss: 30.8557 - mse: 30.8557 - val_loss: 31.9038 - val_mse: 31.9038\n",
            "Epoch 56/300\n",
            "721/721 [==============================] - 2s 3ms/step - loss: 27.7386 - mse: 27.7386 - val_loss: 34.3392 - val_mse: 34.3392\n",
            "Epoch 57/300\n",
            "721/721 [==============================] - 2s 3ms/step - loss: 33.3805 - mse: 33.3805 - val_loss: 36.4181 - val_mse: 36.4181\n",
            "Epoch 58/300\n",
            "721/721 [==============================] - 2s 3ms/step - loss: 30.6707 - mse: 30.6707 - val_loss: 28.2836 - val_mse: 28.2836\n",
            "Epoch 59/300\n",
            "721/721 [==============================] - 3s 4ms/step - loss: 29.2228 - mse: 29.2228 - val_loss: 26.4979 - val_mse: 26.4979\n",
            "Epoch 60/300\n",
            "721/721 [==============================] - 3s 4ms/step - loss: 31.1657 - mse: 31.1657 - val_loss: 24.4310 - val_mse: 24.4310\n",
            "Epoch 61/300\n",
            "721/721 [==============================] - 3s 4ms/step - loss: 30.1702 - mse: 30.1702 - val_loss: 28.8667 - val_mse: 28.8667\n",
            "Epoch 62/300\n",
            "721/721 [==============================] - 2s 3ms/step - loss: 29.9890 - mse: 29.9890 - val_loss: 29.1815 - val_mse: 29.1815\n",
            "Epoch 63/300\n",
            "721/721 [==============================] - 2s 3ms/step - loss: 26.2587 - mse: 26.2587 - val_loss: 24.8111 - val_mse: 24.8111\n",
            "Epoch 64/300\n",
            "721/721 [==============================] - 2s 3ms/step - loss: 28.6490 - mse: 28.6490 - val_loss: 29.0556 - val_mse: 29.0556\n",
            "Epoch 65/300\n",
            "721/721 [==============================] - 2s 3ms/step - loss: 27.9053 - mse: 27.9053 - val_loss: 24.1839 - val_mse: 24.1839\n",
            "Epoch 66/300\n",
            "721/721 [==============================] - 2s 3ms/step - loss: 31.5515 - mse: 31.5515 - val_loss: 31.7235 - val_mse: 31.7235\n",
            "Epoch 67/300\n",
            "721/721 [==============================] - 2s 3ms/step - loss: 27.5844 - mse: 27.5844 - val_loss: 26.0581 - val_mse: 26.0581\n",
            "Epoch 68/300\n",
            "721/721 [==============================] - 2s 3ms/step - loss: 30.7381 - mse: 30.7381 - val_loss: 27.3221 - val_mse: 27.3221\n",
            "Epoch 69/300\n",
            "721/721 [==============================] - 2s 3ms/step - loss: 27.8018 - mse: 27.8018 - val_loss: 28.4151 - val_mse: 28.4151\n",
            "Epoch 70/300\n",
            "721/721 [==============================] - 2s 3ms/step - loss: 27.1137 - mse: 27.1137 - val_loss: 29.3446 - val_mse: 29.3446\n",
            "Epoch 71/300\n",
            "721/721 [==============================] - 2s 3ms/step - loss: 25.7368 - mse: 25.7368 - val_loss: 26.2757 - val_mse: 26.2757\n",
            "Epoch 72/300\n",
            "721/721 [==============================] - 2s 3ms/step - loss: 26.1145 - mse: 26.1145 - val_loss: 26.8315 - val_mse: 26.8315\n",
            "Epoch 73/300\n",
            "721/721 [==============================] - 2s 3ms/step - loss: 28.8151 - mse: 28.8151 - val_loss: 23.8495 - val_mse: 23.8495\n",
            "Epoch 74/300\n",
            "721/721 [==============================] - 2s 3ms/step - loss: 25.0655 - mse: 25.0655 - val_loss: 29.3249 - val_mse: 29.3249\n",
            "Epoch 75/300\n",
            "721/721 [==============================] - 2s 3ms/step - loss: 27.4403 - mse: 27.4403 - val_loss: 24.7416 - val_mse: 24.7416\n",
            "Epoch 76/300\n",
            "721/721 [==============================] - 2s 3ms/step - loss: 26.9184 - mse: 26.9184 - val_loss: 28.3338 - val_mse: 28.3338\n",
            "Epoch 77/300\n",
            "721/721 [==============================] - 2s 3ms/step - loss: 26.8086 - mse: 26.8086 - val_loss: 25.0810 - val_mse: 25.0810\n",
            "Epoch 78/300\n",
            "721/721 [==============================] - 2s 3ms/step - loss: 25.1162 - mse: 25.1162 - val_loss: 25.5870 - val_mse: 25.5870\n",
            "Epoch 79/300\n",
            "721/721 [==============================] - 2s 3ms/step - loss: 26.1441 - mse: 26.1441 - val_loss: 23.3572 - val_mse: 23.3572\n",
            "Epoch 80/300\n",
            "721/721 [==============================] - 2s 3ms/step - loss: 23.6626 - mse: 23.6626 - val_loss: 33.2073 - val_mse: 33.2073\n",
            "Epoch 81/300\n",
            "721/721 [==============================] - 2s 3ms/step - loss: 27.0687 - mse: 27.0687 - val_loss: 25.4608 - val_mse: 25.4608\n",
            "Epoch 82/300\n",
            "721/721 [==============================] - 2s 3ms/step - loss: 27.2200 - mse: 27.2200 - val_loss: 24.5140 - val_mse: 24.5140\n",
            "Epoch 83/300\n",
            "721/721 [==============================] - 2s 3ms/step - loss: 22.8762 - mse: 22.8762 - val_loss: 23.4816 - val_mse: 23.4816\n",
            "Epoch 84/300\n",
            "721/721 [==============================] - 2s 3ms/step - loss: 25.5613 - mse: 25.5613 - val_loss: 24.1112 - val_mse: 24.1112\n",
            "Epoch 85/300\n",
            "721/721 [==============================] - 2s 3ms/step - loss: 28.3792 - mse: 28.3792 - val_loss: 36.8065 - val_mse: 36.8065\n",
            "Epoch 86/300\n",
            "721/721 [==============================] - 2s 3ms/step - loss: 25.5865 - mse: 25.5865 - val_loss: 24.5279 - val_mse: 24.5279\n",
            "Epoch 87/300\n",
            "721/721 [==============================] - 2s 3ms/step - loss: 24.7182 - mse: 24.7182 - val_loss: 31.7620 - val_mse: 31.7620\n",
            "Epoch 88/300\n",
            "721/721 [==============================] - 2s 3ms/step - loss: 26.6420 - mse: 26.6420 - val_loss: 23.2533 - val_mse: 23.2533\n",
            "Epoch 89/300\n",
            "721/721 [==============================] - 2s 3ms/step - loss: 22.8578 - mse: 22.8578 - val_loss: 20.6734 - val_mse: 20.6734\n",
            "Epoch 90/300\n",
            "721/721 [==============================] - 2s 3ms/step - loss: 25.3079 - mse: 25.3079 - val_loss: 23.1313 - val_mse: 23.1313\n",
            "Epoch 91/300\n",
            "721/721 [==============================] - 2s 3ms/step - loss: 26.1308 - mse: 26.1308 - val_loss: 23.8893 - val_mse: 23.8893\n",
            "Epoch 92/300\n",
            "721/721 [==============================] - 2s 3ms/step - loss: 23.1897 - mse: 23.1897 - val_loss: 23.0207 - val_mse: 23.0207\n",
            "Epoch 93/300\n",
            "721/721 [==============================] - 2s 3ms/step - loss: 23.3361 - mse: 23.3361 - val_loss: 24.5133 - val_mse: 24.5133\n",
            "Epoch 94/300\n",
            "721/721 [==============================] - 2s 3ms/step - loss: 25.3768 - mse: 25.3768 - val_loss: 26.6989 - val_mse: 26.6989\n",
            "Epoch 95/300\n",
            "721/721 [==============================] - 2s 3ms/step - loss: 25.0434 - mse: 25.0434 - val_loss: 25.2116 - val_mse: 25.2116\n",
            "Epoch 96/300\n",
            "721/721 [==============================] - 2s 3ms/step - loss: 23.7074 - mse: 23.7074 - val_loss: 29.6607 - val_mse: 29.6607\n",
            "Epoch 97/300\n",
            "721/721 [==============================] - 2s 3ms/step - loss: 24.4613 - mse: 24.4613 - val_loss: 25.3370 - val_mse: 25.3370\n",
            "Epoch 98/300\n",
            "721/721 [==============================] - 2s 3ms/step - loss: 24.6224 - mse: 24.6224 - val_loss: 24.4436 - val_mse: 24.4436\n",
            "Epoch 99/300\n",
            "721/721 [==============================] - 2s 3ms/step - loss: 23.6509 - mse: 23.6509 - val_loss: 24.5849 - val_mse: 24.5849\n",
            "Epoch 100/300\n",
            "721/721 [==============================] - 2s 3ms/step - loss: 22.9410 - mse: 22.9410 - val_loss: 33.4220 - val_mse: 33.4220\n",
            "Epoch 101/300\n",
            "721/721 [==============================] - 2s 3ms/step - loss: 21.2926 - mse: 21.2926 - val_loss: 22.4057 - val_mse: 22.4057\n",
            "Epoch 102/300\n",
            "721/721 [==============================] - 2s 3ms/step - loss: 20.3869 - mse: 20.3869 - val_loss: 24.5341 - val_mse: 24.5341\n",
            "Epoch 103/300\n",
            "721/721 [==============================] - 2s 3ms/step - loss: 23.8477 - mse: 23.8477 - val_loss: 23.3544 - val_mse: 23.3544\n",
            "Epoch 104/300\n",
            "721/721 [==============================] - 2s 3ms/step - loss: 21.9831 - mse: 21.9831 - val_loss: 23.1116 - val_mse: 23.1116\n",
            "Epoch 105/300\n",
            "721/721 [==============================] - 2s 3ms/step - loss: 23.3958 - mse: 23.3958 - val_loss: 23.3564 - val_mse: 23.3564\n",
            "Epoch 106/300\n",
            "721/721 [==============================] - 2s 3ms/step - loss: 19.1964 - mse: 19.1964 - val_loss: 28.4010 - val_mse: 28.4010\n",
            "Epoch 107/300\n",
            "721/721 [==============================] - 2s 3ms/step - loss: 21.9291 - mse: 21.9291 - val_loss: 21.5100 - val_mse: 21.5100\n",
            "Epoch 108/300\n",
            "721/721 [==============================] - 2s 3ms/step - loss: 22.8719 - mse: 22.8719 - val_loss: 27.0397 - val_mse: 27.0397\n",
            "Epoch 109/300\n",
            "721/721 [==============================] - 2s 3ms/step - loss: 21.7291 - mse: 21.7291 - val_loss: 19.3913 - val_mse: 19.3913\n",
            "Epoch 110/300\n",
            "721/721 [==============================] - 2s 3ms/step - loss: 21.7207 - mse: 21.7207 - val_loss: 20.9652 - val_mse: 20.9652\n",
            "Epoch 111/300\n",
            "721/721 [==============================] - 2s 3ms/step - loss: 20.3827 - mse: 20.3827 - val_loss: 24.4582 - val_mse: 24.4582\n",
            "Epoch 112/300\n",
            "721/721 [==============================] - 2s 3ms/step - loss: 22.2939 - mse: 22.2939 - val_loss: 22.0067 - val_mse: 22.0067\n",
            "Epoch 113/300\n",
            "721/721 [==============================] - 2s 3ms/step - loss: 19.9520 - mse: 19.9520 - val_loss: 22.4144 - val_mse: 22.4144\n",
            "Epoch 114/300\n",
            "721/721 [==============================] - 2s 3ms/step - loss: 20.4110 - mse: 20.4110 - val_loss: 26.6885 - val_mse: 26.6885\n",
            "Epoch 115/300\n",
            "721/721 [==============================] - 2s 3ms/step - loss: 24.4999 - mse: 24.4999 - val_loss: 28.1728 - val_mse: 28.1728\n",
            "Epoch 116/300\n",
            "721/721 [==============================] - 2s 3ms/step - loss: 21.0010 - mse: 21.0010 - val_loss: 20.4718 - val_mse: 20.4718\n",
            "Epoch 117/300\n",
            "721/721 [==============================] - 2s 3ms/step - loss: 20.1396 - mse: 20.1396 - val_loss: 21.0259 - val_mse: 21.0259\n",
            "Epoch 118/300\n",
            "721/721 [==============================] - 2s 3ms/step - loss: 22.3141 - mse: 22.3141 - val_loss: 21.2910 - val_mse: 21.2910\n",
            "Epoch 119/300\n",
            "721/721 [==============================] - 2s 3ms/step - loss: 20.2073 - mse: 20.2073 - val_loss: 22.0404 - val_mse: 22.0404\n",
            "Epoch 120/300\n",
            "721/721 [==============================] - 2s 3ms/step - loss: 20.9317 - mse: 20.9317 - val_loss: 23.1872 - val_mse: 23.1872\n",
            "Epoch 121/300\n",
            "721/721 [==============================] - 2s 3ms/step - loss: 19.8082 - mse: 19.8082 - val_loss: 23.4535 - val_mse: 23.4535\n",
            "Epoch 122/300\n",
            "721/721 [==============================] - 2s 3ms/step - loss: 20.2405 - mse: 20.2405 - val_loss: 31.7571 - val_mse: 31.7571\n",
            "Epoch 123/300\n",
            "721/721 [==============================] - 2s 3ms/step - loss: 20.9142 - mse: 20.9142 - val_loss: 22.3183 - val_mse: 22.3183\n",
            "Epoch 124/300\n",
            "721/721 [==============================] - 2s 3ms/step - loss: 20.6683 - mse: 20.6683 - val_loss: 21.9592 - val_mse: 21.9592\n",
            "Epoch 125/300\n",
            "721/721 [==============================] - 2s 3ms/step - loss: 19.2852 - mse: 19.2852 - val_loss: 23.6167 - val_mse: 23.6167\n",
            "Epoch 126/300\n",
            "721/721 [==============================] - 2s 3ms/step - loss: 20.0571 - mse: 20.0571 - val_loss: 23.3328 - val_mse: 23.3328\n",
            "Epoch 127/300\n",
            "721/721 [==============================] - 2s 3ms/step - loss: 21.9685 - mse: 21.9685 - val_loss: 23.4077 - val_mse: 23.4077\n",
            "Epoch 128/300\n",
            "721/721 [==============================] - 2s 3ms/step - loss: 19.1046 - mse: 19.1046 - val_loss: 21.7598 - val_mse: 21.7598\n",
            "Epoch 129/300\n",
            "721/721 [==============================] - 2s 3ms/step - loss: 22.5374 - mse: 22.5374 - val_loss: 22.2458 - val_mse: 22.2458\n",
            "Epoch 130/300\n",
            "721/721 [==============================] - 2s 3ms/step - loss: 20.6428 - mse: 20.6428 - val_loss: 18.8901 - val_mse: 18.8901\n",
            "Epoch 131/300\n",
            "721/721 [==============================] - 2s 3ms/step - loss: 19.9731 - mse: 19.9731 - val_loss: 24.5446 - val_mse: 24.5446\n",
            "Epoch 132/300\n",
            "721/721 [==============================] - 2s 3ms/step - loss: 20.0980 - mse: 20.0980 - val_loss: 20.5692 - val_mse: 20.5692\n",
            "Epoch 133/300\n",
            "721/721 [==============================] - 2s 3ms/step - loss: 19.6303 - mse: 19.6303 - val_loss: 23.9170 - val_mse: 23.9170\n",
            "Epoch 134/300\n",
            "721/721 [==============================] - 2s 3ms/step - loss: 18.5753 - mse: 18.5753 - val_loss: 21.5906 - val_mse: 21.5906\n",
            "Epoch 135/300\n",
            "721/721 [==============================] - 2s 3ms/step - loss: 19.6507 - mse: 19.6507 - val_loss: 21.0052 - val_mse: 21.0052\n",
            "Epoch 136/300\n",
            "721/721 [==============================] - 2s 3ms/step - loss: 21.7428 - mse: 21.7428 - val_loss: 22.5146 - val_mse: 22.5146\n",
            "Epoch 137/300\n",
            "721/721 [==============================] - 2s 3ms/step - loss: 21.6475 - mse: 21.6475 - val_loss: 19.7862 - val_mse: 19.7862\n",
            "Epoch 138/300\n",
            "721/721 [==============================] - 2s 3ms/step - loss: 18.9916 - mse: 18.9916 - val_loss: 21.9354 - val_mse: 21.9354\n",
            "Epoch 139/300\n",
            "721/721 [==============================] - 2s 3ms/step - loss: 21.2199 - mse: 21.2199 - val_loss: 25.2929 - val_mse: 25.2929\n",
            "Epoch 140/300\n",
            "721/721 [==============================] - 2s 3ms/step - loss: 18.0859 - mse: 18.0859 - val_loss: 25.5825 - val_mse: 25.5825\n",
            "Epoch 141/300\n",
            "721/721 [==============================] - 2s 3ms/step - loss: 17.5807 - mse: 17.5807 - val_loss: 21.6184 - val_mse: 21.6184\n",
            "Epoch 142/300\n",
            "721/721 [==============================] - 2s 3ms/step - loss: 18.2026 - mse: 18.2026 - val_loss: 23.6713 - val_mse: 23.6713\n",
            "Epoch 143/300\n",
            "721/721 [==============================] - 2s 3ms/step - loss: 18.8886 - mse: 18.8886 - val_loss: 19.4131 - val_mse: 19.4131\n",
            "Epoch 144/300\n",
            "721/721 [==============================] - 2s 3ms/step - loss: 20.4692 - mse: 20.4692 - val_loss: 23.3627 - val_mse: 23.3627\n",
            "Epoch 145/300\n",
            "721/721 [==============================] - 2s 3ms/step - loss: 16.9887 - mse: 16.9887 - val_loss: 23.7271 - val_mse: 23.7271\n",
            "Epoch 146/300\n",
            "721/721 [==============================] - 2s 3ms/step - loss: 20.0987 - mse: 20.0987 - val_loss: 19.9168 - val_mse: 19.9168\n",
            "Epoch 147/300\n",
            "721/721 [==============================] - 2s 3ms/step - loss: 17.0625 - mse: 17.0625 - val_loss: 19.1077 - val_mse: 19.1077\n",
            "Epoch 148/300\n",
            "721/721 [==============================] - 2s 3ms/step - loss: 18.4010 - mse: 18.4010 - val_loss: 19.8521 - val_mse: 19.8521\n",
            "Epoch 149/300\n",
            "721/721 [==============================] - 2s 3ms/step - loss: 18.6254 - mse: 18.6254 - val_loss: 25.0944 - val_mse: 25.0944\n",
            "Epoch 150/300\n",
            "721/721 [==============================] - 2s 3ms/step - loss: 21.0177 - mse: 21.0177 - val_loss: 19.0512 - val_mse: 19.0512\n",
            "Epoch 151/300\n",
            "721/721 [==============================] - 2s 3ms/step - loss: 18.5364 - mse: 18.5364 - val_loss: 20.4645 - val_mse: 20.4645\n",
            "Epoch 152/300\n",
            "721/721 [==============================] - 2s 3ms/step - loss: 18.3853 - mse: 18.3853 - val_loss: 23.8308 - val_mse: 23.8308\n",
            "Epoch 153/300\n",
            "721/721 [==============================] - 2s 3ms/step - loss: 18.3977 - mse: 18.3977 - val_loss: 20.3567 - val_mse: 20.3567\n",
            "Epoch 154/300\n",
            "721/721 [==============================] - 2s 3ms/step - loss: 17.7285 - mse: 17.7285 - val_loss: 25.3232 - val_mse: 25.3232\n",
            "Epoch 155/300\n",
            "721/721 [==============================] - 2s 3ms/step - loss: 16.3155 - mse: 16.3155 - val_loss: 22.1213 - val_mse: 22.1213\n",
            "Epoch 156/300\n",
            "721/721 [==============================] - 2s 3ms/step - loss: 18.1954 - mse: 18.1954 - val_loss: 24.0338 - val_mse: 24.0338\n",
            "Epoch 157/300\n",
            "721/721 [==============================] - 2s 3ms/step - loss: 19.3815 - mse: 19.3815 - val_loss: 20.9563 - val_mse: 20.9563\n",
            "Epoch 158/300\n",
            "721/721 [==============================] - 2s 3ms/step - loss: 17.5926 - mse: 17.5926 - val_loss: 20.6441 - val_mse: 20.6441\n",
            "Epoch 159/300\n",
            "721/721 [==============================] - 2s 3ms/step - loss: 18.0455 - mse: 18.0455 - val_loss: 19.2034 - val_mse: 19.2034\n",
            "Epoch 160/300\n",
            "721/721 [==============================] - 2s 3ms/step - loss: 18.8057 - mse: 18.8057 - val_loss: 25.3176 - val_mse: 25.3176\n",
            "Epoch 161/300\n",
            "721/721 [==============================] - 3s 4ms/step - loss: 16.3599 - mse: 16.3599 - val_loss: 18.7567 - val_mse: 18.7567\n",
            "Epoch 162/300\n",
            "721/721 [==============================] - 2s 3ms/step - loss: 19.6046 - mse: 19.6046 - val_loss: 18.7884 - val_mse: 18.7884\n",
            "Epoch 163/300\n",
            "721/721 [==============================] - 2s 3ms/step - loss: 19.9990 - mse: 19.9990 - val_loss: 19.9553 - val_mse: 19.9553\n",
            "Epoch 164/300\n",
            "721/721 [==============================] - 2s 3ms/step - loss: 15.7445 - mse: 15.7445 - val_loss: 19.4868 - val_mse: 19.4868\n",
            "Epoch 165/300\n",
            "721/721 [==============================] - 2s 3ms/step - loss: 19.3213 - mse: 19.3213 - val_loss: 19.5250 - val_mse: 19.5250\n",
            "Epoch 166/300\n",
            "721/721 [==============================] - 2s 3ms/step - loss: 17.5906 - mse: 17.5906 - val_loss: 19.6328 - val_mse: 19.6328\n",
            "Epoch 167/300\n",
            "721/721 [==============================] - 2s 3ms/step - loss: 17.2134 - mse: 17.2134 - val_loss: 21.0206 - val_mse: 21.0206\n",
            "Epoch 168/300\n",
            "721/721 [==============================] - 2s 3ms/step - loss: 17.1469 - mse: 17.1469 - val_loss: 21.4078 - val_mse: 21.4078\n",
            "Epoch 169/300\n",
            "721/721 [==============================] - 2s 3ms/step - loss: 16.7574 - mse: 16.7574 - val_loss: 20.1104 - val_mse: 20.1104\n",
            "Epoch 170/300\n",
            "721/721 [==============================] - 2s 3ms/step - loss: 17.5938 - mse: 17.5938 - val_loss: 19.9271 - val_mse: 19.9271\n",
            "Epoch 171/300\n",
            "721/721 [==============================] - 2s 3ms/step - loss: 16.4886 - mse: 16.4886 - val_loss: 23.3222 - val_mse: 23.3222\n",
            "Epoch 172/300\n",
            "721/721 [==============================] - 2s 3ms/step - loss: 19.1358 - mse: 19.1358 - val_loss: 22.0715 - val_mse: 22.0715\n",
            "Epoch 173/300\n",
            "721/721 [==============================] - 2s 3ms/step - loss: 17.9385 - mse: 17.9385 - val_loss: 24.0218 - val_mse: 24.0218\n",
            "Epoch 174/300\n",
            "721/721 [==============================] - 2s 3ms/step - loss: 16.3839 - mse: 16.3839 - val_loss: 21.2134 - val_mse: 21.2134\n",
            "Epoch 175/300\n",
            "721/721 [==============================] - 2s 3ms/step - loss: 17.4548 - mse: 17.4548 - val_loss: 19.1694 - val_mse: 19.1694\n",
            "Epoch 176/300\n",
            "721/721 [==============================] - 2s 3ms/step - loss: 17.2172 - mse: 17.2172 - val_loss: 21.2092 - val_mse: 21.2092\n",
            "Epoch 177/300\n",
            "721/721 [==============================] - 2s 3ms/step - loss: 16.7291 - mse: 16.7291 - val_loss: 19.5656 - val_mse: 19.5656\n",
            "Epoch 178/300\n",
            "721/721 [==============================] - 2s 3ms/step - loss: 19.2247 - mse: 19.2247 - val_loss: 22.0472 - val_mse: 22.0472\n",
            "Epoch 179/300\n",
            "721/721 [==============================] - 2s 3ms/step - loss: 15.4842 - mse: 15.4842 - val_loss: 22.0296 - val_mse: 22.0296\n",
            "Epoch 180/300\n",
            "721/721 [==============================] - 2s 3ms/step - loss: 15.4882 - mse: 15.4882 - val_loss: 24.8754 - val_mse: 24.8754\n",
            "Epoch 181/300\n",
            "721/721 [==============================] - 2s 3ms/step - loss: 18.0413 - mse: 18.0413 - val_loss: 26.0438 - val_mse: 26.0438\n",
            "Epoch 182/300\n",
            "721/721 [==============================] - 2s 3ms/step - loss: 17.0619 - mse: 17.0619 - val_loss: 20.3616 - val_mse: 20.3616\n",
            "Epoch 183/300\n",
            "721/721 [==============================] - 2s 3ms/step - loss: 16.0807 - mse: 16.0807 - val_loss: 21.6861 - val_mse: 21.6861\n",
            "Epoch 184/300\n",
            "721/721 [==============================] - 2s 3ms/step - loss: 16.9800 - mse: 16.9800 - val_loss: 19.1480 - val_mse: 19.1480\n",
            "Epoch 185/300\n",
            "721/721 [==============================] - 2s 3ms/step - loss: 16.1209 - mse: 16.1209 - val_loss: 20.3423 - val_mse: 20.3423\n",
            "Epoch 186/300\n",
            "721/721 [==============================] - 2s 3ms/step - loss: 18.1338 - mse: 18.1338 - val_loss: 20.0471 - val_mse: 20.0471\n",
            "Epoch 187/300\n",
            "721/721 [==============================] - 2s 3ms/step - loss: 19.1980 - mse: 19.1980 - val_loss: 19.8818 - val_mse: 19.8818\n",
            "Epoch 188/300\n",
            "721/721 [==============================] - 2s 3ms/step - loss: 16.9571 - mse: 16.9571 - val_loss: 17.7247 - val_mse: 17.7247\n",
            "Epoch 189/300\n",
            "721/721 [==============================] - 2s 3ms/step - loss: 15.9275 - mse: 15.9275 - val_loss: 20.3020 - val_mse: 20.3020\n",
            "Epoch 190/300\n",
            "721/721 [==============================] - 2s 3ms/step - loss: 14.6866 - mse: 14.6866 - val_loss: 19.2989 - val_mse: 19.2989\n",
            "Epoch 191/300\n",
            "721/721 [==============================] - 2s 3ms/step - loss: 13.9551 - mse: 13.9551 - val_loss: 20.4929 - val_mse: 20.4929\n",
            "Epoch 192/300\n",
            "721/721 [==============================] - 2s 3ms/step - loss: 16.0761 - mse: 16.0761 - val_loss: 20.4318 - val_mse: 20.4318\n",
            "Epoch 193/300\n",
            "721/721 [==============================] - 2s 3ms/step - loss: 16.3332 - mse: 16.3332 - val_loss: 21.0656 - val_mse: 21.0656\n",
            "Epoch 194/300\n",
            "721/721 [==============================] - 2s 3ms/step - loss: 17.1440 - mse: 17.1440 - val_loss: 20.6407 - val_mse: 20.6407\n",
            "Epoch 195/300\n",
            "721/721 [==============================] - 2s 3ms/step - loss: 15.1903 - mse: 15.1903 - val_loss: 18.8103 - val_mse: 18.8103\n",
            "Epoch 196/300\n",
            "721/721 [==============================] - 2s 3ms/step - loss: 16.1498 - mse: 16.1498 - val_loss: 20.2715 - val_mse: 20.2715\n",
            "Epoch 197/300\n",
            "721/721 [==============================] - 2s 3ms/step - loss: 15.3093 - mse: 15.3093 - val_loss: 19.9190 - val_mse: 19.9190\n",
            "Epoch 198/300\n",
            "721/721 [==============================] - 3s 4ms/step - loss: 16.7753 - mse: 16.7753 - val_loss: 19.7536 - val_mse: 19.7536\n",
            "Epoch 199/300\n",
            "721/721 [==============================] - 3s 4ms/step - loss: 17.9531 - mse: 17.9531 - val_loss: 23.1728 - val_mse: 23.1728\n",
            "Epoch 200/300\n",
            "721/721 [==============================] - 3s 4ms/step - loss: 16.8958 - mse: 16.8958 - val_loss: 18.7940 - val_mse: 18.7940\n",
            "Epoch 201/300\n",
            "721/721 [==============================] - 3s 4ms/step - loss: 16.1564 - mse: 16.1564 - val_loss: 21.0190 - val_mse: 21.0190\n",
            "Epoch 202/300\n",
            "721/721 [==============================] - 2s 3ms/step - loss: 17.2626 - mse: 17.2626 - val_loss: 18.7362 - val_mse: 18.7362\n",
            "Epoch 203/300\n",
            "721/721 [==============================] - 2s 3ms/step - loss: 16.7412 - mse: 16.7412 - val_loss: 20.4079 - val_mse: 20.4079\n",
            "Epoch 204/300\n",
            "721/721 [==============================] - 2s 3ms/step - loss: 15.8491 - mse: 15.8491 - val_loss: 20.7699 - val_mse: 20.7699\n",
            "Epoch 205/300\n",
            "721/721 [==============================] - 2s 3ms/step - loss: 14.0575 - mse: 14.0575 - val_loss: 19.5782 - val_mse: 19.5782\n",
            "Epoch 206/300\n",
            "721/721 [==============================] - 2s 3ms/step - loss: 15.0687 - mse: 15.0687 - val_loss: 19.4727 - val_mse: 19.4727\n",
            "Epoch 207/300\n",
            "721/721 [==============================] - 2s 3ms/step - loss: 15.5437 - mse: 15.5437 - val_loss: 18.8741 - val_mse: 18.8741\n",
            "Epoch 208/300\n",
            "721/721 [==============================] - 2s 3ms/step - loss: 16.8540 - mse: 16.8540 - val_loss: 21.9019 - val_mse: 21.9019\n",
            "Epoch 209/300\n",
            "721/721 [==============================] - 2s 3ms/step - loss: 16.5679 - mse: 16.5679 - val_loss: 22.2047 - val_mse: 22.2047\n",
            "Epoch 210/300\n",
            "721/721 [==============================] - 2s 3ms/step - loss: 16.6061 - mse: 16.6061 - val_loss: 20.2941 - val_mse: 20.2941\n",
            "Epoch 211/300\n",
            "721/721 [==============================] - 2s 3ms/step - loss: 15.8219 - mse: 15.8219 - val_loss: 21.3503 - val_mse: 21.3503\n",
            "Epoch 212/300\n",
            "721/721 [==============================] - 2s 3ms/step - loss: 15.7786 - mse: 15.7786 - val_loss: 19.0618 - val_mse: 19.0618\n",
            "Epoch 213/300\n",
            "721/721 [==============================] - 2s 3ms/step - loss: 15.9013 - mse: 15.9013 - val_loss: 19.1854 - val_mse: 19.1854\n",
            "Epoch 214/300\n",
            "721/721 [==============================] - 2s 3ms/step - loss: 16.4113 - mse: 16.4113 - val_loss: 17.6384 - val_mse: 17.6384\n",
            "Epoch 215/300\n",
            "721/721 [==============================] - 2s 3ms/step - loss: 15.0783 - mse: 15.0783 - val_loss: 18.9869 - val_mse: 18.9869\n",
            "Epoch 216/300\n",
            "721/721 [==============================] - 2s 3ms/step - loss: 16.8323 - mse: 16.8323 - val_loss: 19.2388 - val_mse: 19.2388\n",
            "Epoch 217/300\n",
            "721/721 [==============================] - 2s 3ms/step - loss: 16.2466 - mse: 16.2466 - val_loss: 24.6562 - val_mse: 24.6562\n",
            "Epoch 218/300\n",
            "721/721 [==============================] - 2s 3ms/step - loss: 15.8760 - mse: 15.8760 - val_loss: 21.3936 - val_mse: 21.3936\n",
            "Epoch 219/300\n",
            "721/721 [==============================] - 2s 3ms/step - loss: 15.3354 - mse: 15.3354 - val_loss: 22.4140 - val_mse: 22.4140\n",
            "Epoch 220/300\n",
            "721/721 [==============================] - 2s 3ms/step - loss: 13.9561 - mse: 13.9561 - val_loss: 21.1202 - val_mse: 21.1202\n",
            "Epoch 221/300\n",
            "721/721 [==============================] - 2s 3ms/step - loss: 15.7393 - mse: 15.7393 - val_loss: 19.5901 - val_mse: 19.5901\n",
            "Epoch 222/300\n",
            "721/721 [==============================] - 2s 3ms/step - loss: 15.2315 - mse: 15.2315 - val_loss: 19.2603 - val_mse: 19.2603\n",
            "Epoch 223/300\n",
            "721/721 [==============================] - 2s 3ms/step - loss: 14.8771 - mse: 14.8771 - val_loss: 22.0222 - val_mse: 22.0222\n",
            "Epoch 224/300\n",
            "721/721 [==============================] - 2s 3ms/step - loss: 14.5988 - mse: 14.5988 - val_loss: 19.9827 - val_mse: 19.9827\n",
            "Epoch 225/300\n",
            "721/721 [==============================] - 2s 3ms/step - loss: 14.1424 - mse: 14.1424 - val_loss: 20.1829 - val_mse: 20.1829\n",
            "Epoch 226/300\n",
            "721/721 [==============================] - 2s 3ms/step - loss: 14.7688 - mse: 14.7688 - val_loss: 20.5686 - val_mse: 20.5686\n",
            "Epoch 227/300\n",
            "721/721 [==============================] - 2s 3ms/step - loss: 15.3473 - mse: 15.3473 - val_loss: 20.4343 - val_mse: 20.4343\n",
            "Epoch 228/300\n",
            "721/721 [==============================] - 2s 3ms/step - loss: 16.5327 - mse: 16.5327 - val_loss: 21.3651 - val_mse: 21.3651\n",
            "Epoch 229/300\n",
            "721/721 [==============================] - 2s 3ms/step - loss: 16.0027 - mse: 16.0027 - val_loss: 22.9144 - val_mse: 22.9144\n",
            "Epoch 230/300\n",
            "721/721 [==============================] - 2s 3ms/step - loss: 14.0283 - mse: 14.0283 - val_loss: 22.1682 - val_mse: 22.1682\n",
            "Epoch 231/300\n",
            "721/721 [==============================] - 2s 3ms/step - loss: 15.3601 - mse: 15.3601 - val_loss: 20.4340 - val_mse: 20.4340\n",
            "Epoch 232/300\n",
            "721/721 [==============================] - 2s 3ms/step - loss: 14.5036 - mse: 14.5036 - val_loss: 20.5530 - val_mse: 20.5530\n",
            "Epoch 233/300\n",
            "721/721 [==============================] - 2s 3ms/step - loss: 15.1466 - mse: 15.1466 - val_loss: 20.2915 - val_mse: 20.2915\n",
            "Epoch 234/300\n",
            "721/721 [==============================] - 2s 3ms/step - loss: 14.6024 - mse: 14.6024 - val_loss: 20.1138 - val_mse: 20.1138\n",
            "Epoch 235/300\n",
            "721/721 [==============================] - 2s 3ms/step - loss: 14.4393 - mse: 14.4393 - val_loss: 22.3169 - val_mse: 22.3169\n",
            "Epoch 236/300\n",
            "721/721 [==============================] - 2s 3ms/step - loss: 14.9214 - mse: 14.9214 - val_loss: 20.4432 - val_mse: 20.4432\n",
            "Epoch 237/300\n",
            "721/721 [==============================] - 2s 3ms/step - loss: 14.7157 - mse: 14.7157 - val_loss: 18.6102 - val_mse: 18.6102\n",
            "Epoch 238/300\n",
            "721/721 [==============================] - 2s 3ms/step - loss: 13.1379 - mse: 13.1379 - val_loss: 19.0199 - val_mse: 19.0199\n",
            "Epoch 239/300\n",
            "721/721 [==============================] - 2s 3ms/step - loss: 14.1011 - mse: 14.1011 - val_loss: 19.3191 - val_mse: 19.3191\n",
            "Epoch 240/300\n",
            "721/721 [==============================] - 2s 3ms/step - loss: 15.4219 - mse: 15.4219 - val_loss: 19.2232 - val_mse: 19.2232\n",
            "Epoch 241/300\n",
            "721/721 [==============================] - 2s 3ms/step - loss: 17.0497 - mse: 17.0497 - val_loss: 20.8030 - val_mse: 20.8030\n",
            "Epoch 242/300\n",
            "721/721 [==============================] - 2s 3ms/step - loss: 14.1616 - mse: 14.1616 - val_loss: 20.9862 - val_mse: 20.9862\n",
            "Epoch 243/300\n",
            "721/721 [==============================] - 2s 3ms/step - loss: 16.0264 - mse: 16.0264 - val_loss: 21.2957 - val_mse: 21.2957\n",
            "Epoch 244/300\n",
            "721/721 [==============================] - 2s 3ms/step - loss: 13.0412 - mse: 13.0412 - val_loss: 18.5035 - val_mse: 18.5035\n",
            "Epoch 245/300\n",
            "721/721 [==============================] - 2s 3ms/step - loss: 14.5217 - mse: 14.5217 - val_loss: 22.2317 - val_mse: 22.2317\n",
            "Epoch 246/300\n",
            "721/721 [==============================] - 2s 3ms/step - loss: 15.4022 - mse: 15.4022 - val_loss: 23.0994 - val_mse: 23.0994\n",
            "Epoch 247/300\n",
            "721/721 [==============================] - 2s 3ms/step - loss: 15.5387 - mse: 15.5387 - val_loss: 19.1841 - val_mse: 19.1841\n",
            "Epoch 248/300\n",
            "721/721 [==============================] - 2s 3ms/step - loss: 16.4102 - mse: 16.4102 - val_loss: 19.3887 - val_mse: 19.3887\n",
            "Epoch 249/300\n",
            "721/721 [==============================] - 2s 3ms/step - loss: 16.4610 - mse: 16.4610 - val_loss: 21.6532 - val_mse: 21.6532\n",
            "Epoch 250/300\n",
            "721/721 [==============================] - 2s 3ms/step - loss: 15.6466 - mse: 15.6466 - val_loss: 18.2250 - val_mse: 18.2250\n",
            "Epoch 251/300\n",
            "721/721 [==============================] - 2s 3ms/step - loss: 12.8139 - mse: 12.8139 - val_loss: 20.4094 - val_mse: 20.4094\n",
            "Epoch 252/300\n",
            "721/721 [==============================] - 2s 3ms/step - loss: 14.6177 - mse: 14.6177 - val_loss: 19.0897 - val_mse: 19.0897\n",
            "Epoch 253/300\n",
            "721/721 [==============================] - 2s 3ms/step - loss: 14.1974 - mse: 14.1974 - val_loss: 20.1250 - val_mse: 20.1250\n",
            "Epoch 254/300\n",
            "721/721 [==============================] - 2s 3ms/step - loss: 14.5275 - mse: 14.5275 - val_loss: 20.9571 - val_mse: 20.9571\n",
            "Epoch 255/300\n",
            "721/721 [==============================] - 2s 3ms/step - loss: 14.6649 - mse: 14.6649 - val_loss: 18.9442 - val_mse: 18.9442\n",
            "Epoch 256/300\n",
            "721/721 [==============================] - 2s 3ms/step - loss: 13.0730 - mse: 13.0730 - val_loss: 18.0030 - val_mse: 18.0030\n",
            "Epoch 257/300\n",
            "721/721 [==============================] - 2s 3ms/step - loss: 14.7682 - mse: 14.7682 - val_loss: 19.3435 - val_mse: 19.3435\n",
            "Epoch 258/300\n",
            "721/721 [==============================] - 2s 3ms/step - loss: 13.2882 - mse: 13.2882 - val_loss: 23.4772 - val_mse: 23.4772\n",
            "Epoch 259/300\n",
            "721/721 [==============================] - 2s 3ms/step - loss: 14.3831 - mse: 14.3831 - val_loss: 18.4491 - val_mse: 18.4491\n",
            "Epoch 260/300\n",
            "721/721 [==============================] - 2s 3ms/step - loss: 13.7363 - mse: 13.7363 - val_loss: 20.4829 - val_mse: 20.4829\n",
            "Epoch 261/300\n",
            "721/721 [==============================] - 2s 3ms/step - loss: 14.9902 - mse: 14.9902 - val_loss: 20.5478 - val_mse: 20.5478\n",
            "Epoch 262/300\n",
            "721/721 [==============================] - 2s 3ms/step - loss: 16.9169 - mse: 16.9169 - val_loss: 22.3627 - val_mse: 22.3627\n",
            "Epoch 263/300\n",
            "721/721 [==============================] - 2s 3ms/step - loss: 13.0480 - mse: 13.0480 - val_loss: 18.6230 - val_mse: 18.6230\n",
            "Epoch 264/300\n",
            "721/721 [==============================] - 2s 3ms/step - loss: 12.6416 - mse: 12.6416 - val_loss: 20.5115 - val_mse: 20.5115\n",
            "Epoch 265/300\n",
            "721/721 [==============================] - 2s 3ms/step - loss: 13.7541 - mse: 13.7541 - val_loss: 20.3353 - val_mse: 20.3353\n",
            "Epoch 266/300\n",
            "721/721 [==============================] - 2s 3ms/step - loss: 14.1282 - mse: 14.1282 - val_loss: 21.2335 - val_mse: 21.2335\n",
            "Epoch 267/300\n",
            "721/721 [==============================] - 2s 3ms/step - loss: 14.2022 - mse: 14.2022 - val_loss: 20.1809 - val_mse: 20.1809\n",
            "Epoch 268/300\n",
            "721/721 [==============================] - 2s 3ms/step - loss: 13.0917 - mse: 13.0917 - val_loss: 18.5465 - val_mse: 18.5465\n",
            "Epoch 269/300\n",
            "721/721 [==============================] - 2s 3ms/step - loss: 14.1043 - mse: 14.1043 - val_loss: 19.3802 - val_mse: 19.3802\n",
            "Epoch 270/300\n",
            "721/721 [==============================] - 2s 3ms/step - loss: 14.2277 - mse: 14.2277 - val_loss: 20.0205 - val_mse: 20.0205\n",
            "Epoch 271/300\n",
            "721/721 [==============================] - 2s 3ms/step - loss: 12.9561 - mse: 12.9561 - val_loss: 19.3482 - val_mse: 19.3482\n",
            "Epoch 272/300\n",
            "721/721 [==============================] - 2s 3ms/step - loss: 13.6638 - mse: 13.6638 - val_loss: 21.1352 - val_mse: 21.1352\n",
            "Epoch 273/300\n",
            "721/721 [==============================] - 2s 3ms/step - loss: 14.4245 - mse: 14.4245 - val_loss: 19.9243 - val_mse: 19.9243\n",
            "Epoch 274/300\n",
            "721/721 [==============================] - 2s 3ms/step - loss: 12.6954 - mse: 12.6954 - val_loss: 21.8709 - val_mse: 21.8709\n",
            "Epoch 275/300\n",
            "721/721 [==============================] - 2s 3ms/step - loss: 13.3389 - mse: 13.3389 - val_loss: 19.2295 - val_mse: 19.2295\n",
            "Epoch 276/300\n",
            "721/721 [==============================] - 2s 3ms/step - loss: 12.9056 - mse: 12.9056 - val_loss: 20.2897 - val_mse: 20.2897\n",
            "Epoch 277/300\n",
            "721/721 [==============================] - 2s 3ms/step - loss: 14.2740 - mse: 14.2740 - val_loss: 17.5914 - val_mse: 17.5914\n",
            "Epoch 278/300\n",
            "721/721 [==============================] - 2s 3ms/step - loss: 12.8794 - mse: 12.8794 - val_loss: 18.8568 - val_mse: 18.8568\n",
            "Epoch 279/300\n",
            "721/721 [==============================] - 2s 3ms/step - loss: 12.6323 - mse: 12.6323 - val_loss: 19.0032 - val_mse: 19.0032\n",
            "Epoch 280/300\n",
            "721/721 [==============================] - 2s 3ms/step - loss: 12.2609 - mse: 12.2609 - val_loss: 21.0731 - val_mse: 21.0731\n",
            "Epoch 281/300\n",
            "721/721 [==============================] - 2s 3ms/step - loss: 14.2002 - mse: 14.2002 - val_loss: 19.7668 - val_mse: 19.7668\n",
            "Epoch 282/300\n",
            "721/721 [==============================] - 3s 4ms/step - loss: 14.8670 - mse: 14.8670 - val_loss: 18.4191 - val_mse: 18.4191\n",
            "Epoch 283/300\n",
            "721/721 [==============================] - 2s 3ms/step - loss: 14.7806 - mse: 14.7806 - val_loss: 18.5725 - val_mse: 18.5725\n",
            "Epoch 284/300\n",
            "721/721 [==============================] - 2s 3ms/step - loss: 14.5683 - mse: 14.5683 - val_loss: 23.6084 - val_mse: 23.6084\n",
            "Epoch 285/300\n",
            "721/721 [==============================] - 2s 3ms/step - loss: 14.0622 - mse: 14.0622 - val_loss: 21.5800 - val_mse: 21.5800\n",
            "Epoch 286/300\n",
            "721/721 [==============================] - 2s 3ms/step - loss: 15.0132 - mse: 15.0132 - val_loss: 19.4676 - val_mse: 19.4676\n",
            "Epoch 287/300\n",
            "721/721 [==============================] - 2s 3ms/step - loss: 12.0669 - mse: 12.0669 - val_loss: 20.1119 - val_mse: 20.1119\n",
            "Epoch 288/300\n",
            "721/721 [==============================] - 2s 3ms/step - loss: 14.4224 - mse: 14.4224 - val_loss: 19.7351 - val_mse: 19.7351\n",
            "Epoch 289/300\n",
            "721/721 [==============================] - 2s 3ms/step - loss: 13.1029 - mse: 13.1029 - val_loss: 17.6228 - val_mse: 17.6228\n",
            "Epoch 290/300\n",
            "721/721 [==============================] - 2s 3ms/step - loss: 12.3120 - mse: 12.3120 - val_loss: 19.3320 - val_mse: 19.3320\n",
            "Epoch 291/300\n",
            "721/721 [==============================] - 2s 3ms/step - loss: 14.5711 - mse: 14.5711 - val_loss: 18.7772 - val_mse: 18.7772\n",
            "Epoch 292/300\n",
            "721/721 [==============================] - 2s 3ms/step - loss: 13.9353 - mse: 13.9353 - val_loss: 18.9408 - val_mse: 18.9408\n",
            "Epoch 293/300\n",
            "721/721 [==============================] - 2s 3ms/step - loss: 11.9583 - mse: 11.9583 - val_loss: 19.0734 - val_mse: 19.0734\n",
            "Epoch 294/300\n",
            "721/721 [==============================] - 2s 3ms/step - loss: 13.9820 - mse: 13.9820 - val_loss: 19.2510 - val_mse: 19.2510\n",
            "Epoch 295/300\n",
            "721/721 [==============================] - 3s 4ms/step - loss: 13.0256 - mse: 13.0256 - val_loss: 19.2522 - val_mse: 19.2522\n",
            "Epoch 296/300\n",
            "721/721 [==============================] - 3s 4ms/step - loss: 13.6751 - mse: 13.6751 - val_loss: 19.5074 - val_mse: 19.5074\n",
            "Epoch 297/300\n",
            "721/721 [==============================] - 2s 3ms/step - loss: 13.3951 - mse: 13.3951 - val_loss: 18.8671 - val_mse: 18.8671\n",
            "Epoch 298/300\n",
            "721/721 [==============================] - 2s 3ms/step - loss: 13.4922 - mse: 13.4922 - val_loss: 19.6290 - val_mse: 19.6290\n",
            "Epoch 299/300\n",
            "721/721 [==============================] - 3s 3ms/step - loss: 14.9719 - mse: 14.9719 - val_loss: 20.9125 - val_mse: 20.9125\n",
            "Epoch 300/300\n",
            "721/721 [==============================] - 2s 3ms/step - loss: 14.1323 - mse: 14.1323 - val_loss: 19.9050 - val_mse: 19.9050\n"
          ],
          "name": "stdout"
        }
      ]
    },
    {
      "cell_type": "code",
      "metadata": {
        "id": "-xSF9iTKaM6O",
        "outputId": "799f5e77-87c8-4816-94d2-26ef0e5ed6b4",
        "colab": {
          "base_uri": "https://localhost:8080/",
          "height": 1000
        }
      },
      "source": [
        "y_pred_hyper=model_hyper.predict(X_test)\n",
        "y_pred_hyper"
      ],
      "execution_count": 198,
      "outputs": [
        {
          "output_type": "execute_result",
          "data": {
            "text/plain": [
              "array([[39.179825 ],\n",
              "       [ 6.7854066],\n",
              "       [60.1818   ],\n",
              "       [36.681866 ],\n",
              "       [34.95796  ],\n",
              "       [54.543484 ],\n",
              "       [46.867977 ],\n",
              "       [54.632896 ],\n",
              "       [47.068226 ],\n",
              "       [38.611122 ],\n",
              "       [39.384457 ],\n",
              "       [12.227238 ],\n",
              "       [22.307993 ],\n",
              "       [33.511826 ],\n",
              "       [52.718136 ],\n",
              "       [28.212297 ],\n",
              "       [27.577034 ],\n",
              "       [28.439838 ],\n",
              "       [30.107967 ],\n",
              "       [41.419796 ],\n",
              "       [26.439396 ],\n",
              "       [64.272156 ],\n",
              "       [12.078466 ],\n",
              "       [39.843616 ],\n",
              "       [36.515766 ],\n",
              "       [43.055065 ],\n",
              "       [12.71175  ],\n",
              "       [28.548542 ],\n",
              "       [34.19863  ],\n",
              "       [10.586068 ],\n",
              "       [34.737885 ],\n",
              "       [10.35165  ],\n",
              "       [65.79268  ],\n",
              "       [19.396896 ],\n",
              "       [52.420937 ],\n",
              "       [31.104385 ],\n",
              "       [39.00024  ],\n",
              "       [64.493355 ],\n",
              "       [25.535336 ],\n",
              "       [37.74762  ],\n",
              "       [70.95399  ],\n",
              "       [22.777128 ],\n",
              "       [31.265236 ],\n",
              "       [22.306572 ],\n",
              "       [39.773182 ],\n",
              "       [44.63707  ],\n",
              "       [27.11259  ],\n",
              "       [59.400753 ],\n",
              "       [31.17709  ],\n",
              "       [18.338226 ],\n",
              "       [38.811142 ],\n",
              "       [33.49345  ],\n",
              "       [30.517076 ],\n",
              "       [30.239964 ],\n",
              "       [36.348873 ],\n",
              "       [69.5906   ],\n",
              "       [73.95805  ],\n",
              "       [48.409695 ],\n",
              "       [46.66741  ],\n",
              "       [60.432365 ],\n",
              "       [47.377457 ],\n",
              "       [37.604687 ],\n",
              "       [31.044012 ],\n",
              "       [24.23355  ],\n",
              "       [ 8.4837675],\n",
              "       [39.97356  ],\n",
              "       [15.644892 ],\n",
              "       [63.89998  ],\n",
              "       [60.694656 ],\n",
              "       [24.002855 ],\n",
              "       [12.500519 ],\n",
              "       [47.843872 ],\n",
              "       [53.052547 ],\n",
              "       [20.224329 ],\n",
              "       [12.342184 ],\n",
              "       [56.05056  ],\n",
              "       [60.847576 ],\n",
              "       [11.8749695],\n",
              "       [74.32157  ],\n",
              "       [ 9.5387335],\n",
              "       [24.246115 ],\n",
              "       [12.329622 ],\n",
              "       [45.663647 ],\n",
              "       [27.825947 ],\n",
              "       [32.423603 ],\n",
              "       [73.95805  ],\n",
              "       [41.885426 ],\n",
              "       [14.2194   ],\n",
              "       [22.581997 ],\n",
              "       [45.918034 ],\n",
              "       [25.66534  ],\n",
              "       [12.039843 ],\n",
              "       [23.783241 ],\n",
              "       [34.4895   ],\n",
              "       [37.899216 ],\n",
              "       [32.84572  ],\n",
              "       [24.313814 ],\n",
              "       [38.90639  ],\n",
              "       [35.958866 ],\n",
              "       [35.504    ],\n",
              "       [58.015205 ],\n",
              "       [27.02792  ],\n",
              "       [41.004623 ],\n",
              "       [21.530416 ],\n",
              "       [17.26106  ],\n",
              "       [34.884933 ],\n",
              "       [38.902554 ],\n",
              "       [33.545696 ],\n",
              "       [38.011127 ],\n",
              "       [17.68019  ],\n",
              "       [32.753178 ],\n",
              "       [12.556494 ],\n",
              "       [42.77125  ],\n",
              "       [59.69607  ],\n",
              "       [33.03652  ],\n",
              "       [52.974323 ],\n",
              "       [25.835072 ],\n",
              "       [48.102856 ],\n",
              "       [71.75707  ],\n",
              "       [10.887698 ],\n",
              "       [15.856129 ],\n",
              "       [33.73254  ],\n",
              "       [24.55089  ],\n",
              "       [52.723145 ],\n",
              "       [47.29836  ],\n",
              "       [26.158396 ],\n",
              "       [42.804943 ],\n",
              "       [74.577805 ],\n",
              "       [34.891865 ],\n",
              "       [44.402008 ],\n",
              "       [41.07286  ],\n",
              "       [42.755783 ],\n",
              "       [22.402975 ],\n",
              "       [71.51836  ],\n",
              "       [39.986847 ],\n",
              "       [46.3243   ],\n",
              "       [39.23895  ],\n",
              "       [32.873444 ],\n",
              "       [53.393646 ],\n",
              "       [24.712383 ],\n",
              "       [29.261568 ],\n",
              "       [36.840084 ],\n",
              "       [35.240997 ],\n",
              "       [32.688755 ],\n",
              "       [29.010868 ],\n",
              "       [10.456725 ],\n",
              "       [52.702602 ],\n",
              "       [28.982252 ],\n",
              "       [15.247921 ],\n",
              "       [44.65243  ],\n",
              "       [35.098846 ],\n",
              "       [14.393658 ],\n",
              "       [24.081709 ],\n",
              "       [20.906929 ],\n",
              "       [25.421339 ],\n",
              "       [40.821808 ],\n",
              "       [62.364216 ],\n",
              "       [37.030952 ],\n",
              "       [14.046005 ],\n",
              "       [34.282417 ],\n",
              "       [39.46674  ],\n",
              "       [32.53321  ],\n",
              "       [31.289946 ],\n",
              "       [11.035662 ],\n",
              "       [44.806396 ],\n",
              "       [13.010269 ],\n",
              "       [13.266169 ],\n",
              "       [30.966251 ],\n",
              "       [41.70205  ],\n",
              "       [11.595814 ],\n",
              "       [39.325653 ],\n",
              "       [53.430206 ],\n",
              "       [32.866535 ],\n",
              "       [40.06544  ],\n",
              "       [56.951267 ],\n",
              "       [27.196424 ],\n",
              "       [21.903763 ],\n",
              "       [12.389509 ],\n",
              "       [30.76752  ],\n",
              "       [50.716633 ],\n",
              "       [67.37202  ],\n",
              "       [38.711544 ],\n",
              "       [50.475815 ],\n",
              "       [11.818085 ],\n",
              "       [75.81565  ],\n",
              "       [11.700693 ],\n",
              "       [24.874739 ],\n",
              "       [37.24803  ],\n",
              "       [39.521866 ],\n",
              "       [38.420567 ],\n",
              "       [39.967457 ],\n",
              "       [25.436396 ],\n",
              "       [35.700344 ],\n",
              "       [58.134098 ],\n",
              "       [24.217587 ],\n",
              "       [21.404291 ],\n",
              "       [20.843481 ],\n",
              "       [26.208755 ],\n",
              "       [26.333199 ],\n",
              "       [12.919821 ],\n",
              "       [36.2488   ],\n",
              "       [32.214462 ],\n",
              "       [38.019836 ],\n",
              "       [57.684    ],\n",
              "       [53.44041  ],\n",
              "       [42.77317  ],\n",
              "       [45.603176 ],\n",
              "       [52.635036 ],\n",
              "       [15.94915  ],\n",
              "       [14.303865 ],\n",
              "       [54.30787  ],\n",
              "       [44.387405 ],\n",
              "       [38.69343  ],\n",
              "       [24.002228 ],\n",
              "       [24.594868 ],\n",
              "       [53.244595 ],\n",
              "       [24.904701 ],\n",
              "       [41.521935 ],\n",
              "       [39.538868 ],\n",
              "       [49.304306 ],\n",
              "       [17.97398  ],\n",
              "       [44.870403 ],\n",
              "       [35.09306  ],\n",
              "       [18.397715 ],\n",
              "       [30.938976 ],\n",
              "       [21.125751 ],\n",
              "       [31.237234 ],\n",
              "       [16.347267 ],\n",
              "       [30.284313 ],\n",
              "       [63.7338   ],\n",
              "       [56.521088 ],\n",
              "       [18.680183 ],\n",
              "       [31.321354 ],\n",
              "       [63.41045  ],\n",
              "       [15.66194  ],\n",
              "       [24.232769 ],\n",
              "       [35.519943 ],\n",
              "       [36.966976 ],\n",
              "       [12.645519 ],\n",
              "       [60.86739  ],\n",
              "       [28.756584 ],\n",
              "       [30.054499 ],\n",
              "       [32.80552  ],\n",
              "       [55.461224 ],\n",
              "       [11.93671  ],\n",
              "       [54.00127  ],\n",
              "       [48.174988 ],\n",
              "       [35.94175  ],\n",
              "       [30.667683 ],\n",
              "       [35.35381  ],\n",
              "       [39.643658 ],\n",
              "       [52.930454 ],\n",
              "       [10.834239 ],\n",
              "       [61.192223 ],\n",
              "       [50.277634 ],\n",
              "       [25.71038  ],\n",
              "       [ 8.479567 ],\n",
              "       [44.025326 ],\n",
              "       [35.70818  ],\n",
              "       [56.951267 ],\n",
              "       [32.396435 ],\n",
              "       [76.093    ],\n",
              "       [12.956936 ],\n",
              "       [32.98506  ],\n",
              "       [21.436405 ],\n",
              "       [40.625744 ],\n",
              "       [26.982567 ],\n",
              "       [29.5091   ],\n",
              "       [56.73965  ],\n",
              "       [29.923813 ],\n",
              "       [11.041067 ],\n",
              "       [49.138966 ],\n",
              "       [31.88899  ],\n",
              "       [33.95088  ],\n",
              "       [52.842323 ],\n",
              "       [29.464014 ],\n",
              "       [31.40759  ],\n",
              "       [40.231934 ],\n",
              "       [15.725517 ],\n",
              "       [38.44822  ],\n",
              "       [25.66808  ],\n",
              "       [71.75707  ],\n",
              "       [17.099062 ],\n",
              "       [32.70587  ],\n",
              "       [17.589815 ],\n",
              "       [68.29362  ],\n",
              "       [41.713085 ],\n",
              "       [11.864201 ],\n",
              "       [15.736059 ],\n",
              "       [16.417479 ],\n",
              "       [28.04611  ],\n",
              "       [24.374502 ],\n",
              "       [31.201542 ],\n",
              "       [40.63335  ],\n",
              "       [73.75438  ],\n",
              "       [51.115593 ],\n",
              "       [22.519428 ],\n",
              "       [50.90582  ],\n",
              "       [16.509508 ],\n",
              "       [30.778664 ],\n",
              "       [40.02096  ],\n",
              "       [44.04551  ],\n",
              "       [53.25881  ],\n",
              "       [22.604483 ],\n",
              "       [38.762    ],\n",
              "       [25.19757  ],\n",
              "       [42.507347 ],\n",
              "       [54.877964 ],\n",
              "       [13.82258  ]], dtype=float32)"
            ]
          },
          "metadata": {
            "tags": []
          },
          "execution_count": 198
        }
      ]
    },
    {
      "cell_type": "code",
      "metadata": {
        "id": "TWtyqoPIZx0B",
        "outputId": "d4fc1124-b144-49f2-a8ac-cb31a2a01c7e",
        "colab": {
          "base_uri": "https://localhost:8080/",
          "height": 34
        }
      },
      "source": [
        "from sklearn.metrics import r2_score\n",
        "print(r2_score(y_test,y_pred_hyper))"
      ],
      "execution_count": 199,
      "outputs": [
        {
          "output_type": "stream",
          "text": [
            "0.9269099741168522\n"
          ],
          "name": "stdout"
        }
      ]
    },
    {
      "cell_type": "code",
      "metadata": {
        "id": "KIdprF-qa8Pg",
        "outputId": "65a3c69e-d46e-468f-da19-8d4185d1a839",
        "colab": {
          "base_uri": "https://localhost:8080/",
          "height": 573
        }
      },
      "source": [
        "# Plotting Loss And Root Mean Square Error For both Training And Test Sets\n",
        "plt.plot(r_hyper.history['mse'])\n",
        "plt.plot(r_hyper.history['val_mse'])\n",
        "plt.title('Mean Squared Error')\n",
        "plt.ylabel('mse')\n",
        "plt.xlabel('epoch')\n",
        "plt.legend(['train', 'test'], loc='upper left')\n",
        "plt.show()\n",
        "# summarize history for loss\n",
        "plt.plot(r_hyper.history['loss'])\n",
        "plt.plot(r_hyper.history['val_loss'])\n",
        "plt.title('model loss')\n",
        "plt.ylabel('loss')\n",
        "plt.xlabel('epoch')\n",
        "plt.legend(['train', 'test'], loc='upper left')\n",
        "plt.show()"
      ],
      "execution_count": 200,
      "outputs": [
        {
          "output_type": "display_data",
          "data": {
            "image/png": "[encoded data removed]",
            "text/plain": [
              "<Figure size 432x288 with 1 Axes>"
            ]
          },
          "metadata": {
            "tags": [],
            "needs_background": "light"
          }
        },
        {
          "output_type": "display_data",
          "data": {
            "image/png": "[encoded data removed]",
            "text/plain": [
              "<Figure size 432x288 with 1 Axes>"
            ]
          },
          "metadata": {
            "tags": [],
            "needs_background": "light"
          }
        }
      ]
    },
    {
      "cell_type": "code",
      "metadata": {
        "id": "IEdeg0ARcwew",
        "outputId": "5b580022-fab1-4ffd-b23e-2a7f8db9a437",
        "colab": {
          "base_uri": "https://localhost:8080/",
          "height": 187
        }
      },
      "source": [
        "df.iloc[400]"
      ],
      "execution_count": 201,
      "outputs": [
        {
          "output_type": "execute_result",
          "data": {
            "text/plain": [
              "Cement                  250.00\n",
              "Blast Furnace Slag      180.00\n",
              "Fly Ash                  95.00\n",
              "Water                   159.00\n",
              "Superplasticizer          9.50\n",
              "Coarse Aggregate        860.00\n",
              "Fine Aggregate          800.00\n",
              "Age                      28.00\n",
              "Compressive Strength     67.87\n",
              "Name: 400, dtype: float64"
            ]
          },
          "metadata": {
            "tags": []
          },
          "execution_count": 201
        }
      ]
    },
    {
      "cell_type": "code",
      "metadata": {
        "id": "Do-zMTmRdBaP",
        "outputId": "db88ca78-1a41-45dc-d53d-d2ea1c53e033",
        "colab": {
          "base_uri": "https://localhost:8080/",
          "height": 34
        }
      },
      "source": [
        "a=[[250,180,95,159,9.5,860,800,28]]\n",
        "a=s.transform(a)\n",
        "b=model_hyper.predict(a)\n",
        "b"
      ],
      "execution_count": 202,
      "outputs": [
        {
          "output_type": "execute_result",
          "data": {
            "text/plain": [
              "array([[67.9315]], dtype=float32)"
            ]
          },
          "metadata": {
            "tags": []
          },
          "execution_count": 202
        }
      ]
    },
    {
      "cell_type": "code",
      "metadata": {
        "id": "LJhTZ-T2hkA7",
        "outputId": "5c69b414-c818-467c-937d-4382743d5413",
        "colab": {
          "base_uri": "https://localhost:8080/",
          "height": 419
        }
      },
      "source": [
        "y_test\n",
        "y_test1=pd.DataFrame(y_test)\n",
        "\n",
        "y_test1.columns=['y_test']\n",
        "y_test1=y_test1.reset_index()\n",
        "y_test1"
      ],
      "execution_count": 203,
      "outputs": [
        {
          "output_type": "execute_result",
          "data": {
            "text/html": [
              "<div>\n",
              "<style scoped>\n",
              "    .dataframe tbody tr th:only-of-type {\n",
              "        vertical-align: middle;\n",
              "    }\n",
              "\n",
              "    .dataframe tbody tr th {\n",
              "        vertical-align: top;\n",
              "    }\n",
              "\n",
              "    .dataframe thead th {\n",
              "        text-align: right;\n",
              "    }\n",
              "</style>\n",
              "<table border=\"1\" class=\"dataframe\">\n",
              "  <thead>\n",
              "    <tr style=\"text-align: right;\">\n",
              "      <th></th>\n",
              "      <th>index</th>\n",
              "      <th>y_test</th>\n",
              "    </tr>\n",
              "  </thead>\n",
              "  <tbody>\n",
              "    <tr>\n",
              "      <th>0</th>\n",
              "      <td>559</td>\n",
              "      <td>39.44</td>\n",
              "    </tr>\n",
              "    <tr>\n",
              "      <th>1</th>\n",
              "      <td>705</td>\n",
              "      <td>3.32</td>\n",
              "    </tr>\n",
              "    <tr>\n",
              "      <th>2</th>\n",
              "      <td>500</td>\n",
              "      <td>57.92</td>\n",
              "    </tr>\n",
              "    <tr>\n",
              "      <th>3</th>\n",
              "      <td>218</td>\n",
              "      <td>40.39</td>\n",
              "    </tr>\n",
              "    <tr>\n",
              "      <th>4</th>\n",
              "      <td>836</td>\n",
              "      <td>33.42</td>\n",
              "    </tr>\n",
              "    <tr>\n",
              "      <th>...</th>\n",
              "      <td>...</td>\n",
              "      <td>...</td>\n",
              "    </tr>\n",
              "    <tr>\n",
              "      <th>304</th>\n",
              "      <td>80</td>\n",
              "      <td>33.40</td>\n",
              "    </tr>\n",
              "    <tr>\n",
              "      <th>305</th>\n",
              "      <td>893</td>\n",
              "      <td>23.52</td>\n",
              "    </tr>\n",
              "    <tr>\n",
              "      <th>306</th>\n",
              "      <td>84</td>\n",
              "      <td>28.30</td>\n",
              "    </tr>\n",
              "    <tr>\n",
              "      <th>307</th>\n",
              "      <td>742</td>\n",
              "      <td>54.28</td>\n",
              "    </tr>\n",
              "    <tr>\n",
              "      <th>308</th>\n",
              "      <td>704</td>\n",
              "      <td>9.73</td>\n",
              "    </tr>\n",
              "  </tbody>\n",
              "</table>\n",
              "<p>309 rows × 2 columns</p>\n",
              "</div>"
            ],
            "text/plain": [
              "     index  y_test\n",
              "0      559   39.44\n",
              "1      705    3.32\n",
              "2      500   57.92\n",
              "3      218   40.39\n",
              "4      836   33.42\n",
              "..     ...     ...\n",
              "304     80   33.40\n",
              "305    893   23.52\n",
              "306     84   28.30\n",
              "307    742   54.28\n",
              "308    704    9.73\n",
              "\n",
              "[309 rows x 2 columns]"
            ]
          },
          "metadata": {
            "tags": []
          },
          "execution_count": 203
        }
      ]
    },
    {
      "cell_type": "code",
      "metadata": {
        "id": "AYnjma5-dHfH",
        "outputId": "3ab5a984-12ae-4d92-95f2-053dd99408c1",
        "colab": {
          "base_uri": "https://localhost:8080/",
          "height": 419
        }
      },
      "source": [
        "y_pred_hyper\n",
        "y_pred_hyper1=pd.DataFrame(y_pred_hyper)\n",
        "y_pred_hyper1.columns=['y_pred_hyper']\n",
        "y_pred_hyper1['index1']=y_test1['index']\n",
        "y_pred_hyper1"
      ],
      "execution_count": 204,
      "outputs": [
        {
          "output_type": "execute_result",
          "data": {
            "text/html": [
              "<div>\n",
              "<style scoped>\n",
              "    .dataframe tbody tr th:only-of-type {\n",
              "        vertical-align: middle;\n",
              "    }\n",
              "\n",
              "    .dataframe tbody tr th {\n",
              "        vertical-align: top;\n",
              "    }\n",
              "\n",
              "    .dataframe thead th {\n",
              "        text-align: right;\n",
              "    }\n",
              "</style>\n",
              "<table border=\"1\" class=\"dataframe\">\n",
              "  <thead>\n",
              "    <tr style=\"text-align: right;\">\n",
              "      <th></th>\n",
              "      <th>y_pred_hyper</th>\n",
              "      <th>index1</th>\n",
              "    </tr>\n",
              "  </thead>\n",
              "  <tbody>\n",
              "    <tr>\n",
              "      <th>0</th>\n",
              "      <td>39.179825</td>\n",
              "      <td>559</td>\n",
              "    </tr>\n",
              "    <tr>\n",
              "      <th>1</th>\n",
              "      <td>6.785407</td>\n",
              "      <td>705</td>\n",
              "    </tr>\n",
              "    <tr>\n",
              "      <th>2</th>\n",
              "      <td>60.181801</td>\n",
              "      <td>500</td>\n",
              "    </tr>\n",
              "    <tr>\n",
              "      <th>3</th>\n",
              "      <td>36.681866</td>\n",
              "      <td>218</td>\n",
              "    </tr>\n",
              "    <tr>\n",
              "      <th>4</th>\n",
              "      <td>34.957958</td>\n",
              "      <td>836</td>\n",
              "    </tr>\n",
              "    <tr>\n",
              "      <th>...</th>\n",
              "      <td>...</td>\n",
              "      <td>...</td>\n",
              "    </tr>\n",
              "    <tr>\n",
              "      <th>304</th>\n",
              "      <td>38.762001</td>\n",
              "      <td>80</td>\n",
              "    </tr>\n",
              "    <tr>\n",
              "      <th>305</th>\n",
              "      <td>25.197571</td>\n",
              "      <td>893</td>\n",
              "    </tr>\n",
              "    <tr>\n",
              "      <th>306</th>\n",
              "      <td>42.507347</td>\n",
              "      <td>84</td>\n",
              "    </tr>\n",
              "    <tr>\n",
              "      <th>307</th>\n",
              "      <td>54.877964</td>\n",
              "      <td>742</td>\n",
              "    </tr>\n",
              "    <tr>\n",
              "      <th>308</th>\n",
              "      <td>13.822580</td>\n",
              "      <td>704</td>\n",
              "    </tr>\n",
              "  </tbody>\n",
              "</table>\n",
              "<p>309 rows × 2 columns</p>\n",
              "</div>"
            ],
            "text/plain": [
              "     y_pred_hyper  index1\n",
              "0       39.179825     559\n",
              "1        6.785407     705\n",
              "2       60.181801     500\n",
              "3       36.681866     218\n",
              "4       34.957958     836\n",
              "..            ...     ...\n",
              "304     38.762001      80\n",
              "305     25.197571     893\n",
              "306     42.507347      84\n",
              "307     54.877964     742\n",
              "308     13.822580     704\n",
              "\n",
              "[309 rows x 2 columns]"
            ]
          },
          "metadata": {
            "tags": []
          },
          "execution_count": 204
        }
      ]
    },
    {
      "cell_type": "code",
      "metadata": {
        "id": "Zs2o4WqghZQR",
        "outputId": "7f3b32b3-fa4b-4cbe-e0f0-872ab6310183",
        "colab": {
          "base_uri": "https://localhost:8080/",
          "height": 419
        }
      },
      "source": [
        "result1=pd.concat([y_test1,y_pred_hyper1],axis=1)\n",
        "result1.drop('index1',axis=1)"
      ],
      "execution_count": 205,
      "outputs": [
        {
          "output_type": "execute_result",
          "data": {
            "text/html": [
              "<div>\n",
              "<style scoped>\n",
              "    .dataframe tbody tr th:only-of-type {\n",
              "        vertical-align: middle;\n",
              "    }\n",
              "\n",
              "    .dataframe tbody tr th {\n",
              "        vertical-align: top;\n",
              "    }\n",
              "\n",
              "    .dataframe thead th {\n",
              "        text-align: right;\n",
              "    }\n",
              "</style>\n",
              "<table border=\"1\" class=\"dataframe\">\n",
              "  <thead>\n",
              "    <tr style=\"text-align: right;\">\n",
              "      <th></th>\n",
              "      <th>index</th>\n",
              "      <th>y_test</th>\n",
              "      <th>y_pred_hyper</th>\n",
              "    </tr>\n",
              "  </thead>\n",
              "  <tbody>\n",
              "    <tr>\n",
              "      <th>0</th>\n",
              "      <td>559</td>\n",
              "      <td>39.44</td>\n",
              "      <td>39.179825</td>\n",
              "    </tr>\n",
              "    <tr>\n",
              "      <th>1</th>\n",
              "      <td>705</td>\n",
              "      <td>3.32</td>\n",
              "      <td>6.785407</td>\n",
              "    </tr>\n",
              "    <tr>\n",
              "      <th>2</th>\n",
              "      <td>500</td>\n",
              "      <td>57.92</td>\n",
              "      <td>60.181801</td>\n",
              "    </tr>\n",
              "    <tr>\n",
              "      <th>3</th>\n",
              "      <td>218</td>\n",
              "      <td>40.39</td>\n",
              "      <td>36.681866</td>\n",
              "    </tr>\n",
              "    <tr>\n",
              "      <th>4</th>\n",
              "      <td>836</td>\n",
              "      <td>33.42</td>\n",
              "      <td>34.957958</td>\n",
              "    </tr>\n",
              "    <tr>\n",
              "      <th>...</th>\n",
              "      <td>...</td>\n",
              "      <td>...</td>\n",
              "      <td>...</td>\n",
              "    </tr>\n",
              "    <tr>\n",
              "      <th>304</th>\n",
              "      <td>80</td>\n",
              "      <td>33.40</td>\n",
              "      <td>38.762001</td>\n",
              "    </tr>\n",
              "    <tr>\n",
              "      <th>305</th>\n",
              "      <td>893</td>\n",
              "      <td>23.52</td>\n",
              "      <td>25.197571</td>\n",
              "    </tr>\n",
              "    <tr>\n",
              "      <th>306</th>\n",
              "      <td>84</td>\n",
              "      <td>28.30</td>\n",
              "      <td>42.507347</td>\n",
              "    </tr>\n",
              "    <tr>\n",
              "      <th>307</th>\n",
              "      <td>742</td>\n",
              "      <td>54.28</td>\n",
              "      <td>54.877964</td>\n",
              "    </tr>\n",
              "    <tr>\n",
              "      <th>308</th>\n",
              "      <td>704</td>\n",
              "      <td>9.73</td>\n",
              "      <td>13.822580</td>\n",
              "    </tr>\n",
              "  </tbody>\n",
              "</table>\n",
              "<p>309 rows × 3 columns</p>\n",
              "</div>"
            ],
            "text/plain": [
              "     index  y_test  y_pred_hyper\n",
              "0      559   39.44     39.179825\n",
              "1      705    3.32      6.785407\n",
              "2      500   57.92     60.181801\n",
              "3      218   40.39     36.681866\n",
              "4      836   33.42     34.957958\n",
              "..     ...     ...           ...\n",
              "304     80   33.40     38.762001\n",
              "305    893   23.52     25.197571\n",
              "306     84   28.30     42.507347\n",
              "307    742   54.28     54.877964\n",
              "308    704    9.73     13.822580\n",
              "\n",
              "[309 rows x 3 columns]"
            ]
          },
          "metadata": {
            "tags": []
          },
          "execution_count": 205
        }
      ]
    },
    {
      "cell_type": "code",
      "metadata": {
        "id": "6IbYFu-7h1JA",
        "outputId": "557dd017-4c25-4b16-f1d1-b06e4a71e646",
        "colab": {
          "base_uri": "https://localhost:8080/",
          "height": 282
        }
      },
      "source": [
        "plt.scatter(result1['y_test'],result1['y_pred_hyper'])"
      ],
      "execution_count": 206,
      "outputs": [
        {
          "output_type": "execute_result",
          "data": {
            "text/plain": [
              "<matplotlib.collections.PathCollection at 0x7fde84069a90>"
            ]
          },
          "metadata": {
            "tags": []
          },
          "execution_count": 206
        },
        {
          "output_type": "display_data",
          "data": {
            "image/png": "[encoded data removed]",
            "text/plain": [
              "<Figure size 432x288 with 1 Axes>"
            ]
          },
          "metadata": {
            "tags": [],
            "needs_background": "light"
          }
        }
      ]
    },
    {
      "cell_type": "code",
      "metadata": {
        "id": "S6ZZ_uy3h9hL",
        "outputId": "d7ff8eef-5f93-4f4f-81aa-7303a4303d16",
        "colab": {
          "base_uri": "https://localhost:8080/",
          "height": 336
        }
      },
      "source": [
        "sns.distplot(result1['y_test']-result1['y_pred_hyper'])"
      ],
      "execution_count": 207,
      "outputs": [
        {
          "output_type": "stream",
          "text": [
            "/usr/local/lib/python3.6/dist-packages/seaborn/distributions.py:2551: FutureWarning: `distplot` is a deprecated function and will be removed in a future version. Please adapt your code to use either `displot` (a figure-level function with similar flexibility) or `histplot` (an axes-level function for histograms).\n",
            "  warnings.warn(msg, FutureWarning)\n"
          ],
          "name": "stderr"
        },
        {
          "output_type": "execute_result",
          "data": {
            "text/plain": [
              "<matplotlib.axes._subplots.AxesSubplot at 0x7fde85afed68>"
            ]
          },
          "metadata": {
            "tags": []
          },
          "execution_count": 207
        },
        {
          "output_type": "display_data",
          "data": {
            "image/png": "[encoded data removed]",
            "text/plain": [
              "<Figure size 432x288 with 1 Axes>"
            ]
          },
          "metadata": {
            "tags": [],
            "needs_background": "light"
          }
        }
      ]
    },
    {
      "cell_type": "code",
      "metadata": {
        "id": "wBBJgxFJk06I"
      },
      "source": [
        ""
      ],
      "execution_count": 192,
      "outputs": []
    }
  ]
}